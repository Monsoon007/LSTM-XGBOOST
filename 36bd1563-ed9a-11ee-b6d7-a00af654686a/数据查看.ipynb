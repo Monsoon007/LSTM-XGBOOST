{
 "cells": [
  {
   "cell_type": "code",
   "execution_count": 1,
   "metadata": {
    "ExecuteTime": {
     "end_time": "2024-03-29T08:43:08.555072400Z",
     "start_time": "2024-03-29T08:43:08.128996400Z"
    }
   },
   "outputs": [],
   "source": [
    "import numpy as np\n",
    "import pandas as pd\n",
    "from __future__ import print_function, absolute_import, unicode_literals\n",
    "from gm.api import *"
   ]
  },
  {
   "cell_type": "code",
   "execution_count": 7,
   "metadata": {},
   "outputs": [],
   "source": [
    "path = \"E:\\中国移动同步盘\\大四\\毕业设计\\数据\"\n",
    "# \"E:\\中国移动同步盘\\大四\\毕业设计\\数据\\macro.csv\"\n",
    "macroPath = path + \"\\macro.csv\"\n",
    "sentiPath = path + \"\\sentiment1.7.xlsx\"\n",
    "techPath = path + \"\\\\tech.xlsx\""
   ]
  },
  {
   "cell_type": "code",
   "execution_count": 8,
   "metadata": {},
   "outputs": [],
   "source": [
    "macro = pd.read_csv(macroPath)\n",
    "senti = pd.read_excel(sentiPath)\n",
    "tech = pd.read_excel(techPath)"
   ]
  },
  {
   "cell_type": "code",
   "execution_count": 11,
   "metadata": {},
   "outputs": [
    {
     "name": "stdout",
     "output_type": "stream",
     "text": [
      "2005-1-1 2022-9-9\n",
      "2017-08-08 00:00:00 2020-09-10 00:00:00\n",
      "2017-06-30 00:00:00 2020-09-10 00:00:00\n"
     ]
    }
   ],
   "source": [
    "# 打印比较三个数据的时间范围\n",
    "print(macro['date'].min(), macro['date'].max())\n",
    "print(senti['date'].min(), senti['date'].max())\n",
    "print(tech['date'].min(), tech['date'].max())"
   ]
  },
  {
   "cell_type": "code",
   "execution_count": 2,
   "metadata": {
    "ExecuteTime": {
     "end_time": "2024-03-29T08:43:12.326189Z",
     "start_time": "2024-03-29T08:43:11.735534700Z"
    }
   },
   "outputs": [
    {
     "ename": "GmError",
     "evalue": "{\"status\": 1000, \"message\": \"错误或无效的token\", \"function\": \"get_history_symbol\"}",
     "output_type": "error",
     "traceback": [
      "\u001B[1;31m---------------------------------------------------------------------------\u001B[0m",
      "\u001B[1;31mGmError\u001B[0m                                   Traceback (most recent call last)",
      "Cell \u001B[1;32mIn[2], line 1\u001B[0m\n\u001B[1;32m----> 1\u001B[0m \u001B[43mget_history_symbol\u001B[49m\u001B[43m(\u001B[49m\u001B[38;5;124;43m'\u001B[39;49m\u001B[38;5;124;43mSHSE.510300\u001B[39;49m\u001B[38;5;124;43m'\u001B[39;49m\u001B[43m,\u001B[49m\u001B[43m \u001B[49m\u001B[38;5;124;43m'\u001B[39;49m\u001B[38;5;124;43m2019-02-28\u001B[39;49m\u001B[38;5;124;43m'\u001B[39;49m\u001B[43m,\u001B[49m\u001B[43m \u001B[49m\u001B[38;5;124;43m'\u001B[39;49m\u001B[38;5;124;43m2020-02-28\u001B[39;49m\u001B[38;5;124;43m'\u001B[39;49m\u001B[43m,\u001B[49m\u001B[43mdf\u001B[49m\u001B[38;5;241;43m=\u001B[39;49m\u001B[38;5;28;43;01mTrue\u001B[39;49;00m\u001B[43m)\u001B[49m\n",
      "File \u001B[1;32mE:\\anaconda\\envs\\juejin\\lib\\site-packages\\gm\\api\\ds_instrument.py:121\u001B[0m, in \u001B[0;36mget_history_symbol\u001B[1;34m(symbol, start_date, end_date, df)\u001B[0m\n\u001B[0;32m    119\u001B[0m req \u001B[38;5;241m=\u001B[39m req\u001B[38;5;241m.\u001B[39mSerializeToString()\n\u001B[0;32m    120\u001B[0m status, result \u001B[38;5;241m=\u001B[39m py_gmi_get_history_symbol(req)\n\u001B[1;32m--> 121\u001B[0m \u001B[43mcheck_gm_status\u001B[49m\u001B[43m(\u001B[49m\u001B[43mstatus\u001B[49m\u001B[43m)\u001B[49m\n\u001B[0;32m    122\u001B[0m rsp \u001B[38;5;241m=\u001B[39m GetHistorySymbolResp()\n\u001B[0;32m    123\u001B[0m rsp\u001B[38;5;241m.\u001B[39mParseFromString(result)\n",
      "File \u001B[1;32mE:\\anaconda\\envs\\juejin\\lib\\site-packages\\gm\\api\\_errors.py:31\u001B[0m, in \u001B[0;36mcheck_gm_status\u001B[1;34m(status)\u001B[0m\n\u001B[0;32m     29\u001B[0m     message \u001B[38;5;241m+\u001B[39m\u001B[38;5;241m=\u001B[39m \u001B[38;5;124m\"\u001B[39m\u001B[38;5;124m; \u001B[39m\u001B[38;5;124m\"\u001B[39m \u001B[38;5;241m+\u001B[39m ext_message\n\u001B[0;32m     30\u001B[0m function \u001B[38;5;241m=\u001B[39m sys\u001B[38;5;241m.\u001B[39m_getframe()\u001B[38;5;241m.\u001B[39mf_back\u001B[38;5;241m.\u001B[39mf_code\u001B[38;5;241m.\u001B[39mco_name\n\u001B[1;32m---> 31\u001B[0m \u001B[38;5;28;01mraise\u001B[39;00m GmError(status, message, function)\n",
      "\u001B[1;31mGmError\u001B[0m: {\"status\": 1000, \"message\": \"错误或无效的token\", \"function\": \"get_history_symbol\"}"
     ]
    }
   ],
   "source": [
    " get_history_symbol('SHSE.510300', '2019-02-28', '2020-02-28',df=True)"
   ]
  }
 ],
 "metadata": {
  "kernelspec": {
   "display_name": "base",
   "language": "python",
   "name": "python3"
  },
  "language_info": {
   "codemirror_mode": {
    "name": "ipython",
    "version": 3
   },
   "file_extension": ".py",
   "mimetype": "text/x-python",
   "name": "python",
   "nbconvert_exporter": "python",
   "pygments_lexer": "ipython3",
   "version": "3.11.5"
  }
 },
 "nbformat": 4,
 "nbformat_minor": 2
}
