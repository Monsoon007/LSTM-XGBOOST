{
 "cells": [
  {
   "cell_type": "code",
   "execution_count": 1,
   "id": "fe85a908a2ce5388",
   "metadata": {
    "collapsed": false,
    "ExecuteTime": {
     "end_time": "2024-04-02T06:08:05.847042Z",
     "start_time": "2024-04-02T06:08:04.932747Z"
    }
   },
   "outputs": [],
   "source": [
    "# coding=utf-8\n",
    "from __future__ import print_function, absolute_import \n",
    "from gm.api import *"
   ]
  },
  {
   "cell_type": "code",
   "execution_count": 2,
   "id": "c392c8881c87144f",
   "metadata": {
    "collapsed": false,
    "ExecuteTime": {
     "end_time": "2024-04-02T06:08:08.547785Z",
     "start_time": "2024-04-02T06:08:08.545066Z"
    }
   },
   "outputs": [],
   "source": [
    "import numpy as np\n",
    "import pandas as pd"
   ]
  },
  {
   "cell_type": "code",
   "execution_count": 3,
   "id": "initial_id",
   "metadata": {
    "collapsed": true,
    "ExecuteTime": {
     "end_time": "2024-04-02T06:08:10.602018Z",
     "start_time": "2024-04-02T06:08:10.598750Z"
    }
   },
   "outputs": [],
   "source": [
    "set_token('9c0950e38c59552734328ad13ad93b6cc44ee271')\n",
    "# 基础交易数据"
   ]
  },
  {
   "cell_type": "code",
   "execution_count": 4,
   "id": "8119386f361b9796",
   "metadata": {
    "collapsed": false,
    "ExecuteTime": {
     "end_time": "2024-04-02T06:08:16.164128Z",
     "start_time": "2024-04-02T06:08:16.161528Z"
    }
   },
   "outputs": [],
   "source": [
    "# context.symbol = 'SHSE.510300'\n",
    "start_date = '2019-02-28'\n",
    "end_date =  '2020-02-28'"
   ]
  },
  {
   "cell_type": "code",
   "execution_count": 6,
   "id": "1096ef564a22d98b",
   "metadata": {
    "collapsed": false,
    "ExecuteTime": {
     "end_time": "2024-04-02T06:08:21.427295Z",
     "start_time": "2024-04-02T06:08:21.413835Z"
    }
   },
   "outputs": [],
   "source": [
    "trade_data = history('SHSE.510300', frequency='1d', start_time=start_date, end_time=end_date, fill_missing='last',\n",
    "                         df=True).set_index('eob')"
   ]
  },
  {
   "cell_type": "code",
   "execution_count": 7,
   "id": "a9f0fd2c0dbb68c4",
   "metadata": {
    "collapsed": false,
    "ExecuteTime": {
     "end_time": "2024-04-02T06:08:23.052452Z",
     "start_time": "2024-04-02T06:08:23.044899Z"
    }
   },
   "outputs": [
    {
     "name": "stdout",
     "output_type": "stream",
     "text": [
      "<class 'pandas.core.frame.DataFrame'>\n",
      "DatetimeIndex: 244 entries, 2019-02-28 00:00:00+08:00 to 2020-02-28 00:00:00+08:00\n",
      "Data columns (total 11 columns):\n",
      " #   Column     Non-Null Count  Dtype                        \n",
      "---  ------     --------------  -----                        \n",
      " 0   symbol     244 non-null    object                       \n",
      " 1   frequency  244 non-null    object                       \n",
      " 2   open       244 non-null    float64                      \n",
      " 3   high       244 non-null    float64                      \n",
      " 4   low        244 non-null    float64                      \n",
      " 5   close      244 non-null    float64                      \n",
      " 6   volume     244 non-null    int64                        \n",
      " 7   amount     244 non-null    float64                      \n",
      " 8   pre_close  244 non-null    float64                      \n",
      " 9   position   244 non-null    int64                        \n",
      " 10  bob        244 non-null    datetime64[ns, Asia/Shanghai]\n",
      "dtypes: datetime64[ns, Asia/Shanghai](1), float64(6), int64(2), object(2)\n",
      "memory usage: 22.9+ KB\n"
     ]
    }
   ],
   "source": [
    "trade_data.info()"
   ]
  },
  {
   "cell_type": "markdown",
   "id": "60c182119acf2b6a",
   "metadata": {
    "collapsed": false
   },
   "source": [
    "# 添加输出/监督变量：未来T日的收益率"
   ]
  },
  {
   "cell_type": "code",
   "execution_count": 8,
   "id": "b366b6e879c878a2",
   "metadata": {
    "collapsed": false,
    "ExecuteTime": {
     "end_time": "2024-04-02T06:08:26.123373Z",
     "start_time": "2024-04-02T06:08:26.119988Z"
    }
   },
   "outputs": [],
   "source": [
    "def add_return_column(trade_data, period=3):\n",
    "    \"\"\"\n",
    "    向DataFrame添加未来T日的收益率。\n",
    "\n",
    "    参数:\n",
    "    - trade_data: 包含交易数据的DataFrame。\n",
    "    - period: 未来的天数，默认为3。\n",
    "\n",
    "    返回值:\n",
    "    - 该函数没有返回值，但会修改传入的DataFrame，为每个交易日添加一个新列，表示未来T日的收益率。\n",
    "    \"\"\"\n",
    "    \n",
    "    #对数化收益率 https://uestc.feishu.cn/wiki/DrMYw98b2iVGRbkBfH3cGzeTnoe#MtK2dQhZNoTfuqxKECbcMElVnKd\n",
    "    trade_data['log_return'] = np.log(trade_data['close'] / trade_data['close'].shift(period))\n",
    "    #清除shift后的有空白数据的行\n",
    "    trade_data.dropna(inplace=True)\n"
   ]
  },
  {
   "cell_type": "code",
   "execution_count": 9,
   "id": "8f35f3141cacea8e",
   "metadata": {
    "collapsed": false,
    "ExecuteTime": {
     "end_time": "2024-04-02T06:08:30.069191Z",
     "start_time": "2024-04-02T06:08:30.060122Z"
    }
   },
   "outputs": [
    {
     "name": "stdout",
     "output_type": "stream",
     "text": [
      "<class 'pandas.core.frame.DataFrame'>\n",
      "DatetimeIndex: 241 entries, 2019-03-05 00:00:00+08:00 to 2020-02-28 00:00:00+08:00\n",
      "Data columns (total 12 columns):\n",
      " #   Column      Non-Null Count  Dtype                        \n",
      "---  ------      --------------  -----                        \n",
      " 0   symbol      241 non-null    object                       \n",
      " 1   frequency   241 non-null    object                       \n",
      " 2   open        241 non-null    float64                      \n",
      " 3   high        241 non-null    float64                      \n",
      " 4   low         241 non-null    float64                      \n",
      " 5   close       241 non-null    float64                      \n",
      " 6   volume      241 non-null    int64                        \n",
      " 7   amount      241 non-null    float64                      \n",
      " 8   pre_close   241 non-null    float64                      \n",
      " 9   position    241 non-null    int64                        \n",
      " 10  bob         241 non-null    datetime64[ns, Asia/Shanghai]\n",
      " 11  log_return  241 non-null    float64                      \n",
      "dtypes: datetime64[ns, Asia/Shanghai](1), float64(7), int64(2), object(2)\n",
      "memory usage: 24.5+ KB\n"
     ]
    }
   ],
   "source": [
    "add_return_column(trade_data)\n",
    "trade_data.info()"
   ]
  },
  {
   "cell_type": "markdown",
   "id": "562d6d151e15dbc5",
   "metadata": {
    "collapsed": false
   },
   "source": [
    "# 添加技术指标"
   ]
  },
  {
   "cell_type": "code",
   "execution_count": 10,
   "id": "8af5d150aae77a2",
   "metadata": {
    "collapsed": false,
    "ExecuteTime": {
     "end_time": "2024-04-02T06:08:31.984015Z",
     "start_time": "2024-04-02T06:08:31.976609Z"
    }
   },
   "outputs": [],
   "source": [
    "def add_ma_columns(trade_data, ma_periods):\n",
    "    \"\"\"\n",
    "    向DataFrame添加移动平均列。\n",
    "\n",
    "    参数:\n",
    "    - trade_data: 包含交易数据的DataFrame。\n",
    "    - ma_periods: 一个包含要计算的移动平均周期的列表，每个元素是一个整数，表示天数。\n",
    "\n",
    "    返回值:\n",
    "    - 该函数没有返回值，但会修改传入的DataFrame，为每个指定的周期添加一个新列。\n",
    "    \"\"\"\n",
    "    for period in ma_periods:\n",
    "        ma_column_name = f'MA_{period}'  # 根据周期生成列名称，如'MA_5'表示5天移动平均\n",
    "        trade_data[ma_column_name] = trade_data['close'].rolling(window=period).mean()\n",
    "\n",
    "def add_ema_columns(trade_data, ema_periods):\n",
    "    \"\"\"\n",
    "    向DataFrame添加指数移动平均列。\n",
    "\n",
    "    参数:\n",
    "    - trade_data: 包含交易数据的DataFrame。\n",
    "    - ema_periods: 一个包含要计算的指数移动平均周期的列表，每个元素是一个整数，表示天数。\n",
    "\n",
    "    返回值:\n",
    "    - 该函数没有返回值，但会修改传入的DataFrame，为每个指定的周期添加一个新列。\n",
    "    \"\"\"\n",
    "    for period in ema_periods:\n",
    "        ema_column_name = f'EMA_{period}'  # 根据周期生成列名称，如'EMA_5'表示5天指数移动平均\n",
    "        trade_data[ema_column_name] = trade_data['close'].ewm(span=period).mean()\n",
    "\n",
    "def add_rsi_factor(trade_data, period=14):\n",
    "    \"\"\"\n",
    "    向DataFrame添加相对强弱指数（RSI）因子。\n",
    "\n",
    "    参数:\n",
    "    - trade_data: 包含交易数据的DataFrame。\n",
    "    - period: 计算RSI的周期，默认为14天。\n",
    "    \"\"\"\n",
    "    delta = trade_data['close'].diff()\n",
    "    gain = (delta.where(delta > 0, 0)).rolling(window=period).mean()\n",
    "    loss = (-delta.where(delta < 0, 0)).rolling(window=period).mean()\n",
    "    rs = gain / loss\n",
    "    trade_data['RSI'] = 100 - (100 / (1 + rs))\n",
    "\n",
    "def add_atr_factor(trade_data, period=14):\n",
    "    \"\"\"\n",
    "    向DataFrame添加平均真实范围（ATR）因子。\n",
    "\n",
    "    参数:\n",
    "    - trade_data: 包含交易数据的DataFrame。\n",
    "    - period: 计算ATR的周期，默认为14天。\n",
    "    \"\"\"\n",
    "    high_low = trade_data['high'] - trade_data['low']\n",
    "    high_close = (trade_data['high'] - trade_data['close'].shift()).abs()\n",
    "    low_close = (trade_data['low'] - trade_data['close'].shift()).abs()\n",
    "    ranges = pd.concat([high_low, high_close, low_close], axis=1)\n",
    "    true_range = ranges.max(axis=1)\n",
    "    trade_data['ATR'] = true_range.rolling(window=period).mean()\n",
    "\n",
    "def add_bollinger_band_width_factor(trade_data, period=20, num_std=2):\n",
    "    \"\"\"\n",
    "    向DataFrame添加布林带宽度因子。\n",
    "\n",
    "    参数:\n",
    "    - trade_data: 包含交易数据的DataFrame。\n",
    "    - period: 计算布林带的周期，默认为20天。\n",
    "    - num_std: 布林带的标准差倍数，默认为2。\n",
    "    \"\"\"\n",
    "    ma = trade_data['close'].rolling(window=period).mean()\n",
    "    std = trade_data['close'].rolling(window=period).std()\n",
    "    upper_band = ma + (std * num_std)\n",
    "    lower_band = ma - (std * num_std)\n",
    "    trade_data['Bollinger_Width'] = upper_band - lower_band\n",
    "\n",
    "def add_vwap_factor(trade_data):\n",
    "    \"\"\"\n",
    "    向DataFrame添加成交量加权平均价格（VWAP）因子。\n",
    "\n",
    "    参数:\n",
    "    - trade_data: 包含交易数据的DataFrame。\n",
    "    \"\"\"\n",
    "    trade_data['VWAP'] = (trade_data['volume'] * trade_data['close']).cumsum() / trade_data['volume'].cumsum()\n"
   ]
  },
  {
   "cell_type": "code",
   "execution_count": 11,
   "id": "b8b94feded1fb4de",
   "metadata": {
    "collapsed": false,
    "ExecuteTime": {
     "end_time": "2024-04-02T06:08:33.159452Z",
     "start_time": "2024-04-02T06:08:33.143829Z"
    }
   },
   "outputs": [
    {
     "name": "stdout",
     "output_type": "stream",
     "text": [
      "<class 'pandas.core.frame.DataFrame'>\n",
      "DatetimeIndex: 241 entries, 2019-03-05 00:00:00+08:00 to 2020-02-28 00:00:00+08:00\n",
      "Data columns (total 26 columns):\n",
      " #   Column           Non-Null Count  Dtype                        \n",
      "---  ------           --------------  -----                        \n",
      " 0   symbol           241 non-null    object                       \n",
      " 1   frequency        241 non-null    object                       \n",
      " 2   open             241 non-null    float64                      \n",
      " 3   high             241 non-null    float64                      \n",
      " 4   low              241 non-null    float64                      \n",
      " 5   close            241 non-null    float64                      \n",
      " 6   volume           241 non-null    int64                        \n",
      " 7   amount           241 non-null    float64                      \n",
      " 8   pre_close        241 non-null    float64                      \n",
      " 9   position         241 non-null    int64                        \n",
      " 10  bob              241 non-null    datetime64[ns, Asia/Shanghai]\n",
      " 11  log_return       241 non-null    float64                      \n",
      " 12  MA_5             237 non-null    float64                      \n",
      " 13  MA_10            232 non-null    float64                      \n",
      " 14  MA_20            222 non-null    float64                      \n",
      " 15  MA_60            182 non-null    float64                      \n",
      " 16  MA_120           122 non-null    float64                      \n",
      " 17  EMA_5            241 non-null    float64                      \n",
      " 18  EMA_10           241 non-null    float64                      \n",
      " 19  EMA_20           241 non-null    float64                      \n",
      " 20  EMA_60           241 non-null    float64                      \n",
      " 21  EMA_120          241 non-null    float64                      \n",
      " 22  RSI              228 non-null    float64                      \n",
      " 23  ATR              228 non-null    float64                      \n",
      " 24  Bollinger_Width  222 non-null    float64                      \n",
      " 25  VWAP             241 non-null    float64                      \n",
      "dtypes: datetime64[ns, Asia/Shanghai](1), float64(21), int64(2), object(2)\n",
      "memory usage: 50.8+ KB\n"
     ]
    }
   ],
   "source": [
    "add_ma_columns(trade_data, [5, 10, 20, 60, 120])\n",
    "add_ema_columns(trade_data, [5, 10, 20, 60, 120])\n",
    "add_rsi_factor(trade_data)\n",
    "add_atr_factor(trade_data)\n",
    "add_bollinger_band_width_factor(trade_data)\n",
    "add_vwap_factor(trade_data)\n",
    "trade_data.info()"
   ]
  },
  {
   "cell_type": "markdown",
   "id": "ba07ecaa424ef8ad",
   "metadata": {
    "collapsed": false
   },
   "source": [
    "# 宏观数据指标"
   ]
  },
  {
   "cell_type": "code",
   "execution_count": null,
   "id": "ae024967fdca7d58",
   "metadata": {
    "collapsed": false
   },
   "outputs": [],
   "source": []
  },
  {
   "cell_type": "markdown",
   "id": "113ba11dc4d2e0dc",
   "metadata": {
    "collapsed": false
   },
   "source": [
    "# 情绪数据"
   ]
  },
  {
   "cell_type": "code",
   "execution_count": 18,
   "id": "87657756ce942ebe",
   "metadata": {
    "ExecuteTime": {
     "end_time": "2024-04-01T13:30:12.517167800Z",
     "start_time": "2024-04-01T13:30:12.514585800Z"
    },
    "collapsed": false
   },
   "outputs": [],
   "source": [
    "def fetch_fear_greed_index():\n",
    "    \"\"\"\n",
    "    获取恐慌与贪婪指数。\n",
    "\n",
    "    返回:\n",
    "    - DataFrame: 包含恐慌与贪婪指数的DataFrame。\n",
    "    \"\"\"\n",
    "    index_df = ak.index_crypto_feargreed()\n",
    "    return index_df"
   ]
  },
  {
   "cell_type": "code",
   "execution_count": null,
   "id": "52d21e268f41d8fa",
   "metadata": {
    "collapsed": false
   },
   "outputs": [],
   "source": [
    "def calculate_ar(data, period=26):\n",
    "    \"\"\"\n",
    "    计算AR（人气指标）。\n",
    "\n",
    "    参数:\n",
    "    - data: 包含'high', 'low', 'open'列的DataFrame。\n",
    "    - period: 计算指标的周期，默认为26天。\n",
    "\n",
    "    返回:\n",
    "    - ar: DataFrame，包含计算周期内的AR值。\n",
    "    \"\"\"\n",
    "    ar_numerator = (data['high'] - data['open']).rolling(window=period).sum()\n",
    "    ar_denominator = (data['open'] - data['low']).rolling(window=period).sum()\n",
    "    ar = (ar_numerator / ar_denominator) * 100\n",
    "    return ar\n"
   ]
  },
  {
   "cell_type": "code",
   "execution_count": null,
   "id": "50ab2895e7d84158",
   "metadata": {
    "collapsed": false
   },
   "outputs": [],
   "source": [
    "def calculate_br(data, period=26):\n",
    "    \"\"\"\n",
    "    计算BR（意愿指标）。\n",
    "\n",
    "    参数:\n",
    "    - data: 包含'high', 'low', 'close'列的DataFrame。\n",
    "    - period: 计算指标的周期，默认为26天。\n",
    "\n",
    "    返回:\n",
    "    - br: DataFrame，包含计算周期内的BR值。\n",
    "    \"\"\"\n",
    "    br_numerator = (data['high'] - data['close'].shift()).rolling(window=period).sum()\n",
    "    br_denominator = (data['close'].shift() - data['low']).rolling(window=period).sum()\n",
    "    br = (br_numerator / br_denominator) * 100\n",
    "    return br\n"
   ]
  },
  {
   "cell_type": "markdown",
   "id": "63b8ea3dec68eb05",
   "metadata": {
    "collapsed": false
   },
   "source": [
    "# 特征工程"
   ]
  },
  {
   "cell_type": "markdown",
   "id": "227d73d7f75308c3",
   "metadata": {
    "collapsed": false
   },
   "source": [
    "## 数据整合"
   ]
  },
  {
   "cell_type": "code",
   "execution_count": null,
   "id": "c41164aca76cabe7",
   "metadata": {
    "collapsed": false
   },
   "outputs": [],
   "source": []
  }
 ],
 "metadata": {
  "kernelspec": {
   "display_name": "Python 3",
   "language": "python",
   "name": "python3"
  },
  "language_info": {
   "codemirror_mode": {
    "name": "ipython",
    "version": 3
   },
   "file_extension": ".py",
   "mimetype": "text/x-python",
   "name": "python",
   "nbconvert_exporter": "python",
   "pygments_lexer": "ipython3",
   "version": "3.11.8"
  }
 },
 "nbformat": 4,
 "nbformat_minor": 5
}
