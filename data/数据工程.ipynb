{
 "cells": [
  {
   "cell_type": "code",
   "id": "fe85a908a2ce5388",
   "metadata": {
    "collapsed": false,
    "ExecuteTime": {
     "end_time": "2024-04-16T16:39:10.332002Z",
     "start_time": "2024-04-16T16:39:10.328978Z"
    }
   },
   "source": [
    "# coding=utf-8\n",
    "from __future__ import print_function, absolute_import \n",
    "from gm.api import *"
   ],
   "execution_count": 7,
   "outputs": []
  },
  {
   "cell_type": "code",
   "id": "c392c8881c87144f",
   "metadata": {
    "collapsed": false,
    "ExecuteTime": {
     "end_time": "2024-04-16T16:39:10.410039Z",
     "start_time": "2024-04-16T16:39:10.407318Z"
    }
   },
   "source": [
    "import numpy as np\n",
    "import pandas as pd"
   ],
   "execution_count": 8,
   "outputs": []
  },
  {
   "cell_type": "markdown",
   "id": "7bf54fd10e021552",
   "metadata": {
    "collapsed": false
   },
   "source": []
  },
  {
   "cell_type": "code",
   "id": "initial_id",
   "metadata": {
    "collapsed": true,
    "ExecuteTime": {
     "end_time": "2024-04-16T16:39:10.452427Z",
     "start_time": "2024-04-16T16:39:10.449962Z"
    }
   },
   "source": [
    "set_token('9c0950e38c59552734328ad13ad93b6cc44ee271')\n",
    "# 基础交易数据"
   ],
   "execution_count": 9,
   "outputs": []
  },
  {
   "cell_type": "code",
   "id": "8119386f361b9796",
   "metadata": {
    "collapsed": false,
    "ExecuteTime": {
     "end_time": "2024-04-16T16:39:10.549919Z",
     "start_time": "2024-04-16T16:39:10.546844Z"
    }
   },
   "source": [
    "# context.symbol = 'SHSE.510300'\n",
    "start_date = '2018-02-28'\n",
    "end_date =  '2020-02-28'"
   ],
   "execution_count": 10,
   "outputs": []
  },
  {
   "cell_type": "code",
   "id": "1096ef564a22d98b",
   "metadata": {
    "collapsed": false,
    "ExecuteTime": {
     "end_time": "2024-04-16T16:39:11.079846Z",
     "start_time": "2024-04-16T16:39:10.589097Z"
    }
   },
   "source": [
    "trade_data = history('SHSE.510300', frequency='1d', start_time=start_date, end_time=end_date, fill_missing='last',\n",
    "                         df=True)\n",
    "# 去除 'symbol', 'eob', 'frequency','position' 列\n",
    "trade_data.drop(['symbol', 'eob', 'frequency','position'], axis=1, inplace=True)\n",
    "# 将'bob'去时区化后作为索引\n",
    "trade_data.set_index('bob', inplace=True)\n",
    "# 将data的索引设置为tz-naive\n",
    "trade_data.index = trade_data.index.tz_localize(None)\n"
   ],
   "execution_count": 11,
   "outputs": []
  },
  {
   "cell_type": "code",
   "id": "a9f0fd2c0dbb68c4",
   "metadata": {
    "collapsed": false,
    "ExecuteTime": {
     "end_time": "2024-04-16T16:39:11.095137Z",
     "start_time": "2024-04-16T16:39:11.080855Z"
    }
   },
   "source": [
    "\n",
    "trade_data"
   ],
   "execution_count": 12,
   "outputs": []
  },
  {
   "cell_type": "code",
   "id": "d1d348d0ded9d591",
   "metadata": {
    "collapsed": false,
    "ExecuteTime": {
     "end_time": "2024-04-16T16:39:11.103063Z",
     "start_time": "2024-04-16T16:39:11.095137Z"
    }
   },
   "source": [
    "data = trade_data\n",
    "data.info()"
   ],
   "execution_count": 13,
   "outputs": []
  },
  {
   "cell_type": "markdown",
   "id": "60c182119acf2b6a",
   "metadata": {
    "collapsed": false
   },
   "source": [
    "# 添加输出/监督变量：未来T日的平均收益率"
   ]
  },
  {
   "cell_type": "code",
   "id": "b366b6e879c878a2",
   "metadata": {
    "collapsed": false,
    "ExecuteTime": {
     "end_time": "2024-04-16T16:39:11.109778Z",
     "start_time": "2024-04-16T16:39:11.103573Z"
    }
   },
   "source": [
    "def add_return_column(data, T=3):\n",
    "    \"\"\"\n",
    "    向DataFrame添加未来T日的平均日收益率。\n",
    "\n",
    "    参数:\n",
    "    - data: 包含交易数据的DataFrame。\n",
    "    - T: 未来的天数，默认为3。\n",
    "\n",
    "    返回值:\n",
    "    - 该函数没有返回值，但会修改传入的DataFrame，为每个交易日添加一个新列，表示未来T日的收益率。\n",
    "    \"\"\"\n",
    "    # (1+avg)^T = (1+y) = close(T)/close \n",
    "    # 取对数，T ln(1+avg) = ln(1+y)\n",
    "    # 对于较小量，ln(1+x) ≈ x\n",
    "    # 所以 avg = y/T =(close(T)/close-1)/T\n",
    "    data['avg_daily_return_'+str(T)] = (data['close'].shift(-T)/data['close']-1)/T"
   ],
   "execution_count": 14,
   "outputs": []
  },
  {
   "metadata": {
    "ExecuteTime": {
     "end_time": "2024-04-16T16:39:13.450098Z",
     "start_time": "2024-04-16T16:39:13.421886Z"
    }
   },
   "cell_type": "code",
   "source": [
    "test = data\n",
    "for T in np.arange(1,31,1):\n",
    "    add_return_column(test,T)\n",
    "test.info()"
   ],
   "id": "e2ccbe24699b97c3",
   "execution_count": 15,
   "outputs": []
  },
  {
   "metadata": {
    "ExecuteTime": {
     "end_time": "2024-04-16T16:39:27.980290Z",
     "start_time": "2024-04-16T16:39:27.940702Z"
    }
   },
   "cell_type": "code",
   "source": "test.describe()",
   "id": "6cba965ce8a769d5",
   "execution_count": 16,
   "outputs": []
  },
  {
   "metadata": {
    "ExecuteTime": {
     "end_time": "2024-04-16T15:41:42.192824Z",
     "start_time": "2024-04-16T15:41:41.477273Z"
    }
   },
   "cell_type": "code",
   "source": [
    "import matplotlib.pyplot as plt\n",
    "# 计算所有 avg_daily_return_T 的均值\n",
    "column_means = data.filter(regex='avg_daily_return_').mean()\n",
    "\n",
    "# 绘制扇形图\n",
    "plt.figure(figsize=(10, 8))\n",
    "plt.pie(column_means, labels=column_means.index, autopct='%1.1f%%', startangle=90)\n",
    "plt.title('Average Daily Returns T Mean Distribution')\n",
    "plt.axis('equal')  # Equal aspect ratio ensures that pie is drawn as a circle.\n",
    "plt.show()"
   ],
   "id": "29b008985de06099",
   "execution_count": 28,
   "outputs": []
  },
  {
   "cell_type": "code",
   "id": "8f35f3141cacea8e",
   "metadata": {
    "collapsed": false,
    "ExecuteTime": {
     "end_time": "2024-04-16T08:31:45.847101Z",
     "start_time": "2024-04-16T08:31:45.839342Z"
    }
   },
   "source": [
    "T = 3\n",
    "add_return_column(data,T)\n",
    "data.info()"
   ],
   "execution_count": 18,
   "outputs": []
  },
  {
   "metadata": {},
   "cell_type": "code",
   "execution_count": null,
   "source": "",
   "id": "b0ef7f78caceef0b",
   "outputs": []
  },
  {
   "cell_type": "markdown",
   "id": "562d6d151e15dbc5",
   "metadata": {
    "collapsed": false
   },
   "source": [
    "# 添加技术指标"
   ]
  },
  {
   "cell_type": "code",
   "execution_count": 10,
   "id": "8af5d150aae77a2",
   "metadata": {
    "ExecuteTime": {
     "end_time": "2024-04-10T06:48:12.731527Z",
     "start_time": "2024-04-10T06:48:12.724963Z"
    },
    "collapsed": false
   },
   "source": [
    "def add_ma_columns(data, ma_periods):\n",
    "    \"\"\"\n",
    "    向DataFrame添加移动平均列。\n",
    "\n",
    "    参数:\n",
    "    - data: 包含交易数据的DataFrame。\n",
    "    - ma_periods: 一个包含要计算的移动平均周期的列表，每个元素是一个整数，表示天数。\n",
    "\n",
    "    返回值:\n",
    "    - 该函数没有返回值，但会修改传入的DataFrame，为每个指定的周期添加一个新列。\n",
    "    \"\"\"\n",
    "    for period in ma_periods:\n",
    "        ma_column_name = f'MA_{period}'  # 根据周期生成列名称，如'MA_5'表示5天移动平均\n",
    "        data[ma_column_name] = data['close'].rolling(window=period).mean()\n",
    "\n",
    "def add_ema_columns(data, ema_periods):\n",
    "    \"\"\"\n",
    "    向DataFrame添加指数移动平均列。\n",
    "\n",
    "    参数:\n",
    "    - data: 包含交易数据的DataFrame。\n",
    "    - ema_periods: 一个包含要计算的指数移动平均周期的列表，每个元素是一个整数，表示天数。\n",
    "\n",
    "    返回值:\n",
    "    - 该函数没有返回值，但会修改传入的DataFrame，为每个指定的周期添加一个新列。\n",
    "    \"\"\"\n",
    "    for period in ema_periods:\n",
    "        ema_column_name = f'EMA_{period}'  # 根据周期生成列名称，如'EMA_5'表示5天指数移动平均\n",
    "        data[ema_column_name] = data['close'].ewm(span=period).mean()\n",
    "\n",
    "def add_rsi_factor(data, period=14):\n",
    "    \"\"\"\n",
    "    向DataFrame添加相对强弱指数（RSI）因子。\n",
    "\n",
    "    参数:\n",
    "    - data: 包含交易数据的DataFrame。\n",
    "    - period: 计算RSI的周期，默认为14天。\n",
    "    \"\"\"\n",
    "    delta = data['close'].diff()\n",
    "    gain = (delta.where(delta > 0, 0)).rolling(window=period).mean()\n",
    "    loss = (-delta.where(delta < 0, 0)).rolling(window=period).mean()\n",
    "    rs = gain / loss\n",
    "    data['RSI'] = 100 - (100 / (1 + rs))\n",
    "\n",
    "def add_atr_factor(data, period=14):\n",
    "    \"\"\"\n",
    "    向DataFrame添加平均真实范围（ATR）因子。\n",
    "\n",
    "    参数:\n",
    "    - data: 包含交易数据的DataFrame。\n",
    "    - period: 计算ATR的周期，默认为14天。\n",
    "    \"\"\"\n",
    "    high_low = data['high'] - data['low']\n",
    "    high_close = (data['high'] - data['close'].shift()).abs()\n",
    "    low_close = (data['low'] - data['close'].shift()).abs()\n",
    "    ranges = pd.concat([high_low, high_close, low_close], axis=1)\n",
    "    true_range = ranges.max(axis=1)\n",
    "    data['ATR'] = true_range.rolling(window=period).mean()\n",
    "\n",
    "def add_bollinger_band_width_factor(data, period=20, num_std=2):\n",
    "    \"\"\"\n",
    "    向DataFrame添加布林带宽度因子。\n",
    "\n",
    "    参数:\n",
    "    - data: 包含交易数据的DataFrame。\n",
    "    - period: 计算布林带的周期，默认为20天。\n",
    "    - num_std: 布林带的标准差倍数，默认为2。\n",
    "    \"\"\"\n",
    "    ma = data['close'].rolling(window=period).mean()\n",
    "    std = data['close'].rolling(window=period).std()\n",
    "    upper_band = ma + (std * num_std)\n",
    "    lower_band = ma - (std * num_std)\n",
    "    data['Bollinger_Width'] = upper_band - lower_band\n",
    "\n",
    "def add_vwap_factor(data):\n",
    "    \"\"\"\n",
    "    向DataFrame添加成交量加权平均价格（VWAP）因子。\n",
    "\n",
    "    参数:\n",
    "    - data: 包含交易数据的DataFrame。\n",
    "    \"\"\"\n",
    "    data['VWAP'] = (data['volume'] * data['close']).cumsum() / data['volume'].cumsum()\n"
   ],
   "outputs": []
  },
  {
   "cell_type": "code",
   "execution_count": 11,
   "id": "b8b94feded1fb4de",
   "metadata": {
    "ExecuteTime": {
     "end_time": "2024-04-10T06:48:12.746050Z",
     "start_time": "2024-04-10T06:48:12.732533Z"
    },
    "collapsed": false
   },
   "source": [
    "add_ma_columns(data, [5, 10, 20, 60, 120])\n",
    "add_ema_columns(data, [5, 10, 20, 60, 120])\n",
    "add_rsi_factor(data)\n",
    "add_atr_factor(data)\n",
    "add_bollinger_band_width_factor(data)\n",
    "add_vwap_factor(data)\n",
    "data.info()"
   ],
   "outputs": []
  },
  {
   "cell_type": "markdown",
   "id": "24fab87623077feb",
   "metadata": {
    "collapsed": false
   },
   "source": "# 添加EMD分解 (库安装有问题，废弃)"
  },
  {
   "cell_type": "code",
   "execution_count": null,
   "id": "6bed250ae839065f",
   "metadata": {
    "collapsed": false
   },
   "source": [],
   "outputs": []
  },
  {
   "cell_type": "code",
   "execution_count": 1,
   "id": "cdd1fbade25cc3ac",
   "metadata": {
    "collapsed": false,
    "ExecuteTime": {
     "end_time": "2024-04-10T07:20:32.228969Z",
     "start_time": "2024-04-10T07:20:31.579519Z"
    }
   },
   "source": [
    "from PyEMD import EMD\n"
   ],
   "outputs": []
  },
  {
   "cell_type": "code",
   "execution_count": 4,
   "id": "210d93929ad776c8",
   "metadata": {
    "ExecuteTime": {
     "end_time": "2024-04-10T07:08:58.769444Z",
     "start_time": "2024-04-10T07:08:58.755669Z"
    },
    "collapsed": false
   },
   "source": [
    "def add_emd_columns(data, baseColumn):\n",
    "    \"\"\"\n",
    "    向DataFrame添加EMD分解列。\n",
    "\n",
    "    参数:\n",
    "    - data: 包含交易数据的DataFrame。\n",
    "    - baseColumn: 一个字符串，表示要分解的基础列。\n",
    "\n",
    "    返回值:\n",
    "    - 该函数没有返回值，但会修改传入的DataFrame，为每个IMF和剩余部分添加一个新列。\n",
    "    \"\"\"\n",
    "    \n",
    "    emd = EMD()\n",
    "    imfs = emd(data[baseColumn].values)\n",
    "    for i, imf in enumerate(imfs):\n",
    "        data[f'IMF_{i+1}'] = imf\n",
    "    data['Residual'] = data[baseColumn] - sum(imfs)\n",
    "        \n",
    "add_emd_columns(data, 'close')"
   ],
   "outputs": []
  },
  {
   "cell_type": "markdown",
   "id": "ba07ecaa424ef8ad",
   "metadata": {
    "collapsed": false
   },
   "source": [
    "# 宏观数据指标"
   ]
  },
  {
   "cell_type": "code",
   "execution_count": 179,
   "id": "e4cd12ac1529eef8",
   "metadata": {
    "ExecuteTime": {
     "end_time": "2024-04-02T12:44:22.884289Z",
     "start_time": "2024-04-02T12:44:21.902623Z"
    },
    "collapsed": false
   },
   "source": [
    "macro_data = pd.read_excel('../data/macro.xlsx')"
   ],
   "outputs": []
  },
  {
   "cell_type": "code",
   "execution_count": 180,
   "id": "ae024967fdca7d58",
   "metadata": {
    "ExecuteTime": {
     "end_time": "2024-04-02T12:44:22.893804Z",
     "start_time": "2024-04-02T12:44:22.888294Z"
    },
    "collapsed": false
   },
   "source": [
    "#date作为索引\n",
    "macro_data.set_index('date', inplace=True)"
   ],
   "outputs": []
  },
  {
   "cell_type": "code",
   "execution_count": 181,
   "id": "4ed3762b14d4baae",
   "metadata": {
    "ExecuteTime": {
     "end_time": "2024-04-02T12:44:22.902269Z",
     "start_time": "2024-04-02T12:44:22.895264Z"
    },
    "collapsed": false
   },
   "source": [
    "# 查看date是否为tz-aware\n",
    "try:\n",
    "    macro_data.index.tz_localize('UTC')\n",
    "    print(\"The 'date' index is not tz-aware.\")\n",
    "except TypeError:\n",
    "    print(\"The 'date' index is tz-aware.\")"
   ],
   "outputs": []
  },
  {
   "cell_type": "code",
   "execution_count": 182,
   "id": "ac1327ca7ea3e62a",
   "metadata": {
    "ExecuteTime": {
     "end_time": "2024-04-02T12:44:22.917403Z",
     "start_time": "2024-04-02T12:44:22.904275Z"
    },
    "collapsed": false
   },
   "source": [
    "macro_data.info()"
   ],
   "outputs": []
  },
  {
   "cell_type": "code",
   "execution_count": 183,
   "id": "ec2efc8f55a8f309",
   "metadata": {
    "ExecuteTime": {
     "end_time": "2024-04-02T12:44:22.925481Z",
     "start_time": "2024-04-02T12:44:22.919410Z"
    },
    "collapsed": false
   },
   "source": [
    "# 查看data中的索引date是否为tz-aware\n",
    "try:\n",
    "    data.index.tz_localize('UTC')\n",
    "    print(\"The 'date' index is not tz-aware.\")\n",
    "except TypeError:\n",
    "    print(\"The 'date' index is tz-aware.\")\n",
    "    print(macro_data.index.tz)"
   ],
   "outputs": []
  },
  {
   "cell_type": "code",
   "execution_count": 184,
   "id": "802675c78d7f8be4",
   "metadata": {
    "ExecuteTime": {
     "end_time": "2024-04-02T12:44:22.946367Z",
     "start_time": "2024-04-02T12:44:22.926486Z"
    },
    "collapsed": false
   },
   "source": [
    "# 将macro_data根据日期与data合并\n",
    "data = data.join(macro_data, how='left')\n",
    "data.info()"
   ],
   "outputs": []
  },
  {
   "cell_type": "code",
   "execution_count": 185,
   "id": "92dc028656ecc54b",
   "metadata": {
    "ExecuteTime": {
     "end_time": "2024-04-02T12:44:22.958498Z",
     "start_time": "2024-04-02T12:44:22.948374Z"
    },
    "collapsed": false
   },
   "source": [
    "# 分别从macro_data、data中取2020-01-02的bdi数据验证是否合并正确\n",
    "print(data.loc['2020-01-02', 'bdi'])\n",
    "print(macro_data.loc['2020-01-02', 'bdi'])"
   ],
   "outputs": []
  },
  {
   "cell_type": "markdown",
   "id": "113ba11dc4d2e0dc",
   "metadata": {
    "collapsed": false
   },
   "source": [
    "# 情绪数据"
   ]
  },
  {
   "cell_type": "markdown",
   "id": "6a129c8c5d05f18d",
   "metadata": {
    "collapsed": false
   },
   "source": [
    "AK恐惧贪婪指数只能获取到22年后，暂不考虑了"
   ]
  },
  {
   "cell_type": "code",
   "execution_count": 186,
   "id": "52d21e268f41d8fa",
   "metadata": {
    "ExecuteTime": {
     "end_time": "2024-04-02T12:44:22.966541Z",
     "start_time": "2024-04-02T12:44:22.960503Z"
    },
    "collapsed": false
   },
   "source": [
    "def calculate_ar(data, period=26):\n",
    "    \"\"\"\n",
    "    计算AR（人气指标）。\n",
    "\n",
    "    参数:\n",
    "    - data: 包含'high', 'low', 'open'列的DataFrame。\n",
    "    - period: 计算指标的周期，默认为26天。\n",
    "\n",
    "    返回:\n",
    "    - ar: DataFrame，包含计算周期内的AR值。\n",
    "    \"\"\"\n",
    "    ar_numerator = (data['high'] - data['open']).rolling(window=period).sum()\n",
    "    ar_denominator = (data['open'] - data['low']).rolling(window=period).sum()\n",
    "    ar = (ar_numerator / ar_denominator) * 100\n",
    "    return ar\n"
   ],
   "outputs": []
  },
  {
   "cell_type": "code",
   "execution_count": 187,
   "id": "50ab2895e7d84158",
   "metadata": {
    "ExecuteTime": {
     "end_time": "2024-04-02T12:44:22.974828Z",
     "start_time": "2024-04-02T12:44:22.968549Z"
    },
    "collapsed": false
   },
   "source": [
    "def calculate_br(data, period=26):\n",
    "    \"\"\"\n",
    "    计算BR（意愿指标）。\n",
    "\n",
    "    参数:\n",
    "    - data: 包含'high', 'low', 'close'列的DataFrame。\n",
    "    - period: 计算指标的周期，默认为26天。\n",
    "\n",
    "    返回:\n",
    "    - br: DataFrame，包含计算周期内的BR值。\n",
    "    \"\"\"\n",
    "    br_numerator = (data['high'] - data['close'].shift()).rolling(window=period).sum()\n",
    "    br_denominator = (data['close'].shift() - data['low']).rolling(window=period).sum()\n",
    "    br = (br_numerator / br_denominator) * 100\n",
    "    return br\n"
   ],
   "outputs": []
  },
  {
   "cell_type": "code",
   "execution_count": 188,
   "id": "47ca5cbc75692796",
   "metadata": {
    "ExecuteTime": {
     "end_time": "2024-04-02T12:44:22.993302Z",
     "start_time": "2024-04-02T12:44:22.976414Z"
    },
    "collapsed": false
   },
   "source": [
    "# 加入到data中\n",
    "data['AR'] = calculate_ar(data)\n",
    "data['BR'] = calculate_br(data)\n",
    "\n",
    "data.info()"
   ],
   "outputs": []
  },
  {
   "cell_type": "markdown",
   "id": "63b8ea3dec68eb05",
   "metadata": {
    "collapsed": false
   },
   "source": [
    "# 特征工程"
   ]
  },
  {
   "cell_type": "code",
   "execution_count": 189,
   "id": "c41164aca76cabe7",
   "metadata": {
    "ExecuteTime": {
     "end_time": "2024-04-02T12:44:23.030316Z",
     "start_time": "2024-04-02T12:44:22.994951Z"
    },
    "collapsed": false
   },
   "source": [
    "data"
   ],
   "outputs": []
  },
  {
   "cell_type": "code",
   "execution_count": 190,
   "id": "4db8cb197d59114a",
   "metadata": {
    "ExecuteTime": {
     "end_time": "2024-04-02T12:44:23.039336Z",
     "start_time": "2024-04-02T12:44:23.031322Z"
    },
    "collapsed": false
   },
   "source": [
    "# 去除有空值的行\n",
    "data.dropna(inplace=True)\n"
   ],
   "outputs": []
  },
  {
   "cell_type": "code",
   "execution_count": 191,
   "id": "39d4464cc42bd5ba",
   "metadata": {
    "ExecuteTime": {
     "end_time": "2024-04-02T12:44:23.130270Z",
     "start_time": "2024-04-02T12:44:23.040343Z"
    },
    "collapsed": false
   },
   "source": [
    "data.describe()"
   ],
   "outputs": []
  },
  {
   "cell_type": "code",
   "execution_count": 191,
   "id": "451e40ad2bcc5be6",
   "metadata": {
    "ExecuteTime": {
     "end_time": "2024-04-02T12:44:23.136232Z",
     "start_time": "2024-04-02T12:44:23.132729Z"
    },
    "collapsed": false
   },
   "source": [],
   "outputs": []
  },
  {
   "cell_type": "markdown",
   "id": "7b995874d0f8bba1",
   "metadata": {
    "collapsed": false
   },
   "source": [
    "## 数据“打包”，为LSTM做准备"
   ]
  },
  {
   "cell_type": "code",
   "execution_count": 192,
   "id": "dfdb241b8e5af6e1",
   "metadata": {
    "ExecuteTime": {
     "end_time": "2024-04-02T12:44:24.203995Z",
     "start_time": "2024-04-02T12:44:23.137240Z"
    },
    "collapsed": false
   },
   "source": [
    "from sklearn.preprocessing import StandardScaler\n",
    "\n",
    "def pack_data_with_scaling(data, input_columns, output_column, window_size):\n",
    "    \"\"\"\n",
    "    将DataFrame中的数据打包成LSTM的输入和输出，并对每个窗口的输入数据进行标准化处理。\n",
    "    \"\"\"\n",
    "    X = []\n",
    "    y = []\n",
    "    scaler = StandardScaler()\n",
    "    \n",
    "    for i in range(len(data) - window_size):\n",
    "        window_data = data[input_columns].iloc[i:i + window_size] #python的区间是左闭右开\n",
    "        scaled_window_data = scaler.fit_transform(window_data)\n",
    "        X.append(scaled_window_data)  #只对输入数据进行标准化处理\n",
    "        y.append(data[output_column].iloc[i + window_size]) \n",
    "    \n",
    "    return np.array(X), np.array(y)\n",
    "\n",
    "# 选择用于预测的特征列\n",
    "# input_columns = ['close', 'volume', 'log_return', 'MA_5', 'MA_10', 'MA_20', 'MA_60', 'MA_120',\n",
    "#                  'EMA_5', 'EMA_10', 'EMA_20', 'EMA_60', 'EMA_120',\n",
    "#                  'RSI', 'ATR', 'Bollinger_Width', 'VWAP', 'bdi', 'AR', 'BR']\n",
    "input_columns = data.columns.tolist()\n",
    "print(input_columns)\n",
    "output_column = 'avg_daily_return_'+str(T)\n",
    "# 打包数据\n",
    "window_size=20\n",
    "X, y = pack_data_with_scaling(data, input_columns, output_column, window_size)\n",
    "\n",
    "# 说明：X的形状为(样本数量, 窗口大小, 特征数量)，y的形状为(样本数量,)。\n",
    "# print这些信息，要对应到“样本数量：”\n",
    "print(X.shape, y.shape)\n",
    "print('样本数量：', X.shape[0])\n",
    "print('窗口大小：', X.shape[1])\n",
    "print('特征数量：', X.shape[2])"
   ],
   "outputs": []
  },
  {
   "cell_type": "markdown",
   "id": "b9e16ff7846d2792",
   "metadata": {
    "collapsed": false
   },
   "source": [
    "## 压缩X，与y合并"
   ]
  },
  {
   "cell_type": "code",
   "execution_count": 207,
   "id": "26361e193f6bde85",
   "metadata": {
    "ExecuteTime": {
     "end_time": "2024-04-02T12:51:17.919321Z",
     "start_time": "2024-04-02T12:51:17.908019Z"
    },
    "collapsed": false
   },
   "source": [
    "def flatten_and_combine_data(X, y, input_columns, output_column, window_size):\n",
    "    \"\"\"\n",
    "    展开时间序列数据并将特征和目标变量合并为一个DataFrame。\n",
    "    \n",
    "    参数:\n",
    "    - X: 时间序列数据的三维numpy数组，形状为(样本数, 时间步数, 特征数)。\n",
    "    - y: 目标变量的一维numpy数组，形状为(样本数,)。\n",
    "    - input_columns: 特征列名称的列表。\n",
    "    - output_column: 输出列的名称。\n",
    "    - window_size: 窗口大小，即每个样本包含的时间步数。\n",
    "    \n",
    "    返回:\n",
    "    - 一个DataFrame，其中包含展开的特征和目标变量。\n",
    "    -   一个特征名称的列表。\n",
    "    \"\"\"\n",
    "    \n",
    "    # 将X压平\n",
    "    X_flattened = X.reshape(X.shape[0], -1)  # 将X压平\n",
    "\n",
    "    # 生成展开后的特征名称\n",
    "    feature_names = [f\"{feature}_t-{t}\" for feature in input_columns for t in range(window_size, 0, -1)]\n",
    "    \n",
    "    # 将X_flattened转换为DataFrame\n",
    "    X_df = pd.DataFrame(X_flattened, columns=feature_names)\n",
    "    \n",
    "    # 将y转换为DataFrame\n",
    "    y_df = pd.DataFrame(y, columns=[output_column])\n",
    "    \n",
    "    # 合并X_df和y_df\n",
    "    data_combined = pd.concat([X_df, y_df], axis=1)\n",
    "    # 加上列名\n",
    "    data_combined.columns = feature_names + [output_column]\n",
    "    return data_combined, feature_names\n",
    "\n",
    "def mean_and_combine_data(X, y, input_columns, output_column, window_size):\n",
    "    \"\"\"\n",
    "    计算每个窗口的特征的均值，并将特征和目标变量合并为一个DataFrame。\n",
    "    \n",
    "    参数:\n",
    "    - X: 时间序列数据的三维numpy数组，形状为(样本数, 时间步数, 特征数)。\n",
    "    - y: 目标变量的一维numpy数组，形状为(样本数,)。\n",
    "    - input_columns: 特征列名称的列表。\n",
    "    - output_column: 输出列的名称。\n",
    "    - window_size: 窗口大小，即每个样本包含的时间步数。\n",
    "    \n",
    "    返回:\n",
    "    - 一个DataFrame，其中包含每个窗口的特征的均值和目标变量。\n",
    "    -  一个特征名称的列表。\n",
    "    \"\"\"\n",
    "    \n",
    "    # 计算每个窗口的特征的均值\n",
    "    X_mean = X.mean(axis=1)\n",
    "    \n",
    "    # 将X_mean转换为DataFrame\n",
    "    X_mean_df = pd.DataFrame(X_mean, columns=input_columns)\n",
    "    \n",
    "    # 将y转换为DataFrame\n",
    "    y_df = pd.DataFrame(y, columns=[output_column])\n",
    "    \n",
    "    # 合并X_mean_df和y_df\n",
    "    data_combined = pd.concat([X_mean_df, y_df], axis=1)\n",
    "    \n",
    "    # input_columns中的特征名称加上'_mean'\n",
    "    input_columns = [f\"{col}_mean\" for col in input_columns]\n",
    "    \n",
    "    # 加上列名\n",
    "    data_combined.columns = input_columns + [output_column]\n",
    "    return data_combined, input_columns\n",
    "\n",
    "\n",
    "data_combined, feature_names = mean_and_combine_data(X, y, input_columns, output_column, window_size)\n",
    "\n",
    "data_combined.info()"
   ],
   "outputs": []
  },
  {
   "cell_type": "code",
   "execution_count": 198,
   "id": "fed55f6b0efcb16b",
   "metadata": {
    "ExecuteTime": {
     "end_time": "2024-04-02T12:47:03.152687Z",
     "start_time": "2024-04-02T12:47:03.149629Z"
    },
    "collapsed": false
   },
   "source": [
    "\n",
    "# 将data_combined中的非数值列转换为数值列，将不能转换的列保存到一个列表"
   ],
   "outputs": []
  },
  {
   "cell_type": "markdown",
   "id": "2ba0312ba2e678b6",
   "metadata": {
    "collapsed": false
   },
   "source": [
    "## 分析数据"
   ]
  },
  {
   "cell_type": "markdown",
   "id": "58a52abacfff4126",
   "metadata": {
    "collapsed": false
   },
   "source": [
    "### 相关性分析"
   ]
  },
  {
   "cell_type": "code",
   "execution_count": 208,
   "id": "532d477a86197100",
   "metadata": {
    "ExecuteTime": {
     "end_time": "2024-04-02T12:51:33.404692Z",
     "start_time": "2024-04-02T12:51:33.400469Z"
    },
    "collapsed": false
   },
   "source": [
    "output_column"
   ],
   "outputs": []
  },
  {
   "cell_type": "code",
   "execution_count": 209,
   "id": "c2970a30e2ef64f2",
   "metadata": {
    "ExecuteTime": {
     "end_time": "2024-04-02T12:51:35.187537Z",
     "start_time": "2024-04-02T12:51:35.182514Z"
    },
    "collapsed": false
   },
   "source": [
    "import seaborn as sns\n",
    "import matplotlib.pyplot as plt\n",
    "\n",
    "# 计算相关系数矩阵\n",
    "corr_matrix = data_combined.corr()"
   ],
   "outputs": []
  },
  {
   "cell_type": "code",
   "execution_count": 210,
   "id": "9f8723ce5dc30ec3",
   "metadata": {
    "ExecuteTime": {
     "end_time": "2024-04-02T12:51:54.762668Z",
     "start_time": "2024-04-02T12:51:54.756717Z"
    },
    "collapsed": false
   },
   "source": [
    "# 查看目标变量与其他特征的相关性\n",
    "target_corr = corr_matrix[output_column].sort_values(ascending=False)\n",
    "target_corr\n"
   ],
   "outputs": []
  },
  {
   "cell_type": "code",
   "execution_count": 215,
   "id": "ac8b13e193706dd4",
   "metadata": {
    "ExecuteTime": {
     "end_time": "2024-04-02T12:54:31.585367Z",
     "start_time": "2024-04-02T12:54:31.579724Z"
    },
    "collapsed": false
   },
   "source": [
    "# 计算相关系数，R2\n",
    "R2 = target_corr**2\n",
    "R2\n",
    "\n",
    "# 查看相关系数较小的特征\n",
    "low_corr_features = target_corr[target_corr.abs() < 0.1]\n",
    "low_corr_features"
   ],
   "outputs": []
  },
  {
   "cell_type": "code",
   "execution_count": 216,
   "id": "6036648f859299c6",
   "metadata": {
    "ExecuteTime": {
     "end_time": "2024-04-02T12:59:53.981010Z",
     "start_time": "2024-04-02T12:59:53.346128Z"
    },
    "collapsed": false
   },
   "source": [
    "# 设置matplotlib的参数，以确保图形能够适当显示\n",
    "plt.figure(figsize=(20, 15))\n",
    "sns.heatmap(corr_matrix, annot=True, fmt=\".2f\", cmap='coolwarm')\n",
    "plt.title(\"Feature Correlation Matrix\")\n",
    "plt.show()"
   ],
   "outputs": []
  },
  {
   "cell_type": "code",
   "execution_count": 217,
   "id": "f15f84660f31f981",
   "metadata": {
    "ExecuteTime": {
     "end_time": "2024-04-02T13:01:14.604906Z",
     "start_time": "2024-04-02T13:01:14.571742Z"
    },
    "collapsed": false
   },
   "source": [
    "data_combined.corr()"
   ],
   "outputs": []
  },
  {
   "cell_type": "markdown",
   "id": "769cf66edff0d70a",
   "metadata": {
    "collapsed": false
   },
   "source": []
  },
  {
   "cell_type": "code",
   "execution_count": 2,
   "id": "c737d87b9cd5d9ed",
   "metadata": {
    "ExecuteTime": {
     "end_time": "2024-04-03T09:57:43.476638Z",
     "start_time": "2024-04-03T09:57:42.637010Z"
    },
    "collapsed": false
   },
   "source": [
    "from data.get_data import get_common_data\n",
    "\n",
    "data = get_common_data( 'SHSE.510300', '2019-02-28', '2020-02-28',3)\n",
    "data"
   ],
   "outputs": []
  }
 ],
 "metadata": {
  "kernelspec": {
   "display_name": "Python 3",
   "language": "python",
   "name": "python3"
  },
  "language_info": {
   "codemirror_mode": {
    "name": "ipython",
    "version": 3
   },
   "file_extension": ".py",
   "mimetype": "text/x-python",
   "name": "python",
   "nbconvert_exporter": "python",
   "pygments_lexer": "ipython3",
   "version": "3.11.8"
  }
 },
 "nbformat": 4,
 "nbformat_minor": 5
}
