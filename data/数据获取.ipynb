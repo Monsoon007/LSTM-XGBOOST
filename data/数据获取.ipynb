{
 "cells": [
  {
   "cell_type": "code",
   "execution_count": 30,
   "id": "initial_id",
   "metadata": {
    "collapsed": true,
    "ExecuteTime": {
     "end_time": "2024-04-03T09:48:03.623743Z",
     "start_time": "2024-04-03T09:48:03.621488Z"
    }
   },
   "outputs": [],
   "source": []
  },
  {
   "cell_type": "markdown",
   "source": [
    "# 宏观经济数据获取"
   ],
   "metadata": {
    "collapsed": false
   },
   "id": "fd812a991ccc74c2"
  },
  {
   "cell_type": "markdown",
   "source": [
    "初始宏观数据获取：https://uestc.feishu.cn/wiki/DrMYw98b2iVGRbkBfH3cGzeTnoe#EdkHdlhkkoahbEx18ZxcszeRnzb"
   ],
   "metadata": {
    "collapsed": false
   },
   "id": "59895789850b3828"
  },
  {
   "cell_type": "code",
   "outputs": [],
   "source": [
    "import pandas as pd"
   ],
   "metadata": {
    "collapsed": false,
    "ExecuteTime": {
     "end_time": "2024-04-03T09:48:03.649405Z",
     "start_time": "2024-04-03T09:48:03.645696Z"
    }
   },
   "id": "f133ab8765991c8c",
   "execution_count": 31
  },
  {
   "cell_type": "code",
   "outputs": [
    {
     "data": {
      "text/plain": "0       2005-01-01\n1       2005-01-02\n2       2005-01-03\n3       2005-01-04\n4       2005-01-05\n           ...    \n7026    2024-03-28\n7027    2024-03-29\n7028    2024-03-30\n7029    2024-03-31\n7030    2024-04-01\nName: date, Length: 7031, dtype: object"
     },
     "execution_count": 32,
     "metadata": {},
     "output_type": "execute_result"
    }
   ],
   "source": [
    "macro = pd.read_csv('../data/macro.csv')\n",
    "macro.date"
   ],
   "metadata": {
    "collapsed": false,
    "ExecuteTime": {
     "end_time": "2024-04-03T09:48:03.670514Z",
     "start_time": "2024-04-03T09:48:03.650409Z"
    }
   },
   "id": "ed5db2162077be70",
   "execution_count": 32
  },
  {
   "cell_type": "code",
   "outputs": [
    {
     "name": "stdout",
     "output_type": "stream",
     "text": [
      "<class 'pandas.core.frame.DataFrame'>\n",
      "DatetimeIndex: 7031 entries, 2005-01-01 to 2024-04-01\n",
      "Data columns (total 23 columns):\n",
      " #   Column                    Non-Null Count  Dtype  \n",
      "---  ------                    --------------  -----  \n",
      " 0   bdi                       7031 non-null   float64\n",
      " 1   chibor_1M                 3396 non-null   float64\n",
      " 2   chibor_1Y                 3386 non-null   float64\n",
      " 3   chibor_1w                 3396 non-null   float64\n",
      " 4   chibor_2M                 3395 non-null   float64\n",
      " 5   chibor_2w                 3396 non-null   float64\n",
      " 6   chibor_3M                 3396 non-null   float64\n",
      " 7   chibor_3w                 3396 non-null   float64\n",
      " 8   chibor_4M                 3396 non-null   float64\n",
      " 9   chibor_6M                 3395 non-null   float64\n",
      " 10  chibor_9M                 3393 non-null   float64\n",
      " 11  chibor_on                 3396 non-null   float64\n",
      " 12  cpi                       7031 non-null   float64\n",
      " 13  end_investor_num          3252 non-null   float64\n",
      " 14  foreign_exchange_reserve  7031 non-null   float64\n",
      " 15  gdp                       7031 non-null   float64\n",
      " 16  gold_reserve              7031 non-null   float64\n",
      " 17  m0                        7031 non-null   float64\n",
      " 18  m1                        7031 non-null   float64\n",
      " 19  m2                        7031 non-null   float64\n",
      " 20  new_investors_num         3252 non-null   float64\n",
      " 21  pmi                       7001 non-null   float64\n",
      " 22  ppi                       7031 non-null   float64\n",
      "dtypes: float64(23)\n",
      "memory usage: 1.3 MB\n",
      "<class 'pandas.core.frame.DataFrame'>\n",
      "DatetimeIndex: 7031 entries, 2005-01-01 to 2024-04-01\n",
      "Data columns (total 10 columns):\n",
      " #   Column                    Non-Null Count  Dtype  \n",
      "---  ------                    --------------  -----  \n",
      " 0   bdi                       7031 non-null   float64\n",
      " 1   cpi                       7031 non-null   float64\n",
      " 2   foreign_exchange_reserve  7031 non-null   float64\n",
      " 3   gdp                       7031 non-null   float64\n",
      " 4   gold_reserve              7031 non-null   float64\n",
      " 5   m0                        7031 non-null   float64\n",
      " 6   m1                        7031 non-null   float64\n",
      " 7   m2                        7031 non-null   float64\n",
      " 8   pmi                       7001 non-null   float64\n",
      " 9   ppi                       7031 non-null   float64\n",
      "dtypes: float64(10)\n",
      "memory usage: 604.2 KB\n"
     ]
    }
   ],
   "source": [
    "\n",
    "# date列转换为datetime类型,作为索引\n",
    "macro['date'] = pd.to_datetime(macro['date'])\n",
    "macro.set_index('date', inplace=True)\n",
    "#去除 Unnamed: 0  \n",
    "macro.drop(columns='Unnamed: 0', inplace=True)\n",
    "# 去除 'instrument`\n",
    "macro.drop(columns='instrument', inplace=True)\n",
    "macro.info()\n",
    "# 将数据少于7000的列名保存\n",
    "columns = macro.columns[macro.count() < 7000]\n",
    "\n",
    "# 删除数据少于7000的列\n",
    "macro.drop(columns=columns, inplace=True)\n",
    "macro.info()"
   ],
   "metadata": {
    "collapsed": false,
    "ExecuteTime": {
     "end_time": "2024-04-03T09:48:06.042782Z",
     "start_time": "2024-04-03T09:48:06.027001Z"
    }
   },
   "id": "8bd542caf1416180",
   "execution_count": 33
  },
  {
   "cell_type": "code",
   "outputs": [],
   "source": [
    "# 从tushare获取shibor数据更换chibor,https://tushare.pro/document/2?doc_id=149\n",
    "import tushare as ts\n",
    "ts.set_token('cf094cccea90680f4b0e247d02aea0407ed0592f949b8c0417ad7bef')\n",
    "pro = ts.pro_api()"
   ],
   "metadata": {
    "collapsed": false,
    "ExecuteTime": {
     "end_time": "2024-04-03T09:40:23.365083Z",
     "start_time": "2024-04-03T09:40:23.355003Z"
    }
   },
   "id": "bd1da2b3341d4caa",
   "execution_count": 19
  },
  {
   "cell_type": "code",
   "outputs": [
    {
     "name": "stdout",
     "output_type": "stream",
     "text": [
      "<class 'pandas.core.frame.DataFrame'>\n",
      "Int64Index: 4350 entries, 0 to 63\n",
      "Data columns (total 9 columns):\n",
      " #   Column  Non-Null Count  Dtype  \n",
      "---  ------  --------------  -----  \n",
      " 0   date    4350 non-null   object \n",
      " 1   on      4350 non-null   float64\n",
      " 2   1w      4350 non-null   float64\n",
      " 3   2w      4350 non-null   float64\n",
      " 4   1m      4350 non-null   float64\n",
      " 5   3m      4350 non-null   float64\n",
      " 6   6m      4350 non-null   float64\n",
      " 7   9m      4350 non-null   float64\n",
      " 8   1y      4350 non-null   float64\n",
      "dtypes: float64(8), object(1)\n",
      "memory usage: 339.8+ KB\n"
     ]
    }
   ],
   "source": [
    "# 逐年取出2005-2024每年的数据，合并\n",
    "shibor = pd.DataFrame()\n",
    "for year in range(2005,2025):\n",
    "    shibor = pd.concat([shibor,pro.shibor(start_date=f'{year}0101', end_date=f'{year}1231')])\n",
    "    \n",
    "shibor.info()"
   ],
   "metadata": {
    "collapsed": false,
    "ExecuteTime": {
     "end_time": "2024-04-03T09:45:32.496791Z",
     "start_time": "2024-04-03T09:45:26.335048Z"
    }
   },
   "id": "c0db5c7113c496e9",
   "execution_count": 22
  },
  {
   "cell_type": "code",
   "outputs": [
    {
     "name": "stdout",
     "output_type": "stream",
     "text": [
      "<class 'pandas.core.frame.DataFrame'>\n",
      "DatetimeIndex: 4350 entries, 2006-12-31 to 2024-01-02\n",
      "Data columns (total 8 columns):\n",
      " #   Column  Non-Null Count  Dtype  \n",
      "---  ------  --------------  -----  \n",
      " 0   on      4350 non-null   float64\n",
      " 1   1w      4350 non-null   float64\n",
      " 2   2w      4350 non-null   float64\n",
      " 3   1m      4350 non-null   float64\n",
      " 4   3m      4350 non-null   float64\n",
      " 5   6m      4350 non-null   float64\n",
      " 6   9m      4350 non-null   float64\n",
      " 7   1y      4350 non-null   float64\n",
      "dtypes: float64(8)\n",
      "memory usage: 305.9 KB\n"
     ]
    }
   ],
   "source": [
    "# date作为shibor的索引\n",
    "shibor['date'] = pd.to_datetime(shibor['date'])\n",
    "shibor.set_index('date', inplace=True)\n",
    "shibor.info()"
   ],
   "metadata": {
    "collapsed": false,
    "ExecuteTime": {
     "end_time": "2024-04-03T09:46:59.130023Z",
     "start_time": "2024-04-03T09:46:59.121504Z"
    }
   },
   "id": "2a58f0a670cd2c21",
   "execution_count": 24
  },
  {
   "cell_type": "code",
   "outputs": [
    {
     "name": "stdout",
     "output_type": "stream",
     "text": [
      "<class 'pandas.core.frame.DataFrame'>\n",
      "DatetimeIndex: 4348 entries, 2006-10-08 to 2024-04-01\n",
      "Data columns (total 18 columns):\n",
      " #   Column                    Non-Null Count  Dtype  \n",
      "---  ------                    --------------  -----  \n",
      " 0   bdi                       4348 non-null   float64\n",
      " 1   cpi                       4348 non-null   float64\n",
      " 2   foreign_exchange_reserve  4348 non-null   float64\n",
      " 3   gdp                       4348 non-null   float64\n",
      " 4   gold_reserve              4348 non-null   float64\n",
      " 5   m0                        4348 non-null   float64\n",
      " 6   m1                        4348 non-null   float64\n",
      " 7   m2                        4348 non-null   float64\n",
      " 8   pmi                       4348 non-null   float64\n",
      " 9   ppi                       4348 non-null   float64\n",
      " 10  shibor_on                 4348 non-null   float64\n",
      " 11  shibor_1w                 4348 non-null   float64\n",
      " 12  shibor_2w                 4348 non-null   float64\n",
      " 13  shibor_1m                 4348 non-null   float64\n",
      " 14  shibor_3m                 4348 non-null   float64\n",
      " 15  shibor_6m                 4348 non-null   float64\n",
      " 16  shibor_9m                 4348 non-null   float64\n",
      " 17  shibor_1y                 4348 non-null   float64\n",
      "dtypes: float64(18)\n",
      "memory usage: 645.4 KB\n"
     ]
    }
   ],
   "source": [
    "# 首先，我们需要为 shibor 数据集的列名添加前缀 'shibor_'\n",
    "shibor.columns = 'shibor_' + shibor.columns\n",
    "\n",
    "# 然后，我们需要将 shibor 数据集与 macro 数据集根据date进行合并\n",
    "macro = pd.merge(macro, shibor, left_index=True, right_index=True, how='left')\n",
    "\n",
    "# 去除有空数据的行\n",
    "macro.dropna(inplace=True)\n",
    "macro.info()"
   ],
   "metadata": {
    "collapsed": false,
    "ExecuteTime": {
     "end_time": "2024-04-03T09:50:29.630353Z",
     "start_time": "2024-04-03T09:50:29.618669Z"
    }
   },
   "id": "b32a714c12cf7fdb",
   "execution_count": 34
  },
  {
   "cell_type": "code",
   "outputs": [],
   "source": [
    "# 保存数据\n",
    "macro.to_excel('../data/macro.xlsx')"
   ],
   "metadata": {
    "collapsed": false,
    "ExecuteTime": {
     "end_time": "2024-04-03T09:50:45.541857Z",
     "start_time": "2024-04-03T09:50:44.671618Z"
    }
   },
   "id": "c7cf89cdbf28926e",
   "execution_count": 36
  },
  {
   "cell_type": "markdown",
   "source": [
    "# 情绪数据获取"
   ],
   "metadata": {
    "collapsed": false
   },
   "id": "c1dfb05435a03d3e"
  },
  {
   "cell_type": "code",
   "outputs": [
    {
     "name": "stdout",
     "output_type": "stream",
     "text": [
      "<class 'pandas.core.frame.DataFrame'>\n",
      "Index: 484 entries, 2022-04-06 to 2024-04-01\n",
      "Data columns (total 2 columns):\n",
      " #   Column  Non-Null Count  Dtype  \n",
      "---  ------  --------------  -----  \n",
      " 0   fear    484 non-null    float64\n",
      " 1   index   484 non-null    float64\n",
      "dtypes: float64(2)\n",
      "memory usage: 11.3+ KB\n"
     ]
    }
   ],
   "source": [
    "import akshare as ak\n",
    "\n",
    "index_fear_greed_funddb_df = ak.index_fear_greed_funddb(symbol=\"沪深300\")\n",
    "\n",
    "# date作为索引\n",
    "index_fear_greed_funddb_df.set_index('date',inplace=True)\n",
    "index_fear_greed_funddb_df.info()"
   ],
   "metadata": {
    "collapsed": false,
    "ExecuteTime": {
     "end_time": "2024-04-02T08:14:09.564716Z",
     "start_time": "2024-04-02T08:14:09.011762Z"
    }
   },
   "id": "b48df25461e35238",
   "execution_count": 6
  },
  {
   "cell_type": "code",
   "outputs": [
    {
     "data": {
      "text/plain": "0      2022-04-06\n1      2022-04-07\n2      2022-04-08\n3      2022-04-11\n4      2022-04-12\n          ...    \n479    2024-03-26\n480    2024-03-27\n481    2024-03-28\n482    2024-03-29\n483    2024-04-01\nName: date, Length: 484, dtype: object"
     },
     "execution_count": 3,
     "metadata": {},
     "output_type": "execute_result"
    }
   ],
   "source": [
    "index_fear_greed_funddb_df.date"
   ],
   "metadata": {
    "collapsed": false,
    "ExecuteTime": {
     "end_time": "2024-04-02T08:13:12.302189Z",
     "start_time": "2024-04-02T08:13:12.297258Z"
    }
   },
   "id": "a49649a448e5e077",
   "execution_count": 3
  },
  {
   "cell_type": "code",
   "outputs": [],
   "source": [],
   "metadata": {
    "collapsed": false
   },
   "id": "7743afd518e591ac"
  },
  {
   "cell_type": "markdown",
   "source": [
    "# 平均日收益率的聚类最大值最小值"
   ],
   "metadata": {
    "collapsed": false
   },
   "id": "e94cbb270879db2d"
  },
  {
   "cell_type": "code",
   "outputs": [
    {
     "data": {
      "text/plain": "count    1975.00000000\nmean        0.00056551\nstd         0.01561752\nmin        -0.10005198\n25%        -0.00598767\n50%         0.00040412\n75%         0.00715542\nmax         0.09991337\nName: avg_daily_return_1, dtype: float64"
     },
     "execution_count": 40,
     "metadata": {},
     "output_type": "execute_result"
    }
   ],
   "source": [
    "from data.get_data import get_common_data\n",
    "\n",
    "data = get_common_data( 'SHSE.510300','2008-01-01', '2021-01-01',1)\n",
    "data = data.iloc[:,-1]\n",
    "data.describe()"
   ],
   "metadata": {
    "collapsed": false,
    "ExecuteTime": {
     "end_time": "2024-04-03T16:37:31.584323Z",
     "start_time": "2024-04-03T16:37:30.962754Z"
    }
   },
   "id": "58f746d0ca7cef79",
   "execution_count": 40
  },
  {
   "cell_type": "code",
   "outputs": [],
   "source": [],
   "metadata": {
    "collapsed": false
   },
   "id": "a3f3f95c05635b5f"
  }
 ],
 "metadata": {
  "kernelspec": {
   "display_name": "Python 3",
   "language": "python",
   "name": "python3"
  },
  "language_info": {
   "codemirror_mode": {
    "name": "ipython",
    "version": 2
   },
   "file_extension": ".py",
   "mimetype": "text/x-python",
   "name": "python",
   "nbconvert_exporter": "python",
   "pygments_lexer": "ipython2",
   "version": "2.7.6"
  }
 },
 "nbformat": 4,
 "nbformat_minor": 5
}
