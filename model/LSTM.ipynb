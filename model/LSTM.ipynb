{
 "cells": [
  {
   "cell_type": "code",
   "execution_count": null,
   "id": "initial_id",
   "metadata": {
    "collapsed": true
   },
   "outputs": [],
   "source": []
  },
  {
   "cell_type": "code",
   "outputs": [],
   "source": [
    "from data.get_data import get_common_data\n",
    "\n",
    "symbol = 'SHSE.510300'\n",
    "\n",
    "start_date = '2006-01-01'\n",
    "end_date = '2021-01-01'\n",
    "# 2006-2021作为模型的训练集\n",
    "# 2021-2024作为模型的测试集\n",
    "# 比例为（21-6）/（24-21）=3/1\n",
    "# 虽然这个比例相对较大，但是由于量化交易数据的动态性，历史数据本来就远大于模型预期要应用于的数据\n",
    "\n",
    "base_data = get_common_data(symbol, start_date, end_date, T)"
   ],
   "metadata": {
    "collapsed": false
   },
   "id": "d377ce7c28d22344"
  },
  {
   "cell_type": "code",
   "outputs": [],
   "source": [],
   "metadata": {
    "collapsed": false
   },
   "id": "aad757baec1e115e"
  }
 ],
 "metadata": {
  "kernelspec": {
   "display_name": "Python 3",
   "language": "python",
   "name": "python3"
  },
  "language_info": {
   "codemirror_mode": {
    "name": "ipython",
    "version": 2
   },
   "file_extension": ".py",
   "mimetype": "text/x-python",
   "name": "python",
   "nbconvert_exporter": "python",
   "pygments_lexer": "ipython2",
   "version": "2.7.6"
  }
 },
 "nbformat": 4,
 "nbformat_minor": 5
}
