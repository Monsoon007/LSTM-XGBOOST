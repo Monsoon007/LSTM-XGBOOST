{
 "cells": [
  {
   "cell_type": "code",
   "outputs": [],
   "source": [
    "from model.LSTM_data_handle import data_for_lstm\n",
    "from data.get_data import get_common_data\n",
    "import torch\n",
    "import torch.nn as nn\n",
    "from torch.utils.data import DataLoader, TensorDataset"
   ],
   "metadata": {
    "collapsed": false
   },
   "id": "50c53241a4b59166"
  },
  {
   "cell_type": "code",
   "outputs": [],
   "source": [
    "\n",
    "\n",
    "symbol = 'SHSE.510300'\n",
    "\n",
    "# 2006-2020作为模型的训练集\n",
    "# 2020-2021作为模型的验证集\n",
    "# 2021-2024作为模型的测试集\n",
    "# 比例为  14：1：3\n",
    "# 虽然这个比例相对较大，但是由于量化交易数据的动态性，历史数据本来就远大于模型预期要应用于的数据\n",
    "\n",
    "train_start_date = '2006-01-01'\n",
    "train_end_date = '2020-01-01'\n",
    "val_start_date = '2020-01-01'\n",
    "val_end_date = '2021-01-01'\n",
    "test_start_date = '2021-01-01'\n",
    "test_end_date = '2024-01-01'"
   ],
   "metadata": {
    "collapsed": false
   },
   "id": "20eac5e222da7319"
  },
  {
   "cell_type": "code",
   "outputs": [],
   "source": [
    "T = 3\n",
    "train_data = get_common_data(symbol, train_start_date, train_end_date)"
   ],
   "metadata": {
    "collapsed": false
   },
   "id": "d377ce7c28d22344"
  },
  {
   "cell_type": "code",
   "outputs": [],
   "source": [
    "# 为LSTM模型处理好数据\n",
    "window_size = 40\n",
    "X, Y = data_for_lstm(train_data, window_size)"
   ],
   "metadata": {
    "collapsed": false
   },
   "id": "aad757baec1e115e"
  },
  {
   "cell_type": "code",
   "outputs": [],
   "source": [
    "# 定义模型参数\n",
    "input_dim = X.shape[2] # X的形状为(样本数量, 窗口大小, 特征数量)，y的形状为(样本数量,)。\n",
    "hidden_dim = 50\n",
    "num_layers = 3\n",
    "output_dim = 1"
   ],
   "metadata": {
    "collapsed": false
   },
   "id": "d02f2962896a4a23"
  },
  {
   "cell_type": "code",
   "outputs": [],
   "source": [
    "# 检查CUDA是否可用，并选择设备\n",
    "device = torch.device(\"cuda\" if torch.cuda.is_available() else \"cpu\")\n",
    "\n",
    "class LSTMModel(nn.Module):\n",
    "    def __init__(self, input_dim, hidden_dim, num_layers, output_dim):\n",
    "        super(LSTMModel, self).__init__()\n",
    "        self.hidden_dim = hidden_dim\n",
    "        self.num_layers = num_layers\n",
    "\n",
    "        self.lstm = nn.LSTM(input_dim, hidden_dim, num_layers, batch_first=True, dropout=0.2)\n",
    "        self.fc = nn.Linear(hidden_dim, output_dim)\n",
    "\n",
    "    def forward(self, x):\n",
    "        # 初始化隐藏状态和细胞状态\n",
    "        h0 = torch.zeros(self.num_layers, x.size(0), self.hidden_dim).to(device).requires_grad_()\n",
    "        c0 = torch.zeros(self.num_layers, x.size(0), self.hidden_dim).to(device).requires_grad_()\n",
    "        out, (hn, cn) = self.lstm(x, (h0.detach(), c0.detach()))\n",
    "        out = self.fc(out[:, -1, :])  # 取LSTM最后一个时间步的输出\n",
    "        return out"
   ],
   "metadata": {
    "collapsed": false
   },
   "id": "64233ff0deaa74c0"
  },
  {
   "cell_type": "code",
   "outputs": [],
   "source": [
    "model = LSTMModel(input_dim, hidden_dim, num_layers, output_dim).to(device)  # 移动模型到GPU"
   ],
   "metadata": {
    "collapsed": false
   },
   "id": "23d9090515e6bbef"
  },
  {
   "cell_type": "code",
   "outputs": [],
   "source": [
    "# 定义损失函数和优化器\n",
    "criterion = torch.nn.MSELoss()\n",
    "optimizer = torch.optim.Adam(model.parameters(), lr=0.01)"
   ],
   "metadata": {
    "collapsed": false
   },
   "id": "8552a286f2afbb52"
  },
  {
   "cell_type": "code",
   "outputs": [],
   "source": [
    "# 准备数据\n",
    "X_tensor = torch.tensor(X, dtype=torch.float32).to(device)  # 移动数据到GPU\n",
    "Y_tensor = torch.tensor(Y.reshape(-1, 1), dtype=torch.float32).to(device)  # 移动数据到GPU\n",
    "train_data = TensorDataset(X_tensor[:-T], Y_tensor[:-T])\n",
    "train_loader = DataLoader(dataset=train_data, batch_size=16, shuffle=True)"
   ],
   "metadata": {
    "collapsed": false
   },
   "id": "af117e5b1895cc75"
  },
  {
   "cell_type": "code",
   "outputs": [],
   "source": [
    "# 训练模型\n",
    "epochs = 100\n",
    "model.train()  # 设置模型为训练模式\n",
    "for epoch in range(epochs):\n",
    "    for inputs, targets in train_loader:\n",
    "        optimizer.zero_grad()\n",
    "        y_pred = model(inputs)\n",
    "        loss = criterion(y_pred, targets)\n",
    "        loss.backward()\n",
    "        optimizer.step()\n",
    "    if (epoch + 1) % 10 == 0:\n",
    "        print(f'Epoch {epoch + 1}, Loss: {loss.item()}')\n"
   ],
   "metadata": {
    "collapsed": false
   },
   "id": "f345cada85fd3f28"
  },
  {
   "cell_type": "code",
   "outputs": [],
   "source": [
    "# 预测\n",
    "model.eval()  # 设置模型为评估模式\n",
    "with torch.no_grad():\n",
    "    X_test_tensor = torch.tensor(X[-T:], dtype=torch.float32).to(device)  # 确保测试数据也在GPU上\n",
    "    predicted_returns = model(X_test_tensor)\n",
    "    predicted_returns = predicted_returns.cpu().numpy()  # 将预测结果移回CPU"
   ],
   "metadata": {
    "collapsed": false
   },
   "id": "f29dc98a2fbcc37a"
  }
 ],
 "metadata": {
  "kernelspec": {
   "display_name": "Python 3",
   "language": "python",
   "name": "python3"
  },
  "language_info": {
   "codemirror_mode": {
    "name": "ipython",
    "version": 2
   },
   "file_extension": ".py",
   "mimetype": "text/x-python",
   "name": "python",
   "nbconvert_exporter": "python",
   "pygments_lexer": "ipython2",
   "version": "2.7.6"
  }
 },
 "nbformat": 4,
 "nbformat_minor": 5
}
