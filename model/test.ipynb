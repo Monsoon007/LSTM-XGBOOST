{
 "cells": [
  {
   "metadata": {
    "ExecuteTime": {
     "end_time": "2024-05-06T07:59:19.593409Z",
     "start_time": "2024-05-06T07:59:18.908558Z"
    }
   },
   "cell_type": "code",
   "source": [
    "from data.get_data import get_common_data\n",
    "from model.LSTM_base_model import train_start_date,train_end_date\n",
    "import  pandas as pd\n",
    "\n",
    "\n",
    "#转换为df\n",
    "df = pd.DataFrame(get_common_data('SHSE.510300',train_start_date,train_end_date,1,threshold=0.001).iloc[:,-1].rename('Y_pred'))"
   ],
   "id": "f859b0963c60e438",
   "outputs": [],
   "execution_count": 7
  },
  {
   "metadata": {
    "ExecuteTime": {
     "end_time": "2024-05-06T07:59:22.003751Z",
     "start_time": "2024-05-06T07:59:21.997809Z"
    }
   },
   "cell_type": "code",
   "source": [
    "from model.LSTM_base_model import calculate_performance_score\n",
    "\n",
    "calculate_performance_score(df['Y_pred'], df['Y_pred'])"
   ],
   "id": "8c64a8f5acb99b06",
   "outputs": [
    {
     "data": {
      "text/plain": [
       "2.0"
      ]
     },
     "execution_count": 8,
     "metadata": {},
     "output_type": "execute_result"
    }
   ],
   "execution_count": 8
  },
  {
   "cell_type": "code",
   "id": "initial_id",
   "metadata": {
    "collapsed": true,
    "ExecuteTime": {
     "end_time": "2024-05-03T06:36:40.727573Z",
     "start_time": "2024-05-03T06:36:37.602943Z"
    }
   },
   "source": [
    "from LSTM_base_model import  lstm_predict,best_lstm_model,val_start_date,val_end_date\n",
    "\n",
    "model_dict = best_lstm_model(T=3)\n",
    "model_dict"
   ],
   "outputs": [
    {
     "data": {
      "text/plain": [
       "{'T': 3,\n",
       " 'window_size': 120,\n",
       " 'hidden_dim': 30,\n",
       " 'num_layers': 3,\n",
       " 'model_path': 'lstm_models_7\\\\best_lstm_model_T3_window120_hidden30_layers3.pth'}"
      ]
     },
     "execution_count": 1,
     "metadata": {},
     "output_type": "execute_result"
    }
   ],
   "execution_count": 1
  },
  {
   "metadata": {
    "ExecuteTime": {
     "end_time": "2024-05-03T06:38:07.194696Z",
     "start_time": "2024-05-03T06:38:05.969123Z"
    }
   },
   "cell_type": "code",
   "source": [
    "result = lstm_predict(model_dict,start_date=val_start_date,end_date=val_end_date)\n",
    "result.info()"
   ],
   "id": "f8980ffa7ee5fece",
   "outputs": [
    {
     "name": "stdout",
     "output_type": "stream",
     "text": [
      "<class 'pandas.core.frame.DataFrame'>\n",
      "DatetimeIndex: 378 entries, 2020-07-09 to 2021-12-20\n",
      "Freq: B\n",
      "Data columns (total 5 columns):\n",
      " #   Column       Non-Null Count  Dtype  \n",
      "---  ------       --------------  -----  \n",
      " 0   Y_true       378 non-null    int64  \n",
      " 1   Y_pred       378 non-null    int64  \n",
      " 2   Prob_down    378 non-null    float32\n",
      " 3   Prob_stable  378 non-null    float32\n",
      " 4   Prob_up      378 non-null    float32\n",
      "dtypes: float32(3), int64(2)\n",
      "memory usage: 13.3 KB\n"
     ]
    }
   ],
   "execution_count": 3
  },
  {
   "metadata": {
    "ExecuteTime": {
     "end_time": "2024-05-03T06:49:36.470823Z",
     "start_time": "2024-05-03T06:49:36.465592Z"
    }
   },
   "cell_type": "code",
   "source": [
    "# 查看Y_true和Y_pred的分布\n",
    "result['Y_true'].value_counts()\n",
    "# result['Y_pred'].value_counts()"
   ],
   "id": "5580c0280865481f",
   "outputs": [
    {
     "data": {
      "text/plain": [
       "2    166\n",
       "0    155\n",
       "1     57\n",
       "Name: Y_true, dtype: int64"
      ]
     },
     "execution_count": 5,
     "metadata": {},
     "output_type": "execute_result"
    }
   ],
   "execution_count": 5
  },
  {
   "metadata": {
    "ExecuteTime": {
     "end_time": "2024-05-03T12:49:36.140544Z",
     "start_time": "2024-05-03T12:49:35.682047Z"
    }
   },
   "cell_type": "code",
   "source": [
    "from sklearn.metrics import accuracy_score, precision_score, recall_score, f1_score, confusion_matrix\n",
    "import pandas as pd\n",
    "# 假设y_true是真实标签，y_pred是预测标签\n",
    "y_true = result['Y_true']\n",
    "y_pred = result['Y_pred']\n",
    "\n",
    "\n",
    "# 计算混淆矩阵\n",
    "conf_matrix = confusion_matrix(y_true, y_pred)\n",
    "# 混淆矩阵标签优化\n",
    "conf_matrix = pd.DataFrame(conf_matrix, columns=['Predicted 0', 'Predicted 1', 'Predicted 2'], index=['Actual 0', 'Actual 1', 'Actual 2'])\n",
    "\n",
    "# 计算预测为0的召回率\n",
    "recall_0 = conf_matrix.iloc[0, 0] / conf_matrix.iloc[0, :].sum()\n",
    "\n",
    "#计算预测为2的召回率\n",
    "recall_2 = conf_matrix.iloc[2, 2] / conf_matrix.iloc[2, :].sum()\n",
    "\n",
    "# 计算应该为2，但是预测为0；应该为0，但是预测为2的概率\n",
    "fpr_0 = conf_matrix.iloc[0, 2] / conf_matrix.iloc[0, :].sum()\n",
    "fpr_2 = conf_matrix.iloc[2, 0] / conf_matrix.iloc[2, :].sum()\n",
    "\n",
    "# 用一个指标融合这四个指标，其中召回率越高越好，fpr越低越好\n",
    "score = recall_0 + recall_2 - fpr_0 - fpr_2\n",
    "\n",
    "score"
   ],
   "id": "74efaecd4c184ac7",
   "outputs": [
    {
     "ename": "NameError",
     "evalue": "name 'result' is not defined",
     "output_type": "error",
     "traceback": [
      "\u001B[1;31m---------------------------------------------------------------------------\u001B[0m",
      "\u001B[1;31mNameError\u001B[0m                                 Traceback (most recent call last)",
      "Cell \u001B[1;32mIn[2], line 4\u001B[0m\n\u001B[0;32m      2\u001B[0m \u001B[38;5;28;01mimport\u001B[39;00m \u001B[38;5;21;01mpandas\u001B[39;00m \u001B[38;5;28;01mas\u001B[39;00m \u001B[38;5;21;01mpd\u001B[39;00m\n\u001B[0;32m      3\u001B[0m \u001B[38;5;66;03m# 假设y_true是真实标签，y_pred是预测标签\u001B[39;00m\n\u001B[1;32m----> 4\u001B[0m y_true \u001B[38;5;241m=\u001B[39m result[\u001B[38;5;124m'\u001B[39m\u001B[38;5;124mY_true\u001B[39m\u001B[38;5;124m'\u001B[39m]\n\u001B[0;32m      5\u001B[0m y_pred \u001B[38;5;241m=\u001B[39m result[\u001B[38;5;124m'\u001B[39m\u001B[38;5;124mY_pred\u001B[39m\u001B[38;5;124m'\u001B[39m]\n\u001B[0;32m      8\u001B[0m \u001B[38;5;66;03m# 计算混淆矩阵\u001B[39;00m\n",
      "\u001B[1;31mNameError\u001B[0m: name 'result' is not defined"
     ]
    }
   ],
   "execution_count": 2
  },
  {
   "metadata": {},
   "cell_type": "code",
   "outputs": [
    {
     "name": "stdout",
     "output_type": "stream",
     "text": [
      "Accuracy: 0.6402116402116402\n",
      "Confusion Matrix:\n",
      " [[116   0  39]\n",
      " [ 28   0  29]\n",
      " [ 40   0 126]]\n",
      "Precision: 0.4266397728970566\n",
      "Recall: 0.5024744137841689\n",
      "F1 Score: 0.46145526057030484\n"
     ]
    },
    {
     "name": "stderr",
     "output_type": "stream",
     "text": [
      "E:\\anaconda\\envs\\pytor\\Lib\\site-packages\\sklearn\\metrics\\_classification.py:1469: UndefinedMetricWarning: Precision is ill-defined and being set to 0.0 in labels with no predicted samples. Use `zero_division` parameter to control this behavior.\n",
      "  _warn_prf(average, modifier, msg_start, len(result))\n"
     ]
    }
   ],
   "execution_count": 6,
   "source": [
    "\n",
    "# 计算准确率\n",
    "accuracy = accuracy_score(y_true, y_pred)\n",
    "\n",
    "# 计算精确率\n",
    "precision = precision_score(y_true, y_pred)\n",
    "\n",
    "# 计算对于0或2的平均召回率\n",
    "recall = recall_score(y_true, y_pred, average='macro')\n",
    "\n",
    "\n"
   ],
   "id": "a5bc77d093d9a775"
  },
  {
   "metadata": {
    "ExecuteTime": {
     "end_time": "2024-05-03T06:20:58.805603Z",
     "start_time": "2024-05-03T06:20:57.610978Z"
    }
   },
   "cell_type": "code",
   "source": [
    "import pandas as pd\n",
    "import os\n",
    "import torch\n",
    "from model.LSTM_base_model import prepare_data, LSTMModel\n",
    "\n",
    "symbol = 'SHSE.510300'\n",
    "start_date = val_start_date\n",
    "end_date = val_end_date\n",
    "X_test, Y_true = prepare_data(symbol, start_date, end_date, model_dict['T'], model_dict['window_size'])\n",
    "# 检查如果GPU没有使用成功，raise error\n",
    "if torch.cuda.is_available():\n",
    "    device = torch.device('cuda')\n",
    "else:\n",
    "    raise ValueError('GPU not available')\n",
    "try:\n",
    "    model_path = model_dict['model_path']\n",
    "except KeyError:\n",
    "    model_path = model_dict['best_model_path']\n",
    "model = LSTMModel(X_test.shape[2], int(model_dict['hidden_dim']), model_dict['num_layers'], device).to(device)\n",
    "model.load_state_dict(torch.load(os.path.join('../model/', model_path)))\n",
    "model.eval()\n",
    "with torch.no_grad():\n",
    "    outputs = model(X_test.float().to(device))\n",
    "    outputs\n",
    "\n",
    "outputs"
   ],
   "id": "df99b08896ea7eac",
   "outputs": [
    {
     "data": {
      "text/plain": [
       "tensor([[-0.3946, -0.6753,  1.0613],\n",
       "        [ 0.6718, -0.4055,  0.0966],\n",
       "        [-0.0296, -0.5372,  0.7358],\n",
       "        ...,\n",
       "        [ 0.9426, -0.6852,  0.1544],\n",
       "        [ 1.0646, -0.6829,  0.0845],\n",
       "        [ 1.1624, -0.6667,  0.0036]], device='cuda:0')"
      ]
     },
     "execution_count": 4,
     "metadata": {},
     "output_type": "execute_result"
    }
   ],
   "execution_count": 4
  },
  {
   "metadata": {
    "ExecuteTime": {
     "end_time": "2024-05-03T06:28:08.919524Z",
     "start_time": "2024-05-03T06:28:08.914893Z"
    }
   },
   "cell_type": "code",
   "source": "len(outputs),len(Y_true)",
   "id": "b3d5d623b0813d6e",
   "outputs": [
    {
     "data": {
      "text/plain": [
       "(378, 378)"
      ]
     },
     "execution_count": 6,
     "metadata": {},
     "output_type": "execute_result"
    }
   ],
   "execution_count": 6
  },
  {
   "metadata": {
    "ExecuteTime": {
     "end_time": "2024-05-03T06:28:41.529461Z",
     "start_time": "2024-05-03T06:28:41.523948Z"
    }
   },
   "cell_type": "code",
   "source": "len(outputs.cpu().detach().numpy().flatten())",
   "id": "a2a8dcd02c60316e",
   "outputs": [
    {
     "data": {
      "text/plain": [
       "1134"
      ]
     },
     "execution_count": 8,
     "metadata": {},
     "output_type": "execute_result"
    }
   ],
   "execution_count": 8
  },
  {
   "metadata": {
    "ExecuteTime": {
     "end_time": "2024-05-03T06:31:50.857280Z",
     "start_time": "2024-05-03T06:31:50.844612Z"
    }
   },
   "cell_type": "code",
   "source": [
    "import torch.nn.functional as F\n",
    "probabilities = F.softmax(outputs, dim=1).cpu().detach().numpy()\n",
    "probabilities"
   ],
   "id": "a61da476dfb71111",
   "outputs": [
    {
     "data": {
      "text/plain": [
       "array([[0.16546279, 0.1249718 , 0.7095654 ],\n",
       "       [0.52546036, 0.178928  , 0.29561165],\n",
       "       [0.26654235, 0.16044284, 0.5730148 ],\n",
       "       ...,\n",
       "       [0.60568404, 0.11892876, 0.2753872 ],\n",
       "       [0.6453713 , 0.11242756, 0.24220113],\n",
       "       [0.67822105, 0.10889746, 0.21288155]], dtype=float32)"
      ]
     },
     "execution_count": 10,
     "metadata": {},
     "output_type": "execute_result"
    }
   ],
   "execution_count": 10
  },
  {
   "metadata": {
    "ExecuteTime": {
     "end_time": "2024-05-03T12:55:06.059805Z",
     "start_time": "2024-05-03T12:55:01.411064Z"
    }
   },
   "cell_type": "code",
   "source": [
    "from model.LSTM_base_model import best_lstm_model\n",
    "\n",
    "model_dict = best_lstm_model(T=3)\n",
    "model_dict"
   ],
   "id": "b0bf6baf442fcbbd",
   "outputs": [
    {
     "data": {
      "text/plain": [
       "{'T': 3,\n",
       " 'window_size': 120,\n",
       " 'hidden_dim': 30,\n",
       " 'num_layers': 3,\n",
       " 'model_path': 'lstm_models_7\\\\best_lstm_model_T3_window120_hidden30_layers3.pth',\n",
       " 'val_my_score': (3, 1.0148464827050137)}"
      ]
     },
     "execution_count": 1,
     "metadata": {},
     "output_type": "execute_result"
    }
   ],
   "execution_count": 1
  },
  {
   "metadata": {},
   "cell_type": "markdown",
   "source": "# XGB test",
   "id": "f0d9b29ccb50a207"
  },
  {
   "metadata": {
    "ExecuteTime": {
     "end_time": "2024-05-03T14:59:31.453040Z",
     "start_time": "2024-05-03T14:59:18.970161Z"
    }
   },
   "cell_type": "code",
   "source": [
    "from model.my_xgboost import lstm_to_xgboost, train_xgboost_classify\n",
    "import xgboost as xgb\n",
    "from model.LSTM_base_model import val_start_date, val_end_date,config_id\n",
    "import  os\n",
    "\n",
    "target_T = 3\n",
    "modelDirectory = f'../model/xgb_models_{config_id}'\n",
    "\n",
    "start_date = val_start_date\n",
    "end_date = val_end_date\n",
    "X, Y_true = lstm_to_xgboost(start_date, end_date, target_T)\n",
    "# 加载模型\n",
    "bst = xgb.Booster()\n",
    "\n",
    "if os.path.exists(f'{modelDirectory}/xgb_model_{target_T}.json'):\n",
    "    print(f'Loading xgb_model_{target_T}.json')\n",
    "    bst.load_model(f'{modelDirectory}/xgb_model_{target_T}.json')\n",
    "else:\n",
    "    print(f'Training xgb_model_{target_T}.json')\n",
    "    train_xgboost_classify(target_T)\n",
    "    bst.load_model(f'{modelDirectory}/xgb_model_{target_T}.json')\n",
    "# 将数据转换为DMatrix对象，XGBoost专用的数据结构\n",
    "dtest = xgb.DMatrix(X)\n",
    "# 预测\n",
    "Y_pred = bst.predict(dtest)\n",
    "Y_pred"
   ],
   "id": "dee6f533f021b918",
   "outputs": [
    {
     "name": "stdout",
     "output_type": "stream",
     "text": [
      "Loading xgb_model_3.json\n"
     ]
    },
    {
     "data": {
      "text/plain": [
       "array([[5.5825565e-02, 8.8440783e-02, 8.5573363e-01],\n",
       "       [7.6943469e-01, 2.0223601e-01, 2.8329294e-02],\n",
       "       [7.5407684e-01, 2.4545860e-01, 4.6455438e-04],\n",
       "       ...,\n",
       "       [8.5120720e-01, 9.0110444e-02, 5.8682390e-02],\n",
       "       [8.5120720e-01, 9.0110444e-02, 5.8682390e-02],\n",
       "       [8.5120720e-01, 9.0110444e-02, 5.8682390e-02]], dtype=float32)"
      ]
     },
     "execution_count": 2,
     "metadata": {},
     "output_type": "execute_result"
    }
   ],
   "execution_count": 2
  },
  {
   "metadata": {
    "ExecuteTime": {
     "end_time": "2024-05-04T13:09:56.546420Z",
     "start_time": "2024-05-04T13:08:51.375853Z"
    }
   },
   "cell_type": "code",
   "source": [
    "from model.my_xgboost import train_xgboost_classify\n",
    "\n",
    "train_xgboost_classify(15)"
   ],
   "id": "def1230b825fe4e2",
   "outputs": [
    {
     "name": "stderr",
     "output_type": "stream",
     "text": [
      "Running best_lstms: 100%|██████████| 10/10 [00:13<00:00,  1.33s/it]\n"
     ]
    },
    {
     "name": "stdout",
     "output_type": "stream",
     "text": [
      "[0]\teval-mlogloss:0.93159\n",
      "[1]\teval-mlogloss:0.84016\n",
      "[2]\teval-mlogloss:0.78577\n",
      "[3]\teval-mlogloss:0.75297\n",
      "[4]\teval-mlogloss:0.73436\n",
      "[5]\teval-mlogloss:0.72374\n",
      "[6]\teval-mlogloss:0.72085\n",
      "[7]\teval-mlogloss:0.72046\n",
      "[8]\teval-mlogloss:0.72106\n",
      "[9]\teval-mlogloss:0.72093\n",
      "[10]\teval-mlogloss:0.72410\n",
      "[11]\teval-mlogloss:0.72944\n",
      "[12]\teval-mlogloss:0.73426\n",
      "[13]\teval-mlogloss:0.74183\n",
      "[14]\teval-mlogloss:0.74085\n",
      "[15]\teval-mlogloss:0.74401\n",
      "[16]\teval-mlogloss:0.74326\n",
      "[17]\teval-mlogloss:0.74306\n",
      "[18]\teval-mlogloss:0.74945\n",
      "[19]\teval-mlogloss:0.75472\n",
      "[20]\teval-mlogloss:0.75798\n",
      "[21]\teval-mlogloss:0.75915\n",
      "[22]\teval-mlogloss:0.75931\n",
      "[23]\teval-mlogloss:0.76152\n",
      "[24]\teval-mlogloss:0.76350\n",
      "[25]\teval-mlogloss:0.76579\n",
      "[26]\teval-mlogloss:0.77159\n",
      "[27]\teval-mlogloss:0.77538\n",
      "[28]\teval-mlogloss:0.77975\n",
      "[29]\teval-mlogloss:0.78135\n",
      "[30]\teval-mlogloss:0.78366\n",
      "[31]\teval-mlogloss:0.78561\n",
      "[32]\teval-mlogloss:0.78737\n",
      "[33]\teval-mlogloss:0.78802\n",
      "[34]\teval-mlogloss:0.79329\n",
      "[35]\teval-mlogloss:0.79657\n",
      "[36]\teval-mlogloss:0.79566\n",
      "[37]\teval-mlogloss:0.79809\n",
      "[38]\teval-mlogloss:0.80046\n",
      "[39]\teval-mlogloss:0.80161\n",
      "[40]\teval-mlogloss:0.80414\n",
      "[41]\teval-mlogloss:0.80554\n",
      "[42]\teval-mlogloss:0.80932\n",
      "[43]\teval-mlogloss:0.81086\n",
      "[44]\teval-mlogloss:0.81122\n",
      "[45]\teval-mlogloss:0.81255\n",
      "[46]\teval-mlogloss:0.81531\n",
      "[47]\teval-mlogloss:0.82233\n",
      "[48]\teval-mlogloss:0.82295\n",
      "[49]\teval-mlogloss:0.82381\n",
      "[50]\teval-mlogloss:0.82651\n",
      "[51]\teval-mlogloss:0.82915\n",
      "[52]\teval-mlogloss:0.83264\n",
      "[53]\teval-mlogloss:0.83482\n",
      "[54]\teval-mlogloss:0.83817\n",
      "[55]\teval-mlogloss:0.84161\n",
      "[56]\teval-mlogloss:0.84417\n",
      "[57]\teval-mlogloss:0.84562\n",
      "[58]\teval-mlogloss:0.84519\n",
      "[59]\teval-mlogloss:0.84578\n",
      "[60]\teval-mlogloss:0.84716\n",
      "[61]\teval-mlogloss:0.84980\n",
      "[62]\teval-mlogloss:0.85089\n",
      "[63]\teval-mlogloss:0.85357\n",
      "[64]\teval-mlogloss:0.85558\n",
      "[65]\teval-mlogloss:0.85623\n",
      "[66]\teval-mlogloss:0.85638\n",
      "[67]\teval-mlogloss:0.85738\n",
      "[68]\teval-mlogloss:0.85879\n",
      "[69]\teval-mlogloss:0.86157\n",
      "[70]\teval-mlogloss:0.86472\n",
      "[71]\teval-mlogloss:0.86598\n",
      "[72]\teval-mlogloss:0.86972\n",
      "[73]\teval-mlogloss:0.87189\n",
      "[74]\teval-mlogloss:0.87255\n",
      "[75]\teval-mlogloss:0.87442\n",
      "[76]\teval-mlogloss:0.87542\n",
      "[77]\teval-mlogloss:0.87639\n",
      "[78]\teval-mlogloss:0.87873\n",
      "[79]\teval-mlogloss:0.87930\n",
      "[80]\teval-mlogloss:0.88159\n",
      "[81]\teval-mlogloss:0.88121\n",
      "[82]\teval-mlogloss:0.88147\n",
      "[83]\teval-mlogloss:0.88221\n",
      "[84]\teval-mlogloss:0.88474\n",
      "[85]\teval-mlogloss:0.88596\n",
      "[86]\teval-mlogloss:0.88768\n",
      "[87]\teval-mlogloss:0.88986\n",
      "[88]\teval-mlogloss:0.88984\n",
      "[89]\teval-mlogloss:0.89094\n",
      "[90]\teval-mlogloss:0.89338\n",
      "[91]\teval-mlogloss:0.89763\n",
      "[92]\teval-mlogloss:0.89998\n",
      "[93]\teval-mlogloss:0.90210\n",
      "[94]\teval-mlogloss:0.90568\n",
      "[95]\teval-mlogloss:0.90834\n",
      "[96]\teval-mlogloss:0.91052\n",
      "[97]\teval-mlogloss:0.91417\n",
      "[98]\teval-mlogloss:0.91668\n",
      "[99]\teval-mlogloss:0.91780\n",
      "Model saved to ../model/xgb_models_7/xgb_model_15.json\n"
     ]
    },
    {
     "data": {
      "text/plain": [
       "<Figure size 1000x800 with 0 Axes>"
      ]
     },
     "metadata": {},
     "output_type": "display_data"
    }
   ],
   "execution_count": 2
  },
  {
   "metadata": {},
   "cell_type": "markdown",
   "source": "# LSTM 测试",
   "id": "247fb28f1e87186f"
  },
  {
   "metadata": {
    "ExecuteTime": {
     "end_time": "2024-05-04T18:34:29.300801Z",
     "start_time": "2024-05-04T18:34:26.558118Z"
    }
   },
   "cell_type": "code",
   "source": [
    "from model.LSTM_base_model import lstm_predict, best_lstm_model, val_start_date, val_end_date,prepare_data\n",
    "from data.get_data import get_common_data"
   ],
   "id": "b58679f0b956eb93",
   "outputs": [],
   "execution_count": 1
  },
  {
   "metadata": {
    "ExecuteTime": {
     "end_time": "2024-05-04T18:50:48.919489Z",
     "start_time": "2024-05-04T18:50:48.913127Z"
    }
   },
   "cell_type": "code",
   "source": [
    "from data.get_data import my_get_next_n_trading_date\n",
    "set = 'val'\n",
    "my_get_next_n_trading_date(date=eval(f'{set}_start_date'), counts=1)"
   ],
   "id": "ceaa41bb98056dde",
   "outputs": [
    {
     "data": {
      "text/plain": [
       "'2020-07-10'"
      ]
     },
     "execution_count": 5,
     "metadata": {},
     "output_type": "execute_result"
    }
   ],
   "execution_count": 5
  },
  {
   "metadata": {
    "ExecuteTime": {
     "end_time": "2024-05-04T18:16:48.897795Z",
     "start_time": "2024-05-04T18:16:48.278255Z"
    }
   },
   "cell_type": "code",
   "source": [
    "data = get_common_data('SHSE.510300', val_start_date, val_end_date, 1, threshold=0.001)\n",
    "data"
   ],
   "id": "59b7658e873cee63",
   "outputs": [
    {
     "data": {
      "text/plain": [
       "             open   high    low  close     volume        amount  pre_close  \\\n",
       "bob                                                                          \n",
       "2020-07-09  4.796  4.884  4.760  4.872  642434176  3104867392.0      4.798   \n",
       "2020-07-10  4.838  4.857  4.763  4.785  564416768  2719824192.0      4.872   \n",
       "2020-07-13  4.782  4.927  4.777  4.885  824378256  4008141936.0      4.785   \n",
       "2020-07-14  4.877  4.899  4.765  4.842  737641424  3569719088.0      4.885   \n",
       "2020-07-15  4.860  4.895  4.765  4.784  662402944  3200591200.0      4.842   \n",
       "...           ...    ...    ...    ...        ...           ...        ...   \n",
       "2022-01-18  4.832  4.897  4.815  4.881  624167056  3038466592.0      4.835   \n",
       "2022-01-19  4.815  4.839  4.756  4.780  522439264  2501399280.0      4.806   \n",
       "2022-01-20  4.775  4.847  4.774  4.818  541278496  2608626688.0      4.780   \n",
       "2022-01-21  4.810  4.815  4.764  4.784  781436976  3739337872.0      4.818   \n",
       "2022-01-24  4.760  4.799  4.748  4.786  460574016  2197609280.0      4.784   \n",
       "\n",
       "              MA_5   MA_10    MA_20  ...   ppi  shibor_on  shibor_1w  \\\n",
       "bob                                  ...                               \n",
       "2020-07-09  4.7294  4.4759  4.26030  ...  -3.1      2.189      2.192   \n",
       "2020-07-10  4.7950  4.5380  4.29755  ...  -3.1      2.197      2.203   \n",
       "2020-07-13  4.8152  4.6137  4.34165  ...  -3.1      2.128      2.201   \n",
       "2020-07-14  4.8364  4.6801  4.38310  ...  -3.1      1.670      2.148   \n",
       "2020-07-15  4.8336  4.7313  4.42450  ...  -3.1      2.022      2.150   \n",
       "...            ...     ...      ...  ...   ...        ...        ...   \n",
       "2022-01-18  4.8534  4.8775  4.93675  ...  12.9      1.921      2.088   \n",
       "2022-01-19  4.8256  4.8612  4.92680  ...  12.9      2.035      2.127   \n",
       "2022-01-20  4.8216  4.8543  4.91860  ...  12.9      2.035      2.113   \n",
       "2022-01-21  4.8196  4.8428  4.90680  ...  12.9      2.063      2.112   \n",
       "2022-01-24  4.8098  4.8302  4.89625  ...  12.9      1.935      2.132   \n",
       "\n",
       "            shibor_2w  shibor_1m  shibor_3m  shibor_6m  shibor_9m  shibor_1y  \\\n",
       "bob                                                                            \n",
       "2020-07-09      2.048      2.013      2.122      2.222      2.353      2.420   \n",
       "2020-07-10      1.957      2.035      2.143      2.241      2.367      2.433   \n",
       "2020-07-13      2.216      2.057      2.163      2.264      2.385      2.455   \n",
       "2020-07-14      2.094      2.077      2.192      2.292      2.404      2.480   \n",
       "2020-07-15      2.113      2.100      2.241      2.334      2.438      2.516   \n",
       "...               ...        ...        ...        ...        ...        ...   \n",
       "2022-01-18      2.209      2.427      2.493      2.548      2.640      2.706   \n",
       "2022-01-19      2.405      2.422      2.483      2.534      2.630      2.696   \n",
       "2022-01-20      2.431      2.418      2.471      2.526      2.623      2.686   \n",
       "2022-01-21      2.368      2.417      2.466      2.521      2.619      2.682   \n",
       "2022-01-24      2.435      2.418      2.465      2.517      2.613      2.678   \n",
       "\n",
       "            1_return_to_trend  \n",
       "bob                            \n",
       "2020-07-09                  0  \n",
       "2020-07-10                  2  \n",
       "2020-07-13                  0  \n",
       "2020-07-14                  0  \n",
       "2020-07-15                  0  \n",
       "...                       ...  \n",
       "2022-01-18                  0  \n",
       "2022-01-19                  2  \n",
       "2022-01-20                  0  \n",
       "2022-01-21                  1  \n",
       "2022-01-24                  0  \n",
       "\n",
       "[378 rows x 42 columns]"
      ],
      "text/html": [
       "<div>\n",
       "<style scoped>\n",
       "    .dataframe tbody tr th:only-of-type {\n",
       "        vertical-align: middle;\n",
       "    }\n",
       "\n",
       "    .dataframe tbody tr th {\n",
       "        vertical-align: top;\n",
       "    }\n",
       "\n",
       "    .dataframe thead th {\n",
       "        text-align: right;\n",
       "    }\n",
       "</style>\n",
       "<table border=\"1\" class=\"dataframe\">\n",
       "  <thead>\n",
       "    <tr style=\"text-align: right;\">\n",
       "      <th></th>\n",
       "      <th>open</th>\n",
       "      <th>high</th>\n",
       "      <th>low</th>\n",
       "      <th>close</th>\n",
       "      <th>volume</th>\n",
       "      <th>amount</th>\n",
       "      <th>pre_close</th>\n",
       "      <th>MA_5</th>\n",
       "      <th>MA_10</th>\n",
       "      <th>MA_20</th>\n",
       "      <th>...</th>\n",
       "      <th>ppi</th>\n",
       "      <th>shibor_on</th>\n",
       "      <th>shibor_1w</th>\n",
       "      <th>shibor_2w</th>\n",
       "      <th>shibor_1m</th>\n",
       "      <th>shibor_3m</th>\n",
       "      <th>shibor_6m</th>\n",
       "      <th>shibor_9m</th>\n",
       "      <th>shibor_1y</th>\n",
       "      <th>1_return_to_trend</th>\n",
       "    </tr>\n",
       "    <tr>\n",
       "      <th>bob</th>\n",
       "      <th></th>\n",
       "      <th></th>\n",
       "      <th></th>\n",
       "      <th></th>\n",
       "      <th></th>\n",
       "      <th></th>\n",
       "      <th></th>\n",
       "      <th></th>\n",
       "      <th></th>\n",
       "      <th></th>\n",
       "      <th></th>\n",
       "      <th></th>\n",
       "      <th></th>\n",
       "      <th></th>\n",
       "      <th></th>\n",
       "      <th></th>\n",
       "      <th></th>\n",
       "      <th></th>\n",
       "      <th></th>\n",
       "      <th></th>\n",
       "      <th></th>\n",
       "    </tr>\n",
       "  </thead>\n",
       "  <tbody>\n",
       "    <tr>\n",
       "      <th>2020-07-09</th>\n",
       "      <td>4.796</td>\n",
       "      <td>4.884</td>\n",
       "      <td>4.760</td>\n",
       "      <td>4.872</td>\n",
       "      <td>642434176</td>\n",
       "      <td>3104867392.0</td>\n",
       "      <td>4.798</td>\n",
       "      <td>4.7294</td>\n",
       "      <td>4.4759</td>\n",
       "      <td>4.26030</td>\n",
       "      <td>...</td>\n",
       "      <td>-3.1</td>\n",
       "      <td>2.189</td>\n",
       "      <td>2.192</td>\n",
       "      <td>2.048</td>\n",
       "      <td>2.013</td>\n",
       "      <td>2.122</td>\n",
       "      <td>2.222</td>\n",
       "      <td>2.353</td>\n",
       "      <td>2.420</td>\n",
       "      <td>0</td>\n",
       "    </tr>\n",
       "    <tr>\n",
       "      <th>2020-07-10</th>\n",
       "      <td>4.838</td>\n",
       "      <td>4.857</td>\n",
       "      <td>4.763</td>\n",
       "      <td>4.785</td>\n",
       "      <td>564416768</td>\n",
       "      <td>2719824192.0</td>\n",
       "      <td>4.872</td>\n",
       "      <td>4.7950</td>\n",
       "      <td>4.5380</td>\n",
       "      <td>4.29755</td>\n",
       "      <td>...</td>\n",
       "      <td>-3.1</td>\n",
       "      <td>2.197</td>\n",
       "      <td>2.203</td>\n",
       "      <td>1.957</td>\n",
       "      <td>2.035</td>\n",
       "      <td>2.143</td>\n",
       "      <td>2.241</td>\n",
       "      <td>2.367</td>\n",
       "      <td>2.433</td>\n",
       "      <td>2</td>\n",
       "    </tr>\n",
       "    <tr>\n",
       "      <th>2020-07-13</th>\n",
       "      <td>4.782</td>\n",
       "      <td>4.927</td>\n",
       "      <td>4.777</td>\n",
       "      <td>4.885</td>\n",
       "      <td>824378256</td>\n",
       "      <td>4008141936.0</td>\n",
       "      <td>4.785</td>\n",
       "      <td>4.8152</td>\n",
       "      <td>4.6137</td>\n",
       "      <td>4.34165</td>\n",
       "      <td>...</td>\n",
       "      <td>-3.1</td>\n",
       "      <td>2.128</td>\n",
       "      <td>2.201</td>\n",
       "      <td>2.216</td>\n",
       "      <td>2.057</td>\n",
       "      <td>2.163</td>\n",
       "      <td>2.264</td>\n",
       "      <td>2.385</td>\n",
       "      <td>2.455</td>\n",
       "      <td>0</td>\n",
       "    </tr>\n",
       "    <tr>\n",
       "      <th>2020-07-14</th>\n",
       "      <td>4.877</td>\n",
       "      <td>4.899</td>\n",
       "      <td>4.765</td>\n",
       "      <td>4.842</td>\n",
       "      <td>737641424</td>\n",
       "      <td>3569719088.0</td>\n",
       "      <td>4.885</td>\n",
       "      <td>4.8364</td>\n",
       "      <td>4.6801</td>\n",
       "      <td>4.38310</td>\n",
       "      <td>...</td>\n",
       "      <td>-3.1</td>\n",
       "      <td>1.670</td>\n",
       "      <td>2.148</td>\n",
       "      <td>2.094</td>\n",
       "      <td>2.077</td>\n",
       "      <td>2.192</td>\n",
       "      <td>2.292</td>\n",
       "      <td>2.404</td>\n",
       "      <td>2.480</td>\n",
       "      <td>0</td>\n",
       "    </tr>\n",
       "    <tr>\n",
       "      <th>2020-07-15</th>\n",
       "      <td>4.860</td>\n",
       "      <td>4.895</td>\n",
       "      <td>4.765</td>\n",
       "      <td>4.784</td>\n",
       "      <td>662402944</td>\n",
       "      <td>3200591200.0</td>\n",
       "      <td>4.842</td>\n",
       "      <td>4.8336</td>\n",
       "      <td>4.7313</td>\n",
       "      <td>4.42450</td>\n",
       "      <td>...</td>\n",
       "      <td>-3.1</td>\n",
       "      <td>2.022</td>\n",
       "      <td>2.150</td>\n",
       "      <td>2.113</td>\n",
       "      <td>2.100</td>\n",
       "      <td>2.241</td>\n",
       "      <td>2.334</td>\n",
       "      <td>2.438</td>\n",
       "      <td>2.516</td>\n",
       "      <td>0</td>\n",
       "    </tr>\n",
       "    <tr>\n",
       "      <th>...</th>\n",
       "      <td>...</td>\n",
       "      <td>...</td>\n",
       "      <td>...</td>\n",
       "      <td>...</td>\n",
       "      <td>...</td>\n",
       "      <td>...</td>\n",
       "      <td>...</td>\n",
       "      <td>...</td>\n",
       "      <td>...</td>\n",
       "      <td>...</td>\n",
       "      <td>...</td>\n",
       "      <td>...</td>\n",
       "      <td>...</td>\n",
       "      <td>...</td>\n",
       "      <td>...</td>\n",
       "      <td>...</td>\n",
       "      <td>...</td>\n",
       "      <td>...</td>\n",
       "      <td>...</td>\n",
       "      <td>...</td>\n",
       "      <td>...</td>\n",
       "    </tr>\n",
       "    <tr>\n",
       "      <th>2022-01-18</th>\n",
       "      <td>4.832</td>\n",
       "      <td>4.897</td>\n",
       "      <td>4.815</td>\n",
       "      <td>4.881</td>\n",
       "      <td>624167056</td>\n",
       "      <td>3038466592.0</td>\n",
       "      <td>4.835</td>\n",
       "      <td>4.8534</td>\n",
       "      <td>4.8775</td>\n",
       "      <td>4.93675</td>\n",
       "      <td>...</td>\n",
       "      <td>12.9</td>\n",
       "      <td>1.921</td>\n",
       "      <td>2.088</td>\n",
       "      <td>2.209</td>\n",
       "      <td>2.427</td>\n",
       "      <td>2.493</td>\n",
       "      <td>2.548</td>\n",
       "      <td>2.640</td>\n",
       "      <td>2.706</td>\n",
       "      <td>0</td>\n",
       "    </tr>\n",
       "    <tr>\n",
       "      <th>2022-01-19</th>\n",
       "      <td>4.815</td>\n",
       "      <td>4.839</td>\n",
       "      <td>4.756</td>\n",
       "      <td>4.780</td>\n",
       "      <td>522439264</td>\n",
       "      <td>2501399280.0</td>\n",
       "      <td>4.806</td>\n",
       "      <td>4.8256</td>\n",
       "      <td>4.8612</td>\n",
       "      <td>4.92680</td>\n",
       "      <td>...</td>\n",
       "      <td>12.9</td>\n",
       "      <td>2.035</td>\n",
       "      <td>2.127</td>\n",
       "      <td>2.405</td>\n",
       "      <td>2.422</td>\n",
       "      <td>2.483</td>\n",
       "      <td>2.534</td>\n",
       "      <td>2.630</td>\n",
       "      <td>2.696</td>\n",
       "      <td>2</td>\n",
       "    </tr>\n",
       "    <tr>\n",
       "      <th>2022-01-20</th>\n",
       "      <td>4.775</td>\n",
       "      <td>4.847</td>\n",
       "      <td>4.774</td>\n",
       "      <td>4.818</td>\n",
       "      <td>541278496</td>\n",
       "      <td>2608626688.0</td>\n",
       "      <td>4.780</td>\n",
       "      <td>4.8216</td>\n",
       "      <td>4.8543</td>\n",
       "      <td>4.91860</td>\n",
       "      <td>...</td>\n",
       "      <td>12.9</td>\n",
       "      <td>2.035</td>\n",
       "      <td>2.113</td>\n",
       "      <td>2.431</td>\n",
       "      <td>2.418</td>\n",
       "      <td>2.471</td>\n",
       "      <td>2.526</td>\n",
       "      <td>2.623</td>\n",
       "      <td>2.686</td>\n",
       "      <td>0</td>\n",
       "    </tr>\n",
       "    <tr>\n",
       "      <th>2022-01-21</th>\n",
       "      <td>4.810</td>\n",
       "      <td>4.815</td>\n",
       "      <td>4.764</td>\n",
       "      <td>4.784</td>\n",
       "      <td>781436976</td>\n",
       "      <td>3739337872.0</td>\n",
       "      <td>4.818</td>\n",
       "      <td>4.8196</td>\n",
       "      <td>4.8428</td>\n",
       "      <td>4.90680</td>\n",
       "      <td>...</td>\n",
       "      <td>12.9</td>\n",
       "      <td>2.063</td>\n",
       "      <td>2.112</td>\n",
       "      <td>2.368</td>\n",
       "      <td>2.417</td>\n",
       "      <td>2.466</td>\n",
       "      <td>2.521</td>\n",
       "      <td>2.619</td>\n",
       "      <td>2.682</td>\n",
       "      <td>1</td>\n",
       "    </tr>\n",
       "    <tr>\n",
       "      <th>2022-01-24</th>\n",
       "      <td>4.760</td>\n",
       "      <td>4.799</td>\n",
       "      <td>4.748</td>\n",
       "      <td>4.786</td>\n",
       "      <td>460574016</td>\n",
       "      <td>2197609280.0</td>\n",
       "      <td>4.784</td>\n",
       "      <td>4.8098</td>\n",
       "      <td>4.8302</td>\n",
       "      <td>4.89625</td>\n",
       "      <td>...</td>\n",
       "      <td>12.9</td>\n",
       "      <td>1.935</td>\n",
       "      <td>2.132</td>\n",
       "      <td>2.435</td>\n",
       "      <td>2.418</td>\n",
       "      <td>2.465</td>\n",
       "      <td>2.517</td>\n",
       "      <td>2.613</td>\n",
       "      <td>2.678</td>\n",
       "      <td>0</td>\n",
       "    </tr>\n",
       "  </tbody>\n",
       "</table>\n",
       "<p>378 rows × 42 columns</p>\n",
       "</div>"
      ]
     },
     "execution_count": 4,
     "metadata": {},
     "output_type": "execute_result"
    }
   ],
   "execution_count": 4
  },
  {
   "metadata": {
    "ExecuteTime": {
     "end_time": "2024-05-04T18:17:11.404645Z",
     "start_time": "2024-05-04T18:17:11.400556Z"
    }
   },
   "cell_type": "code",
   "source": "data.index",
   "id": "5f7ff2b054f4b294",
   "outputs": [
    {
     "data": {
      "text/plain": [
       "DatetimeIndex(['2020-07-09', '2020-07-10', '2020-07-13', '2020-07-14',\n",
       "               '2020-07-15', '2020-07-16', '2020-07-17', '2020-07-20',\n",
       "               '2020-07-21', '2020-07-22',\n",
       "               ...\n",
       "               '2022-01-11', '2022-01-12', '2022-01-13', '2022-01-14',\n",
       "               '2022-01-17', '2022-01-18', '2022-01-19', '2022-01-20',\n",
       "               '2022-01-21', '2022-01-24'],\n",
       "              dtype='datetime64[ns]', name='bob', length=378, freq=None)"
      ]
     },
     "execution_count": 6,
     "metadata": {},
     "output_type": "execute_result"
    }
   ],
   "execution_count": 6
  },
  {
   "metadata": {
    "ExecuteTime": {
     "end_time": "2024-05-04T18:32:13.351003Z",
     "start_time": "2024-05-04T18:32:11.314855Z"
    }
   },
   "cell_type": "code",
   "source": [
    "import torch.nn.functional as F\n",
    "symbol = 'SHSE.510300'\n",
    "start_date = val_start_date\n",
    "end_date = val_end_date\n",
    "# model_dict = best_lstm_model(T=3)\n",
    "dateIndex, X_test, Y_true = prepare_data(symbol, start_date, end_date, 3, 40)\n",
    "len(dateIndex),len(Y_true)"
   ],
   "id": "be80c777d8bc2475",
   "outputs": [
    {
     "data": {
      "text/plain": [
       "(378, 378)"
      ]
     },
     "execution_count": 2,
     "metadata": {},
     "output_type": "execute_result"
    }
   ],
   "execution_count": 2
  },
  {
   "metadata": {
    "ExecuteTime": {
     "end_time": "2024-05-04T18:32:33.802561Z",
     "start_time": "2024-05-04T18:32:33.374412Z"
    }
   },
   "cell_type": "code",
   "source": [
    "if torch.cuda.is_available():\n",
    "    device = torch.device('cuda')\n",
    "else:\n",
    "    raise ValueError('GPU not available')\n",
    "try:\n",
    "    model_path = model_dict['model_path']\n",
    "except KeyError:\n",
    "    model_path = model_dict['best_model_path']\n",
    "\n",
    "model = LSTMModel(X_test.shape[2], int(model_dict['hidden_dim']), model_dict['num_layers'], device).to(device)\n",
    "model.load_state_dict(torch.load(os.path.join('../model/', model_path)))\n",
    "model.eval()\n",
    "\n",
    "with torch.no_grad():\n",
    "    outputs = model(X_test.float().to(device))\n",
    "    # 将logits转换为概率\n",
    "    probabilities = F.softmax(outputs, dim=1).cpu().detach().numpy()\n",
    "\n",
    "Y_pred = probabilities.argmax(axis=1)  # 获取最大概率的索引，用于分类\n",
    "# 处理真实值与预测概率并合并为DataFrame\n",
    "Y_true = Y_true.flatten()\n",
    "Y_true = pd.DataFrame(Y_true, columns=['Y_true'])\n",
    "Y_pred = pd.DataFrame(Y_pred, columns=['Y_pred'])\n",
    "probabilities_df = pd.DataFrame(probabilities, columns=['Prob_down', 'Prob_stable', 'Prob_up'])\n",
    "result = pd.concat([Y_true, Y_pred, probabilities_df], axis=1)\n",
    "result"
   ],
   "id": "3e63895a0ef6e5f1",
   "outputs": [
    {
     "ename": "NameError",
     "evalue": "name 'torch' is not defined",
     "output_type": "error",
     "traceback": [
      "\u001B[1;31m---------------------------------------------------------------------------\u001B[0m",
      "\u001B[1;31mNameError\u001B[0m                                 Traceback (most recent call last)",
      "Cell \u001B[1;32mIn[3], line 1\u001B[0m\n\u001B[1;32m----> 1\u001B[0m \u001B[38;5;28;01mif\u001B[39;00m torch\u001B[38;5;241m.\u001B[39mcuda\u001B[38;5;241m.\u001B[39mis_available():\n\u001B[0;32m      2\u001B[0m     device \u001B[38;5;241m=\u001B[39m torch\u001B[38;5;241m.\u001B[39mdevice(\u001B[38;5;124m'\u001B[39m\u001B[38;5;124mcuda\u001B[39m\u001B[38;5;124m'\u001B[39m)\n\u001B[0;32m      3\u001B[0m \u001B[38;5;28;01melse\u001B[39;00m:\n",
      "\u001B[1;31mNameError\u001B[0m: name 'torch' is not defined"
     ]
    }
   ],
   "execution_count": 3
  },
  {
   "metadata": {
    "ExecuteTime": {
     "end_time": "2024-05-04T19:06:31.745584Z",
     "start_time": "2024-05-04T19:06:29.239729Z"
    }
   },
   "cell_type": "code",
   "source": [
    "\n",
    "model_dict = best_lstm_model(T=1)\n",
    "result = lstm_predict(model_dict, start_date=val_start_date, end_date=val_end_date)\n",
    "result"
   ],
   "id": "ed1daf6686010826",
   "outputs": [
    {
     "data": {
      "text/plain": [
       "            Y_true  Y_pred   Prob_down  Prob_stable     Prob_up\n",
       "date                                                           \n",
       "2020-07-09       0       2  0.44450995   0.08033007  0.47515997\n",
       "2020-07-10       2       2  0.44435701   0.07839045  0.47725260\n",
       "2020-07-13       0       2  0.44440416   0.07888719  0.47670865\n",
       "2020-07-14       0       2  0.44438717   0.07865525  0.47695759\n",
       "2020-07-15       0       2  0.44439158   0.07864609  0.47696236\n",
       "...            ...     ...         ...          ...         ...\n",
       "2022-01-18       0       2  0.44440025   0.07866643  0.47693336\n",
       "2022-01-19       2       2  0.44440117   0.07867598  0.47692287\n",
       "2022-01-20       0       2  0.44440156   0.07867481  0.47692364\n",
       "2022-01-21       1       2  0.44440013   0.07866437  0.47693557\n",
       "2022-01-24       0       2  0.44440204   0.07868326  0.47691470\n",
       "\n",
       "[378 rows x 5 columns]"
      ],
      "text/html": [
       "<div>\n",
       "<style scoped>\n",
       "    .dataframe tbody tr th:only-of-type {\n",
       "        vertical-align: middle;\n",
       "    }\n",
       "\n",
       "    .dataframe tbody tr th {\n",
       "        vertical-align: top;\n",
       "    }\n",
       "\n",
       "    .dataframe thead th {\n",
       "        text-align: right;\n",
       "    }\n",
       "</style>\n",
       "<table border=\"1\" class=\"dataframe\">\n",
       "  <thead>\n",
       "    <tr style=\"text-align: right;\">\n",
       "      <th></th>\n",
       "      <th>Y_true</th>\n",
       "      <th>Y_pred</th>\n",
       "      <th>Prob_down</th>\n",
       "      <th>Prob_stable</th>\n",
       "      <th>Prob_up</th>\n",
       "    </tr>\n",
       "    <tr>\n",
       "      <th>date</th>\n",
       "      <th></th>\n",
       "      <th></th>\n",
       "      <th></th>\n",
       "      <th></th>\n",
       "      <th></th>\n",
       "    </tr>\n",
       "  </thead>\n",
       "  <tbody>\n",
       "    <tr>\n",
       "      <th>2020-07-09</th>\n",
       "      <td>0</td>\n",
       "      <td>2</td>\n",
       "      <td>0.44450995</td>\n",
       "      <td>0.08033007</td>\n",
       "      <td>0.47515997</td>\n",
       "    </tr>\n",
       "    <tr>\n",
       "      <th>2020-07-10</th>\n",
       "      <td>2</td>\n",
       "      <td>2</td>\n",
       "      <td>0.44435701</td>\n",
       "      <td>0.07839045</td>\n",
       "      <td>0.47725260</td>\n",
       "    </tr>\n",
       "    <tr>\n",
       "      <th>2020-07-13</th>\n",
       "      <td>0</td>\n",
       "      <td>2</td>\n",
       "      <td>0.44440416</td>\n",
       "      <td>0.07888719</td>\n",
       "      <td>0.47670865</td>\n",
       "    </tr>\n",
       "    <tr>\n",
       "      <th>2020-07-14</th>\n",
       "      <td>0</td>\n",
       "      <td>2</td>\n",
       "      <td>0.44438717</td>\n",
       "      <td>0.07865525</td>\n",
       "      <td>0.47695759</td>\n",
       "    </tr>\n",
       "    <tr>\n",
       "      <th>2020-07-15</th>\n",
       "      <td>0</td>\n",
       "      <td>2</td>\n",
       "      <td>0.44439158</td>\n",
       "      <td>0.07864609</td>\n",
       "      <td>0.47696236</td>\n",
       "    </tr>\n",
       "    <tr>\n",
       "      <th>...</th>\n",
       "      <td>...</td>\n",
       "      <td>...</td>\n",
       "      <td>...</td>\n",
       "      <td>...</td>\n",
       "      <td>...</td>\n",
       "    </tr>\n",
       "    <tr>\n",
       "      <th>2022-01-18</th>\n",
       "      <td>0</td>\n",
       "      <td>2</td>\n",
       "      <td>0.44440025</td>\n",
       "      <td>0.07866643</td>\n",
       "      <td>0.47693336</td>\n",
       "    </tr>\n",
       "    <tr>\n",
       "      <th>2022-01-19</th>\n",
       "      <td>2</td>\n",
       "      <td>2</td>\n",
       "      <td>0.44440117</td>\n",
       "      <td>0.07867598</td>\n",
       "      <td>0.47692287</td>\n",
       "    </tr>\n",
       "    <tr>\n",
       "      <th>2022-01-20</th>\n",
       "      <td>0</td>\n",
       "      <td>2</td>\n",
       "      <td>0.44440156</td>\n",
       "      <td>0.07867481</td>\n",
       "      <td>0.47692364</td>\n",
       "    </tr>\n",
       "    <tr>\n",
       "      <th>2022-01-21</th>\n",
       "      <td>1</td>\n",
       "      <td>2</td>\n",
       "      <td>0.44440013</td>\n",
       "      <td>0.07866437</td>\n",
       "      <td>0.47693557</td>\n",
       "    </tr>\n",
       "    <tr>\n",
       "      <th>2022-01-24</th>\n",
       "      <td>0</td>\n",
       "      <td>2</td>\n",
       "      <td>0.44440204</td>\n",
       "      <td>0.07868326</td>\n",
       "      <td>0.47691470</td>\n",
       "    </tr>\n",
       "  </tbody>\n",
       "</table>\n",
       "<p>378 rows × 5 columns</p>\n",
       "</div>"
      ]
     },
     "execution_count": 9,
     "metadata": {},
     "output_type": "execute_result"
    }
   ],
   "execution_count": 9
  },
  {
   "metadata": {
    "ExecuteTime": {
     "end_time": "2024-05-04T19:10:50.761504Z",
     "start_time": "2024-05-04T19:10:50.757405Z"
    }
   },
   "cell_type": "code",
   "source": [
    "temp = result['Y_pred'][1]\n",
    "temp"
   ],
   "id": "7d97dea7f739b637",
   "outputs": [
    {
     "data": {
      "text/plain": [
       "2"
      ]
     },
     "execution_count": 11,
     "metadata": {},
     "output_type": "execute_result"
    }
   ],
   "execution_count": 11
  },
  {
   "metadata": {
    "ExecuteTime": {
     "end_time": "2024-05-04T18:05:14.043884Z",
     "start_time": "2024-05-04T18:05:14.038114Z"
    }
   },
   "cell_type": "code",
   "source": [
    "set = 'val'\n",
    "backtest_start_time = str(eval(f'{set}_start_date')) + ' 08:00:00'\n",
    "backtest_end_time = eval(f'{set}_end_date')+ ' 16:00:00'\n",
    "backtest_end_time"
   ],
   "id": "4c85b7ca6840e177",
   "outputs": [
    {
     "data": {
      "text/plain": [
       "'2022-01-24 16:00:00'"
      ]
     },
     "execution_count": 12,
     "metadata": {},
     "output_type": "execute_result"
    }
   ],
   "execution_count": 12
  }
 ],
 "metadata": {
  "kernelspec": {
   "display_name": "Python 3",
   "language": "python",
   "name": "python3"
  },
  "language_info": {
   "codemirror_mode": {
    "name": "ipython",
    "version": 2
   },
   "file_extension": ".py",
   "mimetype": "text/x-python",
   "name": "python",
   "nbconvert_exporter": "python",
   "pygments_lexer": "ipython2",
   "version": "2.7.6"
  }
 },
 "nbformat": 4,
 "nbformat_minor": 5
}
