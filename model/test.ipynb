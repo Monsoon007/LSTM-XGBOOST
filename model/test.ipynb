{
 "cells": [
  {
   "metadata": {
    "ExecuteTime": {
     "end_time": "2024-05-03T12:44:51.109712Z",
     "start_time": "2024-05-03T12:44:46.998964Z"
    }
   },
   "cell_type": "code",
   "source": [
    "from data.get_data import get_common_data\n",
    "from model.LSTM_base_model import train_start_date,train_end_date\n",
    "\n",
    "get_common_data('SHSE.510300',train_start_date,train_end_date,1,threshold=0.001).iloc[:,-1].value_counts()"
   ],
   "id": "f859b0963c60e438",
   "outputs": [
    {
     "data": {
      "text/plain": [
       "2    703\n",
       "0    660\n",
       "1    344\n",
       "Name: 1_return_to_trend, dtype: int64"
      ]
     },
     "execution_count": 1,
     "metadata": {},
     "output_type": "execute_result"
    }
   ],
   "execution_count": 1
  },
  {
   "cell_type": "code",
   "id": "initial_id",
   "metadata": {
    "collapsed": true,
    "ExecuteTime": {
     "end_time": "2024-05-03T06:36:40.727573Z",
     "start_time": "2024-05-03T06:36:37.602943Z"
    }
   },
   "source": [
    "from LSTM_base_model import  lstm_predict,best_lstm_model,val_start_date,val_end_date\n",
    "\n",
    "model_dict = best_lstm_model(T=3)\n",
    "model_dict"
   ],
   "outputs": [
    {
     "data": {
      "text/plain": [
       "{'T': 3,\n",
       " 'window_size': 120,\n",
       " 'hidden_dim': 30,\n",
       " 'num_layers': 3,\n",
       " 'model_path': 'lstm_models_7\\\\best_lstm_model_T3_window120_hidden30_layers3.pth'}"
      ]
     },
     "execution_count": 1,
     "metadata": {},
     "output_type": "execute_result"
    }
   ],
   "execution_count": 1
  },
  {
   "metadata": {
    "ExecuteTime": {
     "end_time": "2024-05-03T06:38:07.194696Z",
     "start_time": "2024-05-03T06:38:05.969123Z"
    }
   },
   "cell_type": "code",
   "source": [
    "result = lstm_predict(model_dict,start_date=val_start_date,end_date=val_end_date)\n",
    "result.info()"
   ],
   "id": "f8980ffa7ee5fece",
   "outputs": [
    {
     "name": "stdout",
     "output_type": "stream",
     "text": [
      "<class 'pandas.core.frame.DataFrame'>\n",
      "DatetimeIndex: 378 entries, 2020-07-09 to 2021-12-20\n",
      "Freq: B\n",
      "Data columns (total 5 columns):\n",
      " #   Column       Non-Null Count  Dtype  \n",
      "---  ------       --------------  -----  \n",
      " 0   Y_true       378 non-null    int64  \n",
      " 1   Y_pred       378 non-null    int64  \n",
      " 2   Prob_down    378 non-null    float32\n",
      " 3   Prob_stable  378 non-null    float32\n",
      " 4   Prob_up      378 non-null    float32\n",
      "dtypes: float32(3), int64(2)\n",
      "memory usage: 13.3 KB\n"
     ]
    }
   ],
   "execution_count": 3
  },
  {
   "metadata": {
    "ExecuteTime": {
     "end_time": "2024-05-03T06:49:36.470823Z",
     "start_time": "2024-05-03T06:49:36.465592Z"
    }
   },
   "cell_type": "code",
   "source": [
    "# 查看Y_true和Y_pred的分布\n",
    "result['Y_true'].value_counts()\n",
    "# result['Y_pred'].value_counts()"
   ],
   "id": "5580c0280865481f",
   "outputs": [
    {
     "data": {
      "text/plain": [
       "2    166\n",
       "0    155\n",
       "1     57\n",
       "Name: Y_true, dtype: int64"
      ]
     },
     "execution_count": 5,
     "metadata": {},
     "output_type": "execute_result"
    }
   ],
   "execution_count": 5
  },
  {
   "metadata": {
    "ExecuteTime": {
     "end_time": "2024-05-03T12:49:36.140544Z",
     "start_time": "2024-05-03T12:49:35.682047Z"
    }
   },
   "cell_type": "code",
   "source": [
    "from sklearn.metrics import accuracy_score, precision_score, recall_score, f1_score, confusion_matrix\n",
    "import pandas as pd\n",
    "# 假设y_true是真实标签，y_pred是预测标签\n",
    "y_true = result['Y_true']\n",
    "y_pred = result['Y_pred']\n",
    "\n",
    "\n",
    "# 计算混淆矩阵\n",
    "conf_matrix = confusion_matrix(y_true, y_pred)\n",
    "# 混淆矩阵标签优化\n",
    "conf_matrix = pd.DataFrame(conf_matrix, columns=['Predicted 0', 'Predicted 1', 'Predicted 2'], index=['Actual 0', 'Actual 1', 'Actual 2'])\n",
    "\n",
    "# 计算预测为0的召回率\n",
    "recall_0 = conf_matrix.iloc[0, 0] / conf_matrix.iloc[0, :].sum()\n",
    "\n",
    "#计算预测为2的召回率\n",
    "recall_2 = conf_matrix.iloc[2, 2] / conf_matrix.iloc[2, :].sum()\n",
    "\n",
    "# 计算应该为2，但是预测为0；应该为0，但是预测为2的概率\n",
    "fpr_0 = conf_matrix.iloc[0, 2] / conf_matrix.iloc[0, :].sum()\n",
    "fpr_2 = conf_matrix.iloc[2, 0] / conf_matrix.iloc[2, :].sum()\n",
    "\n",
    "# 用一个指标融合这四个指标，其中召回率越高越好，fpr越低越好\n",
    "score = recall_0 + recall_2 - fpr_0 - fpr_2\n",
    "\n",
    "score"
   ],
   "id": "74efaecd4c184ac7",
   "outputs": [
    {
     "ename": "NameError",
     "evalue": "name 'result' is not defined",
     "output_type": "error",
     "traceback": [
      "\u001B[1;31m---------------------------------------------------------------------------\u001B[0m",
      "\u001B[1;31mNameError\u001B[0m                                 Traceback (most recent call last)",
      "Cell \u001B[1;32mIn[2], line 4\u001B[0m\n\u001B[0;32m      2\u001B[0m \u001B[38;5;28;01mimport\u001B[39;00m \u001B[38;5;21;01mpandas\u001B[39;00m \u001B[38;5;28;01mas\u001B[39;00m \u001B[38;5;21;01mpd\u001B[39;00m\n\u001B[0;32m      3\u001B[0m \u001B[38;5;66;03m# 假设y_true是真实标签，y_pred是预测标签\u001B[39;00m\n\u001B[1;32m----> 4\u001B[0m y_true \u001B[38;5;241m=\u001B[39m result[\u001B[38;5;124m'\u001B[39m\u001B[38;5;124mY_true\u001B[39m\u001B[38;5;124m'\u001B[39m]\n\u001B[0;32m      5\u001B[0m y_pred \u001B[38;5;241m=\u001B[39m result[\u001B[38;5;124m'\u001B[39m\u001B[38;5;124mY_pred\u001B[39m\u001B[38;5;124m'\u001B[39m]\n\u001B[0;32m      8\u001B[0m \u001B[38;5;66;03m# 计算混淆矩阵\u001B[39;00m\n",
      "\u001B[1;31mNameError\u001B[0m: name 'result' is not defined"
     ]
    }
   ],
   "execution_count": 2
  },
  {
   "metadata": {},
   "cell_type": "code",
   "outputs": [
    {
     "name": "stdout",
     "output_type": "stream",
     "text": [
      "Accuracy: 0.6402116402116402\n",
      "Confusion Matrix:\n",
      " [[116   0  39]\n",
      " [ 28   0  29]\n",
      " [ 40   0 126]]\n",
      "Precision: 0.4266397728970566\n",
      "Recall: 0.5024744137841689\n",
      "F1 Score: 0.46145526057030484\n"
     ]
    },
    {
     "name": "stderr",
     "output_type": "stream",
     "text": [
      "E:\\anaconda\\envs\\pytor\\Lib\\site-packages\\sklearn\\metrics\\_classification.py:1469: UndefinedMetricWarning: Precision is ill-defined and being set to 0.0 in labels with no predicted samples. Use `zero_division` parameter to control this behavior.\n",
      "  _warn_prf(average, modifier, msg_start, len(result))\n"
     ]
    }
   ],
   "execution_count": 6,
   "source": [
    "\n",
    "# 计算准确率\n",
    "accuracy = accuracy_score(y_true, y_pred)\n",
    "\n",
    "# 计算精确率\n",
    "precision = precision_score(y_true, y_pred)\n",
    "\n",
    "# 计算对于0或2的平均召回率\n",
    "recall = recall_score(y_true, y_pred, average='macro')\n",
    "\n",
    "\n"
   ],
   "id": "a5bc77d093d9a775"
  },
  {
   "metadata": {
    "ExecuteTime": {
     "end_time": "2024-05-03T06:20:58.805603Z",
     "start_time": "2024-05-03T06:20:57.610978Z"
    }
   },
   "cell_type": "code",
   "source": [
    "import pandas as pd\n",
    "import os\n",
    "import torch\n",
    "from model.LSTM_base_model import prepare_data, LSTMModel\n",
    "\n",
    "symbol = 'SHSE.510300'\n",
    "start_date = val_start_date\n",
    "end_date = val_end_date\n",
    "X_test, Y_true = prepare_data(symbol, start_date, end_date, model_dict['T'], model_dict['window_size'])\n",
    "# 检查如果GPU没有使用成功，raise error\n",
    "if torch.cuda.is_available():\n",
    "    device = torch.device('cuda')\n",
    "else:\n",
    "    raise ValueError('GPU not available')\n",
    "try:\n",
    "    model_path = model_dict['model_path']\n",
    "except KeyError:\n",
    "    model_path = model_dict['best_model_path']\n",
    "model = LSTMModel(X_test.shape[2], int(model_dict['hidden_dim']), model_dict['num_layers'], device).to(device)\n",
    "model.load_state_dict(torch.load(os.path.join('../model/', model_path)))\n",
    "model.eval()\n",
    "with torch.no_grad():\n",
    "    outputs = model(X_test.float().to(device))\n",
    "    outputs\n",
    "\n",
    "outputs"
   ],
   "id": "df99b08896ea7eac",
   "outputs": [
    {
     "data": {
      "text/plain": [
       "tensor([[-0.3946, -0.6753,  1.0613],\n",
       "        [ 0.6718, -0.4055,  0.0966],\n",
       "        [-0.0296, -0.5372,  0.7358],\n",
       "        ...,\n",
       "        [ 0.9426, -0.6852,  0.1544],\n",
       "        [ 1.0646, -0.6829,  0.0845],\n",
       "        [ 1.1624, -0.6667,  0.0036]], device='cuda:0')"
      ]
     },
     "execution_count": 4,
     "metadata": {},
     "output_type": "execute_result"
    }
   ],
   "execution_count": 4
  },
  {
   "metadata": {
    "ExecuteTime": {
     "end_time": "2024-05-03T06:28:08.919524Z",
     "start_time": "2024-05-03T06:28:08.914893Z"
    }
   },
   "cell_type": "code",
   "source": "len(outputs),len(Y_true)",
   "id": "b3d5d623b0813d6e",
   "outputs": [
    {
     "data": {
      "text/plain": [
       "(378, 378)"
      ]
     },
     "execution_count": 6,
     "metadata": {},
     "output_type": "execute_result"
    }
   ],
   "execution_count": 6
  },
  {
   "metadata": {
    "ExecuteTime": {
     "end_time": "2024-05-03T06:28:41.529461Z",
     "start_time": "2024-05-03T06:28:41.523948Z"
    }
   },
   "cell_type": "code",
   "source": "len(outputs.cpu().detach().numpy().flatten())",
   "id": "a2a8dcd02c60316e",
   "outputs": [
    {
     "data": {
      "text/plain": [
       "1134"
      ]
     },
     "execution_count": 8,
     "metadata": {},
     "output_type": "execute_result"
    }
   ],
   "execution_count": 8
  },
  {
   "metadata": {
    "ExecuteTime": {
     "end_time": "2024-05-03T06:31:50.857280Z",
     "start_time": "2024-05-03T06:31:50.844612Z"
    }
   },
   "cell_type": "code",
   "source": [
    "import torch.nn.functional as F\n",
    "probabilities = F.softmax(outputs, dim=1).cpu().detach().numpy()\n",
    "probabilities"
   ],
   "id": "a61da476dfb71111",
   "outputs": [
    {
     "data": {
      "text/plain": [
       "array([[0.16546279, 0.1249718 , 0.7095654 ],\n",
       "       [0.52546036, 0.178928  , 0.29561165],\n",
       "       [0.26654235, 0.16044284, 0.5730148 ],\n",
       "       ...,\n",
       "       [0.60568404, 0.11892876, 0.2753872 ],\n",
       "       [0.6453713 , 0.11242756, 0.24220113],\n",
       "       [0.67822105, 0.10889746, 0.21288155]], dtype=float32)"
      ]
     },
     "execution_count": 10,
     "metadata": {},
     "output_type": "execute_result"
    }
   ],
   "execution_count": 10
  },
  {
   "metadata": {
    "ExecuteTime": {
     "end_time": "2024-05-03T12:55:06.059805Z",
     "start_time": "2024-05-03T12:55:01.411064Z"
    }
   },
   "cell_type": "code",
   "source": [
    "from model.LSTM_base_model import best_lstm_model\n",
    "\n",
    "model_dict = best_lstm_model(T=3)\n",
    "model_dict"
   ],
   "id": "b0bf6baf442fcbbd",
   "outputs": [
    {
     "data": {
      "text/plain": [
       "{'T': 3,\n",
       " 'window_size': 120,\n",
       " 'hidden_dim': 30,\n",
       " 'num_layers': 3,\n",
       " 'model_path': 'lstm_models_7\\\\best_lstm_model_T3_window120_hidden30_layers3.pth',\n",
       " 'val_my_score': (3, 1.0148464827050137)}"
      ]
     },
     "execution_count": 1,
     "metadata": {},
     "output_type": "execute_result"
    }
   ],
   "execution_count": 1
  },
  {
   "metadata": {},
   "cell_type": "markdown",
   "source": "# XGB test",
   "id": "f0d9b29ccb50a207"
  },
  {
   "metadata": {
    "ExecuteTime": {
     "end_time": "2024-05-03T14:59:31.453040Z",
     "start_time": "2024-05-03T14:59:18.970161Z"
    }
   },
   "cell_type": "code",
   "source": [
    "from model.my_xgboost import lstm_to_xgboost, train_xgboost_classify\n",
    "import xgboost as xgb\n",
    "from model.LSTM_base_model import val_start_date, val_end_date,config_id\n",
    "import  os\n",
    "\n",
    "target_T = 3\n",
    "modelDirectory = f'../model/xgb_models_{config_id}'\n",
    "\n",
    "start_date = val_start_date\n",
    "end_date = val_end_date\n",
    "X, Y_true = lstm_to_xgboost(start_date, end_date, target_T)\n",
    "# 加载模型\n",
    "bst = xgb.Booster()\n",
    "\n",
    "if os.path.exists(f'{modelDirectory}/xgb_model_{target_T}.json'):\n",
    "    print(f'Loading xgb_model_{target_T}.json')\n",
    "    bst.load_model(f'{modelDirectory}/xgb_model_{target_T}.json')\n",
    "else:\n",
    "    print(f'Training xgb_model_{target_T}.json')\n",
    "    train_xgboost_classify(target_T)\n",
    "    bst.load_model(f'{modelDirectory}/xgb_model_{target_T}.json')\n",
    "# 将数据转换为DMatrix对象，XGBoost专用的数据结构\n",
    "dtest = xgb.DMatrix(X)\n",
    "# 预测\n",
    "Y_pred = bst.predict(dtest)\n",
    "Y_pred"
   ],
   "id": "dee6f533f021b918",
   "outputs": [
    {
     "name": "stdout",
     "output_type": "stream",
     "text": [
      "Loading xgb_model_3.json\n"
     ]
    },
    {
     "data": {
      "text/plain": [
       "array([[5.5825565e-02, 8.8440783e-02, 8.5573363e-01],\n",
       "       [7.6943469e-01, 2.0223601e-01, 2.8329294e-02],\n",
       "       [7.5407684e-01, 2.4545860e-01, 4.6455438e-04],\n",
       "       ...,\n",
       "       [8.5120720e-01, 9.0110444e-02, 5.8682390e-02],\n",
       "       [8.5120720e-01, 9.0110444e-02, 5.8682390e-02],\n",
       "       [8.5120720e-01, 9.0110444e-02, 5.8682390e-02]], dtype=float32)"
      ]
     },
     "execution_count": 2,
     "metadata": {},
     "output_type": "execute_result"
    }
   ],
   "execution_count": 2
  },
  {
   "metadata": {
    "ExecuteTime": {
     "end_time": "2024-05-04T13:09:56.546420Z",
     "start_time": "2024-05-04T13:08:51.375853Z"
    }
   },
   "cell_type": "code",
   "source": [
    "from model.my_xgboost import train_xgboost_classify\n",
    "\n",
    "train_xgboost_classify(15)"
   ],
   "id": "def1230b825fe4e2",
   "outputs": [
    {
     "name": "stderr",
     "output_type": "stream",
     "text": [
      "Running best_lstms: 100%|██████████| 10/10 [00:13<00:00,  1.33s/it]\n"
     ]
    },
    {
     "name": "stdout",
     "output_type": "stream",
     "text": [
      "[0]\teval-mlogloss:0.93159\n",
      "[1]\teval-mlogloss:0.84016\n",
      "[2]\teval-mlogloss:0.78577\n",
      "[3]\teval-mlogloss:0.75297\n",
      "[4]\teval-mlogloss:0.73436\n",
      "[5]\teval-mlogloss:0.72374\n",
      "[6]\teval-mlogloss:0.72085\n",
      "[7]\teval-mlogloss:0.72046\n",
      "[8]\teval-mlogloss:0.72106\n",
      "[9]\teval-mlogloss:0.72093\n",
      "[10]\teval-mlogloss:0.72410\n",
      "[11]\teval-mlogloss:0.72944\n",
      "[12]\teval-mlogloss:0.73426\n",
      "[13]\teval-mlogloss:0.74183\n",
      "[14]\teval-mlogloss:0.74085\n",
      "[15]\teval-mlogloss:0.74401\n",
      "[16]\teval-mlogloss:0.74326\n",
      "[17]\teval-mlogloss:0.74306\n",
      "[18]\teval-mlogloss:0.74945\n",
      "[19]\teval-mlogloss:0.75472\n",
      "[20]\teval-mlogloss:0.75798\n",
      "[21]\teval-mlogloss:0.75915\n",
      "[22]\teval-mlogloss:0.75931\n",
      "[23]\teval-mlogloss:0.76152\n",
      "[24]\teval-mlogloss:0.76350\n",
      "[25]\teval-mlogloss:0.76579\n",
      "[26]\teval-mlogloss:0.77159\n",
      "[27]\teval-mlogloss:0.77538\n",
      "[28]\teval-mlogloss:0.77975\n",
      "[29]\teval-mlogloss:0.78135\n",
      "[30]\teval-mlogloss:0.78366\n",
      "[31]\teval-mlogloss:0.78561\n",
      "[32]\teval-mlogloss:0.78737\n",
      "[33]\teval-mlogloss:0.78802\n",
      "[34]\teval-mlogloss:0.79329\n",
      "[35]\teval-mlogloss:0.79657\n",
      "[36]\teval-mlogloss:0.79566\n",
      "[37]\teval-mlogloss:0.79809\n",
      "[38]\teval-mlogloss:0.80046\n",
      "[39]\teval-mlogloss:0.80161\n",
      "[40]\teval-mlogloss:0.80414\n",
      "[41]\teval-mlogloss:0.80554\n",
      "[42]\teval-mlogloss:0.80932\n",
      "[43]\teval-mlogloss:0.81086\n",
      "[44]\teval-mlogloss:0.81122\n",
      "[45]\teval-mlogloss:0.81255\n",
      "[46]\teval-mlogloss:0.81531\n",
      "[47]\teval-mlogloss:0.82233\n",
      "[48]\teval-mlogloss:0.82295\n",
      "[49]\teval-mlogloss:0.82381\n",
      "[50]\teval-mlogloss:0.82651\n",
      "[51]\teval-mlogloss:0.82915\n",
      "[52]\teval-mlogloss:0.83264\n",
      "[53]\teval-mlogloss:0.83482\n",
      "[54]\teval-mlogloss:0.83817\n",
      "[55]\teval-mlogloss:0.84161\n",
      "[56]\teval-mlogloss:0.84417\n",
      "[57]\teval-mlogloss:0.84562\n",
      "[58]\teval-mlogloss:0.84519\n",
      "[59]\teval-mlogloss:0.84578\n",
      "[60]\teval-mlogloss:0.84716\n",
      "[61]\teval-mlogloss:0.84980\n",
      "[62]\teval-mlogloss:0.85089\n",
      "[63]\teval-mlogloss:0.85357\n",
      "[64]\teval-mlogloss:0.85558\n",
      "[65]\teval-mlogloss:0.85623\n",
      "[66]\teval-mlogloss:0.85638\n",
      "[67]\teval-mlogloss:0.85738\n",
      "[68]\teval-mlogloss:0.85879\n",
      "[69]\teval-mlogloss:0.86157\n",
      "[70]\teval-mlogloss:0.86472\n",
      "[71]\teval-mlogloss:0.86598\n",
      "[72]\teval-mlogloss:0.86972\n",
      "[73]\teval-mlogloss:0.87189\n",
      "[74]\teval-mlogloss:0.87255\n",
      "[75]\teval-mlogloss:0.87442\n",
      "[76]\teval-mlogloss:0.87542\n",
      "[77]\teval-mlogloss:0.87639\n",
      "[78]\teval-mlogloss:0.87873\n",
      "[79]\teval-mlogloss:0.87930\n",
      "[80]\teval-mlogloss:0.88159\n",
      "[81]\teval-mlogloss:0.88121\n",
      "[82]\teval-mlogloss:0.88147\n",
      "[83]\teval-mlogloss:0.88221\n",
      "[84]\teval-mlogloss:0.88474\n",
      "[85]\teval-mlogloss:0.88596\n",
      "[86]\teval-mlogloss:0.88768\n",
      "[87]\teval-mlogloss:0.88986\n",
      "[88]\teval-mlogloss:0.88984\n",
      "[89]\teval-mlogloss:0.89094\n",
      "[90]\teval-mlogloss:0.89338\n",
      "[91]\teval-mlogloss:0.89763\n",
      "[92]\teval-mlogloss:0.89998\n",
      "[93]\teval-mlogloss:0.90210\n",
      "[94]\teval-mlogloss:0.90568\n",
      "[95]\teval-mlogloss:0.90834\n",
      "[96]\teval-mlogloss:0.91052\n",
      "[97]\teval-mlogloss:0.91417\n",
      "[98]\teval-mlogloss:0.91668\n",
      "[99]\teval-mlogloss:0.91780\n",
      "Model saved to ../model/xgb_models_7/xgb_model_15.json\n"
     ]
    },
    {
     "data": {
      "text/plain": [
       "<Figure size 1000x800 with 0 Axes>"
      ]
     },
     "metadata": {},
     "output_type": "display_data"
    }
   ],
   "execution_count": 2
  }
 ],
 "metadata": {
  "kernelspec": {
   "display_name": "Python 3",
   "language": "python",
   "name": "python3"
  },
  "language_info": {
   "codemirror_mode": {
    "name": "ipython",
    "version": 2
   },
   "file_extension": ".py",
   "mimetype": "text/x-python",
   "name": "python",
   "nbconvert_exporter": "python",
   "pygments_lexer": "ipython2",
   "version": "2.7.6"
  }
 },
 "nbformat": 4,
 "nbformat_minor": 5
}
