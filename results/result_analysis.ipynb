{
 "cells": [
  {
   "cell_type": "code",
   "execution_count": 1,
   "id": "initial_id",
   "metadata": {
    "ExecuteTime": {
     "end_time": "2024-04-09T09:35:58.243631Z",
     "start_time": "2024-04-09T09:35:57.860524Z"
    },
    "collapsed": true
   },
   "outputs": [],
   "source": [
    "import pandas as pd"
   ]
  },
  {
   "cell_type": "code",
   "execution_count": 3,
   "id": "39cbc9a81ed64c3e",
   "metadata": {
    "ExecuteTime": {
     "end_time": "2024-04-09T09:36:09.117759Z",
     "start_time": "2024-04-09T09:36:09.096841Z"
    },
    "collapsed": false
   },
   "outputs": [
    {
     "name": "stdout",
     "output_type": "stream",
     "text": [
      "<class 'pandas.core.frame.DataFrame'>\n",
      "RangeIndex: 180 entries, 0 to 179\n",
      "Data columns (total 6 columns):\n",
      " #   Column           Non-Null Count  Dtype  \n",
      "---  ------           --------------  -----  \n",
      " 0   T                180 non-null    int64  \n",
      " 1   window_size      180 non-null    int64  \n",
      " 2   hidden_dim       180 non-null    int64  \n",
      " 3   num_layers       180 non-null    int64  \n",
      " 4   best_val_loss    180 non-null    float64\n",
      " 5   best_model_path  180 non-null    object \n",
      "dtypes: float64(1), int64(4), object(1)\n",
      "memory usage: 8.6+ KB\n"
     ]
    }
   ],
   "source": [
    "config_id = 4\n",
    "\n",
    "model_results = pd.read_excel(f'best_models_results_{config_id}.xlsx')\n",
    "model_results.info()"
   ]
  },
  {
   "cell_type": "code",
   "execution_count": 4,
   "id": "c7912a6584064119",
   "metadata": {
    "ExecuteTime": {
     "end_time": "2024-04-09T09:36:11.371320Z",
     "start_time": "2024-04-09T09:36:11.360685Z"
    },
    "collapsed": false
   },
   "outputs": [
    {
     "data": {
      "text/html": [
       "<div>\n",
       "<style scoped>\n",
       "    .dataframe tbody tr th:only-of-type {\n",
       "        vertical-align: middle;\n",
       "    }\n",
       "\n",
       "    .dataframe tbody tr th {\n",
       "        vertical-align: top;\n",
       "    }\n",
       "\n",
       "    .dataframe thead th {\n",
       "        text-align: right;\n",
       "    }\n",
       "</style>\n",
       "<table border=\"1\" class=\"dataframe\">\n",
       "  <thead>\n",
       "    <tr style=\"text-align: right;\">\n",
       "      <th></th>\n",
       "      <th>T</th>\n",
       "      <th>window_size</th>\n",
       "      <th>hidden_dim</th>\n",
       "      <th>num_layers</th>\n",
       "      <th>best_val_loss</th>\n",
       "      <th>best_model_path</th>\n",
       "    </tr>\n",
       "  </thead>\n",
       "  <tbody>\n",
       "    <tr>\n",
       "      <th>0</th>\n",
       "      <td>30</td>\n",
       "      <td>60</td>\n",
       "      <td>30</td>\n",
       "      <td>5</td>\n",
       "      <td>0.000002</td>\n",
       "      <td>lstm_models_4\\best_lstm_model_T30_window60_hid...</td>\n",
       "    </tr>\n",
       "    <tr>\n",
       "      <th>1</th>\n",
       "      <td>30</td>\n",
       "      <td>60</td>\n",
       "      <td>30</td>\n",
       "      <td>3</td>\n",
       "      <td>0.000002</td>\n",
       "      <td>lstm_models_4\\best_lstm_model_T30_window60_hid...</td>\n",
       "    </tr>\n",
       "    <tr>\n",
       "      <th>2</th>\n",
       "      <td>30</td>\n",
       "      <td>40</td>\n",
       "      <td>70</td>\n",
       "      <td>5</td>\n",
       "      <td>0.000002</td>\n",
       "      <td>lstm_models_4\\best_lstm_model_T30_window40_hid...</td>\n",
       "    </tr>\n",
       "    <tr>\n",
       "      <th>3</th>\n",
       "      <td>30</td>\n",
       "      <td>40</td>\n",
       "      <td>50</td>\n",
       "      <td>3</td>\n",
       "      <td>0.000002</td>\n",
       "      <td>lstm_models_4\\best_lstm_model_T30_window40_hid...</td>\n",
       "    </tr>\n",
       "    <tr>\n",
       "      <th>4</th>\n",
       "      <td>30</td>\n",
       "      <td>40</td>\n",
       "      <td>50</td>\n",
       "      <td>9</td>\n",
       "      <td>0.000002</td>\n",
       "      <td>lstm_models_4\\best_lstm_model_T30_window40_hid...</td>\n",
       "    </tr>\n",
       "    <tr>\n",
       "      <th>5</th>\n",
       "      <td>30</td>\n",
       "      <td>20</td>\n",
       "      <td>70</td>\n",
       "      <td>9</td>\n",
       "      <td>0.000002</td>\n",
       "      <td>lstm_models_4\\best_lstm_model_T30_window20_hid...</td>\n",
       "    </tr>\n",
       "    <tr>\n",
       "      <th>6</th>\n",
       "      <td>30</td>\n",
       "      <td>40</td>\n",
       "      <td>30</td>\n",
       "      <td>9</td>\n",
       "      <td>0.000002</td>\n",
       "      <td>lstm_models_4\\best_lstm_model_T30_window40_hid...</td>\n",
       "    </tr>\n",
       "    <tr>\n",
       "      <th>7</th>\n",
       "      <td>30</td>\n",
       "      <td>40</td>\n",
       "      <td>50</td>\n",
       "      <td>5</td>\n",
       "      <td>0.000003</td>\n",
       "      <td>lstm_models_4\\best_lstm_model_T30_window40_hid...</td>\n",
       "    </tr>\n",
       "    <tr>\n",
       "      <th>8</th>\n",
       "      <td>30</td>\n",
       "      <td>120</td>\n",
       "      <td>50</td>\n",
       "      <td>3</td>\n",
       "      <td>0.000003</td>\n",
       "      <td>lstm_models_4\\best_lstm_model_T30_window120_hi...</td>\n",
       "    </tr>\n",
       "    <tr>\n",
       "      <th>9</th>\n",
       "      <td>30</td>\n",
       "      <td>60</td>\n",
       "      <td>70</td>\n",
       "      <td>3</td>\n",
       "      <td>0.000003</td>\n",
       "      <td>lstm_models_4\\best_lstm_model_T30_window60_hid...</td>\n",
       "    </tr>\n",
       "  </tbody>\n",
       "</table>\n",
       "</div>"
      ],
      "text/plain": [
       "    T  window_size  hidden_dim  num_layers  best_val_loss  \\\n",
       "0  30           60          30           5       0.000002   \n",
       "1  30           60          30           3       0.000002   \n",
       "2  30           40          70           5       0.000002   \n",
       "3  30           40          50           3       0.000002   \n",
       "4  30           40          50           9       0.000002   \n",
       "5  30           20          70           9       0.000002   \n",
       "6  30           40          30           9       0.000002   \n",
       "7  30           40          50           5       0.000003   \n",
       "8  30          120          50           3       0.000003   \n",
       "9  30           60          70           3       0.000003   \n",
       "\n",
       "                                     best_model_path  \n",
       "0  lstm_models_4\\best_lstm_model_T30_window60_hid...  \n",
       "1  lstm_models_4\\best_lstm_model_T30_window60_hid...  \n",
       "2  lstm_models_4\\best_lstm_model_T30_window40_hid...  \n",
       "3  lstm_models_4\\best_lstm_model_T30_window40_hid...  \n",
       "4  lstm_models_4\\best_lstm_model_T30_window40_hid...  \n",
       "5  lstm_models_4\\best_lstm_model_T30_window20_hid...  \n",
       "6  lstm_models_4\\best_lstm_model_T30_window40_hid...  \n",
       "7  lstm_models_4\\best_lstm_model_T30_window40_hid...  \n",
       "8  lstm_models_4\\best_lstm_model_T30_window120_hi...  \n",
       "9  lstm_models_4\\best_lstm_model_T30_window60_hid...  "
      ]
     },
     "execution_count": 4,
     "metadata": {},
     "output_type": "execute_result"
    }
   ],
   "source": [
    "# 按照 best_val_loss 进行排序\n",
    "model_results.sort_values(by='best_val_loss', inplace=True)\n",
    "model_results.reset_index(drop=True, inplace=True)\n",
    "model_results.head(10)"
   ]
  },
  {
   "cell_type": "code",
   "execution_count": 5,
   "id": "3041ba29fe3e2907",
   "metadata": {
    "ExecuteTime": {
     "end_time": "2024-04-09T09:36:16.340385Z",
     "start_time": "2024-04-09T09:36:15.836165Z"
    },
    "collapsed": false
   },
   "outputs": [
    {
     "data": {
      "image/png": "[encoded data removed]",
      "text/plain": [
       "<Figure size 1000x600 with 1 Axes>"
      ]
     },
     "metadata": {},
     "output_type": "display_data"
    }
   ],
   "source": [
    "# 可视化分析T与best_val_loss的关系\n",
    "import matplotlib.pyplot as plt\n",
    "\n",
    "plt.figure(figsize=(10, 6))\n",
    "plt.plot(model_results['T'], model_results['best_val_loss'], 'o')\n",
    "plt.xlabel('T')\n",
    "plt.ylabel('best_val_loss')\n",
    "plt.title('T - best_val_loss')\n",
    "plt.show()"
   ]
  },
  {
   "cell_type": "code",
   "execution_count": 6,
   "id": "f1a48af89b324e88",
   "metadata": {
    "ExecuteTime": {
     "end_time": "2024-04-09T09:39:49.561677Z",
     "start_time": "2024-04-09T09:39:48.047577Z"
    },
    "collapsed": false
   },
   "outputs": [
    {
     "data": {
      "text/plain": [
       "0.0002474129546168351"
      ]
     },
     "execution_count": 6,
     "metadata": {},
     "output_type": "execute_result"
    }
   ],
   "source": [
    "from data.get_data import get_common_data\n",
    "\n",
    "data = get_common_data('SHSE.510300', '2008-01-01', '2020-01-01', 1)\n",
    "\n",
    "# 计算data最后一列的均值\n",
    "data['avg_daily_return_1'].mean()\n",
    "\n",
    "# 计算方差\n",
    "data['avg_daily_return_1'].var()"
   ]
  },
  {
   "cell_type": "code",
   "execution_count": null,
   "id": "9a43ebc5c2b311",
   "metadata": {
    "collapsed": false
   },
   "outputs": [],
   "source": []
  },
  {
   "cell_type": "markdown",
   "id": "824288c23e308942",
   "metadata": {
    "collapsed": false
   },
   "source": [
    "## NMSE计算，可视化T - NMSE"
   ]
  },
  {
   "cell_type": "code",
   "execution_count": 7,
   "id": "c2cafeed411c95f5",
   "metadata": {
    "ExecuteTime": {
     "end_time": "2024-04-09T09:39:51.981271Z",
     "start_time": "2024-04-09T09:39:51.976480Z"
    },
    "collapsed": false
   },
   "outputs": [],
   "source": [
    "model_results['best_valLoss%var'] = model_results['best_val_loss'] / data['avg_daily_return_1'].var()"
   ]
  },
  {
   "cell_type": "code",
   "execution_count": 8,
   "id": "4b7ed1f6544da90a",
   "metadata": {
    "ExecuteTime": {
     "end_time": "2024-04-09T09:39:53.387504Z",
     "start_time": "2024-04-09T09:39:53.302186Z"
    },
    "collapsed": false
   },
   "outputs": [
    {
     "data": {
      "image/png": "[encoded data removed]",
      "text/plain": [
       "<Figure size 1000x600 with 1 Axes>"
      ]
     },
     "metadata": {},
     "output_type": "display_data"
    }
   ],
   "source": [
    "plt.figure(figsize=(10, 6))\n",
    "plt.plot(model_results['T'], model_results['best_valLoss%var'], 'o')\n",
    "plt.xlabel('T')\n",
    "plt.ylabel('best_val_loss')\n",
    "plt.title('T - NMSE')\n",
    "plt.show()"
   ]
  },
  {
   "cell_type": "code",
   "execution_count": null,
   "id": "947f885d8be4462f",
   "metadata": {
    "collapsed": false
   },
   "outputs": [],
   "source": [
    "## 查看NMSE最小的模型们对应的超参数"
   ]
  },
  {
   "cell_type": "code",
   "execution_count": 30,
   "id": "64319a9821f3f739",
   "metadata": {
    "ExecuteTime": {
     "end_time": "2024-04-08T05:50:17.150856Z",
     "start_time": "2024-04-08T05:50:17.143050Z"
    },
    "collapsed": false
   },
   "outputs": [
    {
     "data": {
      "text/html": [
       "<div>\n",
       "<style scoped>\n",
       "    .dataframe tbody tr th:only-of-type {\n",
       "        vertical-align: middle;\n",
       "    }\n",
       "\n",
       "    .dataframe tbody tr th {\n",
       "        vertical-align: top;\n",
       "    }\n",
       "\n",
       "    .dataframe thead th {\n",
       "        text-align: right;\n",
       "    }\n",
       "</style>\n",
       "<table border=\"1\" class=\"dataframe\">\n",
       "  <thead>\n",
       "    <tr style=\"text-align: right;\">\n",
       "      <th></th>\n",
       "      <th>T</th>\n",
       "      <th>window_size</th>\n",
       "      <th>hidden_dim</th>\n",
       "      <th>num_layers</th>\n",
       "      <th>best_val_loss</th>\n",
       "      <th>best_model_path</th>\n",
       "      <th>best_valLoss%var</th>\n",
       "    </tr>\n",
       "  </thead>\n",
       "  <tbody>\n",
       "    <tr>\n",
       "      <th>0</th>\n",
       "      <td>1</td>\n",
       "      <td>20</td>\n",
       "      <td>30</td>\n",
       "      <td>3</td>\n",
       "      <td>0.00000000</td>\n",
       "      <td>lstm_models_1\\best_lstm_model_T1_window20_hidd...</td>\n",
       "      <td>0.00000000</td>\n",
       "    </tr>\n",
       "    <tr>\n",
       "      <th>1</th>\n",
       "      <td>1</td>\n",
       "      <td>40</td>\n",
       "      <td>30</td>\n",
       "      <td>9</td>\n",
       "      <td>0.00000000</td>\n",
       "      <td>lstm_models_1\\best_lstm_model_T1_window40_hidd...</td>\n",
       "      <td>0.00000000</td>\n",
       "    </tr>\n",
       "    <tr>\n",
       "      <th>2</th>\n",
       "      <td>1</td>\n",
       "      <td>20</td>\n",
       "      <td>30</td>\n",
       "      <td>5</td>\n",
       "      <td>0.00000000</td>\n",
       "      <td>lstm_models_1\\best_lstm_model_T1_window20_hidd...</td>\n",
       "      <td>0.00000000</td>\n",
       "    </tr>\n",
       "    <tr>\n",
       "      <th>3</th>\n",
       "      <td>1</td>\n",
       "      <td>20</td>\n",
       "      <td>30</td>\n",
       "      <td>9</td>\n",
       "      <td>0.00000000</td>\n",
       "      <td>lstm_models_1\\best_lstm_model_T1_window20_hidd...</td>\n",
       "      <td>0.00000000</td>\n",
       "    </tr>\n",
       "    <tr>\n",
       "      <th>4</th>\n",
       "      <td>1</td>\n",
       "      <td>20</td>\n",
       "      <td>50</td>\n",
       "      <td>3</td>\n",
       "      <td>0.00000000</td>\n",
       "      <td>lstm_models_1\\best_lstm_model_T1_window20_hidd...</td>\n",
       "      <td>0.00000000</td>\n",
       "    </tr>\n",
       "    <tr>\n",
       "      <th>...</th>\n",
       "      <td>...</td>\n",
       "      <td>...</td>\n",
       "      <td>...</td>\n",
       "      <td>...</td>\n",
       "      <td>...</td>\n",
       "      <td>...</td>\n",
       "      <td>...</td>\n",
       "    </tr>\n",
       "    <tr>\n",
       "      <th>175</th>\n",
       "      <td>7</td>\n",
       "      <td>120</td>\n",
       "      <td>50</td>\n",
       "      <td>5</td>\n",
       "      <td>0.00000651</td>\n",
       "      <td>lstm_models_1\\best_lstm_model_T7_window120_hid...</td>\n",
       "      <td>0.02629530</td>\n",
       "    </tr>\n",
       "    <tr>\n",
       "      <th>176</th>\n",
       "      <td>7</td>\n",
       "      <td>120</td>\n",
       "      <td>70</td>\n",
       "      <td>3</td>\n",
       "      <td>0.00000735</td>\n",
       "      <td>lstm_models_1\\best_lstm_model_T7_window120_hid...</td>\n",
       "      <td>0.02971491</td>\n",
       "    </tr>\n",
       "    <tr>\n",
       "      <th>177</th>\n",
       "      <td>7</td>\n",
       "      <td>120</td>\n",
       "      <td>70</td>\n",
       "      <td>5</td>\n",
       "      <td>0.00000759</td>\n",
       "      <td>lstm_models_1\\best_lstm_model_T7_window120_hid...</td>\n",
       "      <td>0.03067944</td>\n",
       "    </tr>\n",
       "    <tr>\n",
       "      <th>178</th>\n",
       "      <td>7</td>\n",
       "      <td>120</td>\n",
       "      <td>50</td>\n",
       "      <td>9</td>\n",
       "      <td>0.00001468</td>\n",
       "      <td>lstm_models_1\\best_lstm_model_T7_window120_hid...</td>\n",
       "      <td>0.05932296</td>\n",
       "    </tr>\n",
       "    <tr>\n",
       "      <th>179</th>\n",
       "      <td>7</td>\n",
       "      <td>120</td>\n",
       "      <td>70</td>\n",
       "      <td>9</td>\n",
       "      <td>0.00001468</td>\n",
       "      <td>lstm_models_1\\best_lstm_model_T7_window120_hid...</td>\n",
       "      <td>0.05932986</td>\n",
       "    </tr>\n",
       "  </tbody>\n",
       "</table>\n",
       "<p>180 rows × 7 columns</p>\n",
       "</div>"
      ],
      "text/plain": [
       "     T  window_size  hidden_dim  num_layers  best_val_loss  \\\n",
       "0    1           20          30           3     0.00000000   \n",
       "1    1           40          30           9     0.00000000   \n",
       "2    1           20          30           5     0.00000000   \n",
       "3    1           20          30           9     0.00000000   \n",
       "4    1           20          50           3     0.00000000   \n",
       "..  ..          ...         ...         ...            ...   \n",
       "175  7          120          50           5     0.00000651   \n",
       "176  7          120          70           3     0.00000735   \n",
       "177  7          120          70           5     0.00000759   \n",
       "178  7          120          50           9     0.00001468   \n",
       "179  7          120          70           9     0.00001468   \n",
       "\n",
       "                                       best_model_path  best_valLoss%var  \n",
       "0    lstm_models_1\\best_lstm_model_T1_window20_hidd...        0.00000000  \n",
       "1    lstm_models_1\\best_lstm_model_T1_window40_hidd...        0.00000000  \n",
       "2    lstm_models_1\\best_lstm_model_T1_window20_hidd...        0.00000000  \n",
       "3    lstm_models_1\\best_lstm_model_T1_window20_hidd...        0.00000000  \n",
       "4    lstm_models_1\\best_lstm_model_T1_window20_hidd...        0.00000000  \n",
       "..                                                 ...               ...  \n",
       "175  lstm_models_1\\best_lstm_model_T7_window120_hid...        0.02629530  \n",
       "176  lstm_models_1\\best_lstm_model_T7_window120_hid...        0.02971491  \n",
       "177  lstm_models_1\\best_lstm_model_T7_window120_hid...        0.03067944  \n",
       "178  lstm_models_1\\best_lstm_model_T7_window120_hid...        0.05932296  \n",
       "179  lstm_models_1\\best_lstm_model_T7_window120_hid...        0.05932986  \n",
       "\n",
       "[180 rows x 7 columns]"
      ]
     },
     "execution_count": 30,
     "metadata": {},
     "output_type": "execute_result"
    }
   ],
   "source": [
    "# 按照best_valLoss%var进行排序\n",
    "model_results.sort_values(by='best_valLoss%var', inplace=True)\n",
    "model_results.reset_index(drop=True, inplace=True)\n",
    "model_results"
   ]
  },
  {
   "cell_type": "code",
   "execution_count": 31,
   "id": "43cda05d11ab5ea0",
   "metadata": {
    "ExecuteTime": {
     "end_time": "2024-04-08T05:50:20.379105Z",
     "start_time": "2024-04-08T05:50:20.370999Z"
    },
    "collapsed": false
   },
   "outputs": [
    {
     "data": {
      "text/html": [
       "<div>\n",
       "<style scoped>\n",
       "    .dataframe tbody tr th:only-of-type {\n",
       "        vertical-align: middle;\n",
       "    }\n",
       "\n",
       "    .dataframe tbody tr th {\n",
       "        vertical-align: top;\n",
       "    }\n",
       "\n",
       "    .dataframe thead th {\n",
       "        text-align: right;\n",
       "    }\n",
       "</style>\n",
       "<table border=\"1\" class=\"dataframe\">\n",
       "  <thead>\n",
       "    <tr style=\"text-align: right;\">\n",
       "      <th></th>\n",
       "      <th>window_size</th>\n",
       "      <th>hidden_dim</th>\n",
       "      <th>num_layers</th>\n",
       "      <th>best_val_loss</th>\n",
       "      <th>best_model_path</th>\n",
       "      <th>best_valLoss%var</th>\n",
       "    </tr>\n",
       "    <tr>\n",
       "      <th>T</th>\n",
       "      <th></th>\n",
       "      <th></th>\n",
       "      <th></th>\n",
       "      <th></th>\n",
       "      <th></th>\n",
       "      <th></th>\n",
       "    </tr>\n",
       "  </thead>\n",
       "  <tbody>\n",
       "    <tr>\n",
       "      <th>1</th>\n",
       "      <td>20</td>\n",
       "      <td>30</td>\n",
       "      <td>3</td>\n",
       "      <td>0.00000000</td>\n",
       "      <td>lstm_models_1\\best_lstm_model_T1_window20_hidd...</td>\n",
       "      <td>0.00000000</td>\n",
       "    </tr>\n",
       "    <tr>\n",
       "      <th>3</th>\n",
       "      <td>40</td>\n",
       "      <td>50</td>\n",
       "      <td>5</td>\n",
       "      <td>0.00000000</td>\n",
       "      <td>lstm_models_1\\best_lstm_model_T3_window40_hidd...</td>\n",
       "      <td>0.00000000</td>\n",
       "    </tr>\n",
       "    <tr>\n",
       "      <th>7</th>\n",
       "      <td>40</td>\n",
       "      <td>70</td>\n",
       "      <td>9</td>\n",
       "      <td>0.00000000</td>\n",
       "      <td>lstm_models_1\\best_lstm_model_T7_window40_hidd...</td>\n",
       "      <td>0.00000000</td>\n",
       "    </tr>\n",
       "    <tr>\n",
       "      <th>15</th>\n",
       "      <td>120</td>\n",
       "      <td>50</td>\n",
       "      <td>5</td>\n",
       "      <td>0.00000185</td>\n",
       "      <td>lstm_models_1\\best_lstm_model_T15_window120_hi...</td>\n",
       "      <td>0.00748087</td>\n",
       "    </tr>\n",
       "    <tr>\n",
       "      <th>30</th>\n",
       "      <td>120</td>\n",
       "      <td>30</td>\n",
       "      <td>3</td>\n",
       "      <td>0.00000110</td>\n",
       "      <td>lstm_models_1\\best_lstm_model_T30_window120_hi...</td>\n",
       "      <td>0.00445722</td>\n",
       "    </tr>\n",
       "  </tbody>\n",
       "</table>\n",
       "</div>"
      ],
      "text/plain": [
       "    window_size  hidden_dim  num_layers  best_val_loss  \\\n",
       "T                                                        \n",
       "1            20          30           3     0.00000000   \n",
       "3            40          50           5     0.00000000   \n",
       "7            40          70           9     0.00000000   \n",
       "15          120          50           5     0.00000185   \n",
       "30          120          30           3     0.00000110   \n",
       "\n",
       "                                      best_model_path  best_valLoss%var  \n",
       "T                                                                        \n",
       "1   lstm_models_1\\best_lstm_model_T1_window20_hidd...        0.00000000  \n",
       "3   lstm_models_1\\best_lstm_model_T3_window40_hidd...        0.00000000  \n",
       "7   lstm_models_1\\best_lstm_model_T7_window40_hidd...        0.00000000  \n",
       "15  lstm_models_1\\best_lstm_model_T15_window120_hi...        0.00748087  \n",
       "30  lstm_models_1\\best_lstm_model_T30_window120_hi...        0.00445722  "
      ]
     },
     "execution_count": 31,
     "metadata": {},
     "output_type": "execute_result"
    }
   ],
   "source": [
    "# 查看每个T对应的NMSE最小的模型\n",
    "model_results.groupby('T').first()"
   ]
  },
  {
   "cell_type": "markdown",
   "id": "dc5673ba2b92a022",
   "metadata": {
    "collapsed": false
   },
   "source": [
    "# T与threshold调参结果分析"
   ]
  },
  {
   "cell_type": "code",
   "execution_count": null,
   "id": "bb68225016a66fcb",
   "metadata": {
    "collapsed": false
   },
   "outputs": [],
   "source": []
  },
  {
   "cell_type": "code",
   "execution_count": 34,
   "id": "370af2b0e3c90cb1",
   "metadata": {
    "ExecuteTime": {
     "end_time": "2024-04-08T07:04:55.481212Z",
     "start_time": "2024-04-08T07:04:55.470443Z"
    },
    "collapsed": false
   },
   "outputs": [
    {
     "data": {
      "text/html": [
       "<div>\n",
       "<style scoped>\n",
       "    .dataframe tbody tr th:only-of-type {\n",
       "        vertical-align: middle;\n",
       "    }\n",
       "\n",
       "    .dataframe tbody tr th {\n",
       "        vertical-align: top;\n",
       "    }\n",
       "\n",
       "    .dataframe thead th {\n",
       "        text-align: right;\n",
       "    }\n",
       "</style>\n",
       "<table border=\"1\" class=\"dataframe\">\n",
       "  <thead>\n",
       "    <tr style=\"text-align: right;\">\n",
       "      <th></th>\n",
       "      <th>0</th>\n",
       "    </tr>\n",
       "  </thead>\n",
       "  <tbody>\n",
       "    <tr>\n",
       "      <th>0</th>\n",
       "      <td>{'params': {'T': 1, 'threshold': 0.001}, 'pnl_...</td>\n",
       "    </tr>\n",
       "    <tr>\n",
       "      <th>1</th>\n",
       "      <td>{'params': {'T': 3, 'threshold': 0.001}, 'pnl_...</td>\n",
       "    </tr>\n",
       "    <tr>\n",
       "      <th>2</th>\n",
       "      <td>{'params': {'T': 7, 'threshold': 0.001}, 'pnl_...</td>\n",
       "    </tr>\n",
       "    <tr>\n",
       "      <th>3</th>\n",
       "      <td>{'params': {'T': 15, 'threshold': 0.001}, 'pnl...</td>\n",
       "    </tr>\n",
       "    <tr>\n",
       "      <th>4</th>\n",
       "      <td>{'params': {'T': 30, 'threshold': 0.001}, 'pnl...</td>\n",
       "    </tr>\n",
       "  </tbody>\n",
       "</table>\n",
       "</div>"
      ],
      "text/plain": [
       "                                                   0\n",
       "0  {'params': {'T': 1, 'threshold': 0.001}, 'pnl_...\n",
       "1  {'params': {'T': 3, 'threshold': 0.001}, 'pnl_...\n",
       "2  {'params': {'T': 7, 'threshold': 0.001}, 'pnl_...\n",
       "3  {'params': {'T': 15, 'threshold': 0.001}, 'pnl...\n",
       "4  {'params': {'T': 30, 'threshold': 0.001}, 'pnl..."
      ]
     },
     "execution_count": 34,
     "metadata": {},
     "output_type": "execute_result"
    }
   ],
   "source": [
    "config_id = 'test'\n",
    "data = pd.read_excel(f'optimization_results_{config_id}.xlsx')\n",
    "data"
   ]
  },
  {
   "cell_type": "code",
   "execution_count": 35,
   "id": "c20d12d9034c64e4",
   "metadata": {
    "ExecuteTime": {
     "end_time": "2024-04-08T07:05:12.469095Z",
     "start_time": "2024-04-08T07:05:12.455552Z"
    },
    "collapsed": false
   },
   "outputs": [
    {
     "data": {
      "text/html": [
       "<div>\n",
       "<style scoped>\n",
       "    .dataframe tbody tr th:only-of-type {\n",
       "        vertical-align: middle;\n",
       "    }\n",
       "\n",
       "    .dataframe tbody tr th {\n",
       "        vertical-align: top;\n",
       "    }\n",
       "\n",
       "    .dataframe thead th {\n",
       "        text-align: right;\n",
       "    }\n",
       "</style>\n",
       "<table border=\"1\" class=\"dataframe\">\n",
       "  <thead>\n",
       "    <tr style=\"text-align: right;\">\n",
       "      <th></th>\n",
       "      <th>params</th>\n",
       "      <th>pnl_ratio</th>\n",
       "      <th>sharp_ratio</th>\n",
       "      <th>max_drawdown</th>\n",
       "      <th>pnl_ratio_annual</th>\n",
       "    </tr>\n",
       "  </thead>\n",
       "  <tbody>\n",
       "    <tr>\n",
       "      <th>0</th>\n",
       "      <td>{'T': 1, 'threshold': 0.001}</td>\n",
       "      <td>0.00059924</td>\n",
       "      <td>0.00731819</td>\n",
       "      <td>0.06787240</td>\n",
       "      <td>0.00081918</td>\n",
       "    </tr>\n",
       "    <tr>\n",
       "      <th>1</th>\n",
       "      <td>{'T': 3, 'threshold': 0.001}</td>\n",
       "      <td>-0.00659253</td>\n",
       "      <td>-0.08098832</td>\n",
       "      <td>0.06774807</td>\n",
       "      <td>-0.00901226</td>\n",
       "    </tr>\n",
       "    <tr>\n",
       "      <th>2</th>\n",
       "      <td>{'T': 7, 'threshold': 0.001}</td>\n",
       "      <td>0.01654890</td>\n",
       "      <td>0.20628444</td>\n",
       "      <td>0.06732217</td>\n",
       "      <td>0.02262303</td>\n",
       "    </tr>\n",
       "    <tr>\n",
       "      <th>3</th>\n",
       "      <td>{'T': 15, 'threshold': 0.001}</td>\n",
       "      <td>0.01047426</td>\n",
       "      <td>0.12790213</td>\n",
       "      <td>0.06281359</td>\n",
       "      <td>0.01431875</td>\n",
       "    </tr>\n",
       "    <tr>\n",
       "      <th>4</th>\n",
       "      <td>{'T': 30, 'threshold': 0.001}</td>\n",
       "      <td>-0.00503190</td>\n",
       "      <td>-0.06212990</td>\n",
       "      <td>0.06525104</td>\n",
       "      <td>-0.00687882</td>\n",
       "    </tr>\n",
       "  </tbody>\n",
       "</table>\n",
       "</div>"
      ],
      "text/plain": [
       "                          params   pnl_ratio  sharp_ratio  max_drawdown  \\\n",
       "0   {'T': 1, 'threshold': 0.001}  0.00059924   0.00731819    0.06787240   \n",
       "1   {'T': 3, 'threshold': 0.001} -0.00659253  -0.08098832    0.06774807   \n",
       "2   {'T': 7, 'threshold': 0.001}  0.01654890   0.20628444    0.06732217   \n",
       "3  {'T': 15, 'threshold': 0.001}  0.01047426   0.12790213    0.06281359   \n",
       "4  {'T': 30, 'threshold': 0.001} -0.00503190  -0.06212990    0.06525104   \n",
       "\n",
       "   pnl_ratio_annual  \n",
       "0        0.00081918  \n",
       "1       -0.00901226  \n",
       "2        0.02262303  \n",
       "3        0.01431875  \n",
       "4       -0.00687882  "
      ]
     },
     "execution_count": 35,
     "metadata": {},
     "output_type": "execute_result"
    }
   ],
   "source": [
    "import ast\n",
    "\n",
    "# 将字符串转换为字典\n",
    "dict_data = ast.literal_eval(data.iloc[0,0])\n",
    "\n",
    "# 获取字典的所有键\n",
    "keys = list(dict_data.keys())\n",
    "df = pd.DataFrame(columns=keys)\n",
    "for i in range(len(data)):\n",
    "    # 将当前行的字符串转换为字典\n",
    "    row_data = ast.literal_eval(data.iloc[i, 0])\n",
    "    # 创建一个临时的DataFrame存储当前行的数据\n",
    "    temp_df = pd.DataFrame([row_data])\n",
    "    # 使用concat方法合并DataFrame\n",
    "    df = pd.concat([df, temp_df], ignore_index=True)\n",
    "# df.to_excel('optimization_results.xlsx', index=False)\n",
    "df"
   ]
  },
  {
   "cell_type": "markdown",
   "id": "dd1dd0cfaaf02abb",
   "metadata": {
    "collapsed": false
   },
   "source": [
    "# 行情数据分析"
   ]
  },
  {
   "cell_type": "code",
   "execution_count": 1,
   "id": "715281fa0b035ef4",
   "metadata": {
    "ExecuteTime": {
     "end_time": "2024-04-09T12:54:30.733566Z",
     "start_time": "2024-04-09T12:54:30.189539Z"
    },
    "collapsed": false
   },
   "outputs": [],
   "source": [
    "from __future__ import print_function, absolute_import\n",
    "from gm.api import *\n",
    "\n",
    "# 设置token\n",
    "set_token('9c0950e38c59552734328ad13ad93b6cc44ee271')\n",
    "symbol = 'SHSE.510300'\n",
    "trade_data = history(symbol, frequency='1d', start_time='2006-01-01', end_time='2024-04-01', fill_missing='last',\n",
    "                     df=True)\n",
    "# 去除 'symbol', 'eob', 'frequency','position' 列\n",
    "trade_data.drop(['symbol', 'eob', 'frequency', 'position'], axis=1, inplace=True)\n",
    "# 将'bob'去时区化后作为索引\n",
    "trade_data.set_index('bob', inplace=True)\n",
    "# 将data的索引设置为tz-naive\n",
    "trade_data.index = trade_data.index.tz_localize(None)"
   ]
  },
  {
   "cell_type": "code",
   "execution_count": 2,
   "id": "a7e3d634823fa967",
   "metadata": {
    "ExecuteTime": {
     "end_time": "2024-04-09T12:54:32.674915Z",
     "start_time": "2024-04-09T12:54:32.656925Z"
    },
    "collapsed": false
   },
   "outputs": [
    {
     "data": {
      "text/html": [
       "<div>\n",
       "<style scoped>\n",
       "    .dataframe tbody tr th:only-of-type {\n",
       "        vertical-align: middle;\n",
       "    }\n",
       "\n",
       "    .dataframe tbody tr th {\n",
       "        vertical-align: top;\n",
       "    }\n",
       "\n",
       "    .dataframe thead th {\n",
       "        text-align: right;\n",
       "    }\n",
       "</style>\n",
       "<table border=\"1\" class=\"dataframe\">\n",
       "  <thead>\n",
       "    <tr style=\"text-align: right;\">\n",
       "      <th></th>\n",
       "      <th>open</th>\n",
       "      <th>high</th>\n",
       "      <th>low</th>\n",
       "      <th>close</th>\n",
       "      <th>volume</th>\n",
       "      <th>amount</th>\n",
       "      <th>pre_close</th>\n",
       "    </tr>\n",
       "    <tr>\n",
       "      <th>bob</th>\n",
       "      <th></th>\n",
       "      <th></th>\n",
       "      <th></th>\n",
       "      <th></th>\n",
       "      <th></th>\n",
       "      <th></th>\n",
       "      <th></th>\n",
       "    </tr>\n",
       "  </thead>\n",
       "  <tbody>\n",
       "    <tr>\n",
       "      <th>2012-05-28</th>\n",
       "      <td>2.551</td>\n",
       "      <td>2.607</td>\n",
       "      <td>2.544</td>\n",
       "      <td>2.604</td>\n",
       "      <td>1277518769</td>\n",
       "      <td>3285755320.0</td>\n",
       "      <td>2.574</td>\n",
       "    </tr>\n",
       "    <tr>\n",
       "      <th>2012-05-29</th>\n",
       "      <td>2.602</td>\n",
       "      <td>2.661</td>\n",
       "      <td>2.602</td>\n",
       "      <td>2.644</td>\n",
       "      <td>714949008</td>\n",
       "      <td>1875593354.0</td>\n",
       "      <td>2.604</td>\n",
       "    </tr>\n",
       "    <tr>\n",
       "      <th>2012-05-30</th>\n",
       "      <td>2.642</td>\n",
       "      <td>2.647</td>\n",
       "      <td>2.633</td>\n",
       "      <td>2.636</td>\n",
       "      <td>265887198</td>\n",
       "      <td>701725789.0</td>\n",
       "      <td>2.644</td>\n",
       "    </tr>\n",
       "    <tr>\n",
       "      <th>2012-05-31</th>\n",
       "      <td>2.621</td>\n",
       "      <td>2.645</td>\n",
       "      <td>2.613</td>\n",
       "      <td>2.630</td>\n",
       "      <td>178155984</td>\n",
       "      <td>468193104.0</td>\n",
       "      <td>2.636</td>\n",
       "    </tr>\n",
       "    <tr>\n",
       "      <th>2012-06-01</th>\n",
       "      <td>2.629</td>\n",
       "      <td>2.660</td>\n",
       "      <td>2.620</td>\n",
       "      <td>2.630</td>\n",
       "      <td>179350035</td>\n",
       "      <td>473477195.0</td>\n",
       "      <td>2.630</td>\n",
       "    </tr>\n",
       "    <tr>\n",
       "      <th>...</th>\n",
       "      <td>...</td>\n",
       "      <td>...</td>\n",
       "      <td>...</td>\n",
       "      <td>...</td>\n",
       "      <td>...</td>\n",
       "      <td>...</td>\n",
       "      <td>...</td>\n",
       "    </tr>\n",
       "    <tr>\n",
       "      <th>2024-03-26</th>\n",
       "      <td>3.520</td>\n",
       "      <td>3.538</td>\n",
       "      <td>3.512</td>\n",
       "      <td>3.531</td>\n",
       "      <td>879103283</td>\n",
       "      <td>3098650769.0</td>\n",
       "      <td>3.520</td>\n",
       "    </tr>\n",
       "    <tr>\n",
       "      <th>2024-03-27</th>\n",
       "      <td>3.526</td>\n",
       "      <td>3.532</td>\n",
       "      <td>3.492</td>\n",
       "      <td>3.493</td>\n",
       "      <td>874647452</td>\n",
       "      <td>3074186800.0</td>\n",
       "      <td>3.531</td>\n",
       "    </tr>\n",
       "    <tr>\n",
       "      <th>2024-03-28</th>\n",
       "      <td>3.491</td>\n",
       "      <td>3.544</td>\n",
       "      <td>3.481</td>\n",
       "      <td>3.510</td>\n",
       "      <td>1031925094</td>\n",
       "      <td>3626832966.0</td>\n",
       "      <td>3.493</td>\n",
       "    </tr>\n",
       "    <tr>\n",
       "      <th>2024-03-29</th>\n",
       "      <td>3.507</td>\n",
       "      <td>3.530</td>\n",
       "      <td>3.505</td>\n",
       "      <td>3.526</td>\n",
       "      <td>651195899</td>\n",
       "      <td>2290152714.0</td>\n",
       "      <td>3.510</td>\n",
       "    </tr>\n",
       "    <tr>\n",
       "      <th>2024-04-01</th>\n",
       "      <td>3.540</td>\n",
       "      <td>3.594</td>\n",
       "      <td>3.539</td>\n",
       "      <td>3.584</td>\n",
       "      <td>1093262535</td>\n",
       "      <td>3911633845.0</td>\n",
       "      <td>3.526</td>\n",
       "    </tr>\n",
       "  </tbody>\n",
       "</table>\n",
       "<p>2881 rows × 7 columns</p>\n",
       "</div>"
      ],
      "text/plain": [
       "             open   high    low  close      volume        amount  pre_close\n",
       "bob                                                                        \n",
       "2012-05-28  2.551  2.607  2.544  2.604  1277518769  3285755320.0      2.574\n",
       "2012-05-29  2.602  2.661  2.602  2.644   714949008  1875593354.0      2.604\n",
       "2012-05-30  2.642  2.647  2.633  2.636   265887198   701725789.0      2.644\n",
       "2012-05-31  2.621  2.645  2.613  2.630   178155984   468193104.0      2.636\n",
       "2012-06-01  2.629  2.660  2.620  2.630   179350035   473477195.0      2.630\n",
       "...           ...    ...    ...    ...         ...           ...        ...\n",
       "2024-03-26  3.520  3.538  3.512  3.531   879103283  3098650769.0      3.520\n",
       "2024-03-27  3.526  3.532  3.492  3.493   874647452  3074186800.0      3.531\n",
       "2024-03-28  3.491  3.544  3.481  3.510  1031925094  3626832966.0      3.493\n",
       "2024-03-29  3.507  3.530  3.505  3.526   651195899  2290152714.0      3.510\n",
       "2024-04-01  3.540  3.594  3.539  3.584  1093262535  3911633845.0      3.526\n",
       "\n",
       "[2881 rows x 7 columns]"
      ]
     },
     "execution_count": 2,
     "metadata": {},
     "output_type": "execute_result"
    }
   ],
   "source": [
    "trade_data"
   ]
  },
  {
   "cell_type": "code",
   "execution_count": 7,
   "id": "74e672f2679fe23c",
   "metadata": {
    "collapsed": false
   },
   "outputs": [
    {
     "data": {
      "image/png": "[encoded data removed]",
      "text/plain": [
       "<Figure size 1500x600 with 1 Axes>"
      ]
     },
     "metadata": {},
     "output_type": "display_data"
    }
   ],
   "source": [
    "import pandas as pd\n",
    "# 可视化trade_data.close\n",
    "import matplotlib.pyplot as plt\n",
    "\n",
    "plt.figure(figsize=(15, 6))\n",
    "plt.plot(trade_data['close'])\n",
    "# # 横坐标刻度包含月\n",
    "# plt.xticks(pd.date_range(trade_data.index[0], trade_data.index[-1], freq='M'), rotation=45)\n",
    "\n",
    "plt.xlabel('Date')\n",
    "plt.ylabel('Close Price')\n",
    "plt.title('Close Price of SHSE.510300')\n",
    "plt.show()"
   ]
  },
  {
   "cell_type": "code",
   "execution_count": null,
   "id": "bc4a2c04",
   "metadata": {},
   "outputs": [],
   "source": []
  }
 ],
 "metadata": {
  "kernelspec": {
   "display_name": "Python 3",
   "language": "python",
   "name": "python3"
  },
  "language_info": {
   "codemirror_mode": {
    "name": "ipython",
    "version": 3
   },
   "file_extension": ".py",
   "mimetype": "text/x-python",
   "name": "python",
   "nbconvert_exporter": "python",
   "pygments_lexer": "ipython3",
   "version": "3.11.8"
  }
 },
 "nbformat": 4,
 "nbformat_minor": 5
}
