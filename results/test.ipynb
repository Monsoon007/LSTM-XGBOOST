{
 "cells": [
  {
   "cell_type": "code",
   "execution_count": 6,
   "id": "initial_id",
   "metadata": {
    "collapsed": true,
    "ExecuteTime": {
     "end_time": "2024-04-07T14:05:37.158958Z",
     "start_time": "2024-04-07T14:05:36.804556Z"
    }
   },
   "outputs": [],
   "source": [
    "from datetime import datetime\n",
    "import pandas as pd\n",
    "\n",
    "symbol = 'SHSE.510300'\n",
    "\n",
    "date_config = {\n",
    "    'train_start_date': '2008-01-01',\n",
    "    'train_end_date': '2020-01-01',\n",
    "    'val_start_date': '2020-07-10',\n",
    "    'val_end_date': '2022-01-14',\n",
    "    'test_start_date': '2022-12-09',\n",
    "    'test_end_date': '2023-09-01'\n",
    "}\n",
    "\n",
    "train_start_date = date_config['train_start_date']\n",
    "train_end_date = date_config['train_end_date']\n",
    "val_start_date = date_config['val_start_date']\n",
    "val_end_date = date_config['val_end_date']\n",
    "test_start_date = date_config['test_start_date']\n",
    "test_end_date = date_config['test_end_date']\n",
    "\n",
    "param_config = {\n",
    "    'T_values': [1, 3, 7, 15, 30],\n",
    "    'window_sizes': [20, 40, 60, 120],\n",
    "    'hidden_dims': [30, 50, 70],\n",
    "    'num_layers_list': [3, 5, 9]\n",
    "}\n",
    "\n",
    "T_values = param_config['T_values']\n",
    "window_sizes = param_config['window_sizes']\n",
    "hidden_dims = param_config['hidden_dims']\n",
    "num_layers_list = param_config['num_layers_list']\n",
    "\n",
    "# 根据时间生成一个config_id\n",
    "config_id = datetime.now().strftime('%Y%m%d-%H%M%S')\n",
    "\n",
    "# 将config追加保存到configs.xlsx文件中\n",
    "configs = {\n",
    "    'config_id': config_id,\n",
    "    'symbol': symbol,\n",
    "    'date_config': str(date_config),\n",
    "    'param_config': str(param_config),\n",
    "}\n",
    "\n",
    "configs_df = pd.DataFrame(configs, index=[0])\n",
    "configs_df.to_excel('configs111.xlsx')"
   ]
  }
 ],
 "metadata": {
  "kernelspec": {
   "display_name": "Python 3",
   "language": "python",
   "name": "python3"
  },
  "language_info": {
   "codemirror_mode": {
    "name": "ipython",
    "version": 2
   },
   "file_extension": ".py",
   "mimetype": "text/x-python",
   "name": "python",
   "nbconvert_exporter": "python",
   "pygments_lexer": "ipython2",
   "version": "2.7.6"
  }
 },
 "nbformat": 4,
 "nbformat_minor": 5
}
