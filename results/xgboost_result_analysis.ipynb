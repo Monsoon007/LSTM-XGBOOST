{
 "cells": [
  {
   "metadata": {
    "ExecuteTime": {
     "end_time": "2024-04-18T12:30:07.107847Z",
     "start_time": "2024-04-18T12:30:06.139639Z"
    }
   },
   "cell_type": "code",
   "source": [
    "import os\n",
    "import xgboost as xgb\n",
    "from xgboost import plot_tree\n",
    "import matplotlib.pyplot as plt\n",
    "import graphviz\n",
    "\n",
    "target_T = 7\n",
    "\n",
    "# 指定Graphviz的路径\n",
    "os.environ[\"PATH\"] += os.pathsep + 'E:\\\\Graphviz\\\\bin'\n",
    "\n",
    "model_path = f'../model/xgb_models/xgb_model_{target_T}.json'\n",
    "if not os.path.isfile(model_path):\n",
    "    print(f\"No file found at {model_path}\")\n",
    "else:\n",
    "    print(f\"File found at {model_path}\")\n",
    "    # 加载模型\n",
    "    bst = xgb.Booster()\n",
    "    bst.load_model(model_path)\n",
    "    # 绘制决策树\n",
    "    plt.figure(figsize=(10, 8))  # 可以调整图形大小\n",
    "    xgb.plot_tree(bst, num_trees=0)\n",
    "    \n",
    "    # 保存图像\n",
    "    plt.savefig(f'xgb_tree_{target_T}.png', dpi=300, bbox_inches='tight')\n",
    "    plt.show()  # 然后显示图形\n",
    "    plt.close()  # 关闭图形，释放内存\n",
    "    \n",
    "    # 使用to_graphviz生成竖直布局的Graphviz数据\n",
    "    dot = xgb.to_graphviz(bst, num_trees=0, rankdir='TB')\n",
    "    \n",
    "    # 保存到.dot文件\n",
    "    dot_file = 'vertical_tree.dot'\n",
    "    dot.render(dot_file, format='dot')"
   ],
   "id": "ef6e0a345898a03c",
   "outputs": [
    {
     "name": "stdout",
     "output_type": "stream",
     "text": [
      "File found at ../model/xgb_models/xgb_model_7.json\n"
     ]
    },
    {
     "data": {
      "text/plain": [
       "<Figure size 1000x800 with 0 Axes>"
      ]
     },
     "metadata": {},
     "output_type": "display_data"
    },
    {
     "data": {
      "text/plain": [
       "<Figure size 640x480 with 1 Axes>"
      ],
      "image/png": "[encoded data removed]"
     },
     "metadata": {},
     "output_type": "display_data"
    }
   ],
   "execution_count": 35
  },
  {
   "metadata": {
    "ExecuteTime": {
     "end_time": "2024-04-18T12:38:41.841468Z",
     "start_time": "2024-04-18T12:38:41.734651Z"
    }
   },
   "cell_type": "code",
   "source": [
    "from xgboost import plot_importance\n",
    "\n",
    "# 特征重要性分析\n",
    "plot_importance(bst,importance_type='gain')\n",
    "# 保存高清图片\n",
    "# plt.savefig('feature_importance.png', dpi=300, bbox_inches='tight')\n",
    "plt.show()\n"
   ],
   "id": "67f49c4f258313d8",
   "outputs": [
    {
     "ename": "ValueError",
     "evalue": "Image size of 1033001x449 pixels is too large. It must be less than 2^16 in each direction.",
     "output_type": "error",
     "traceback": [
      "\u001B[1;31m---------------------------------------------------------------------------\u001B[0m",
      "\u001B[1;31mValueError\u001B[0m                                Traceback (most recent call last)",
      "File \u001B[1;32mE:\\anaconda\\envs\\pytor\\Lib\\site-packages\\IPython\\core\\formatters.py:340\u001B[0m, in \u001B[0;36mBaseFormatter.__call__\u001B[1;34m(self, obj)\u001B[0m\n\u001B[0;32m    338\u001B[0m     \u001B[38;5;28;01mpass\u001B[39;00m\n\u001B[0;32m    339\u001B[0m \u001B[38;5;28;01melse\u001B[39;00m:\n\u001B[1;32m--> 340\u001B[0m     \u001B[38;5;28;01mreturn\u001B[39;00m printer(obj)\n\u001B[0;32m    341\u001B[0m \u001B[38;5;66;03m# Finally look for special method names\u001B[39;00m\n\u001B[0;32m    342\u001B[0m method \u001B[38;5;241m=\u001B[39m get_real_method(obj, \u001B[38;5;28mself\u001B[39m\u001B[38;5;241m.\u001B[39mprint_method)\n",
      "File \u001B[1;32mE:\\anaconda\\envs\\pytor\\Lib\\site-packages\\IPython\\core\\pylabtools.py:152\u001B[0m, in \u001B[0;36mprint_figure\u001B[1;34m(fig, fmt, bbox_inches, base64, **kwargs)\u001B[0m\n\u001B[0;32m    149\u001B[0m     \u001B[38;5;28;01mfrom\u001B[39;00m \u001B[38;5;21;01mmatplotlib\u001B[39;00m\u001B[38;5;21;01m.\u001B[39;00m\u001B[38;5;21;01mbackend_bases\u001B[39;00m \u001B[38;5;28;01mimport\u001B[39;00m FigureCanvasBase\n\u001B[0;32m    150\u001B[0m     FigureCanvasBase(fig)\n\u001B[1;32m--> 152\u001B[0m fig\u001B[38;5;241m.\u001B[39mcanvas\u001B[38;5;241m.\u001B[39mprint_figure(bytes_io, \u001B[38;5;241m*\u001B[39m\u001B[38;5;241m*\u001B[39mkw)\n\u001B[0;32m    153\u001B[0m data \u001B[38;5;241m=\u001B[39m bytes_io\u001B[38;5;241m.\u001B[39mgetvalue()\n\u001B[0;32m    154\u001B[0m \u001B[38;5;28;01mif\u001B[39;00m fmt \u001B[38;5;241m==\u001B[39m \u001B[38;5;124m'\u001B[39m\u001B[38;5;124msvg\u001B[39m\u001B[38;5;124m'\u001B[39m:\n",
      "File \u001B[1;32mE:\\anaconda\\envs\\pytor\\Lib\\site-packages\\matplotlib\\backend_bases.py:2187\u001B[0m, in \u001B[0;36mFigureCanvasBase.print_figure\u001B[1;34m(self, filename, dpi, facecolor, edgecolor, orientation, format, bbox_inches, pad_inches, bbox_extra_artists, backend, **kwargs)\u001B[0m\n\u001B[0;32m   2183\u001B[0m \u001B[38;5;28;01mtry\u001B[39;00m:\n\u001B[0;32m   2184\u001B[0m     \u001B[38;5;66;03m# _get_renderer may change the figure dpi (as vector formats\u001B[39;00m\n\u001B[0;32m   2185\u001B[0m     \u001B[38;5;66;03m# force the figure dpi to 72), so we need to set it again here.\u001B[39;00m\n\u001B[0;32m   2186\u001B[0m     \u001B[38;5;28;01mwith\u001B[39;00m cbook\u001B[38;5;241m.\u001B[39m_setattr_cm(\u001B[38;5;28mself\u001B[39m\u001B[38;5;241m.\u001B[39mfigure, dpi\u001B[38;5;241m=\u001B[39mdpi):\n\u001B[1;32m-> 2187\u001B[0m         result \u001B[38;5;241m=\u001B[39m print_method(\n\u001B[0;32m   2188\u001B[0m             filename,\n\u001B[0;32m   2189\u001B[0m             facecolor\u001B[38;5;241m=\u001B[39mfacecolor,\n\u001B[0;32m   2190\u001B[0m             edgecolor\u001B[38;5;241m=\u001B[39medgecolor,\n\u001B[0;32m   2191\u001B[0m             orientation\u001B[38;5;241m=\u001B[39morientation,\n\u001B[0;32m   2192\u001B[0m             bbox_inches_restore\u001B[38;5;241m=\u001B[39m_bbox_inches_restore,\n\u001B[0;32m   2193\u001B[0m             \u001B[38;5;241m*\u001B[39m\u001B[38;5;241m*\u001B[39mkwargs)\n\u001B[0;32m   2194\u001B[0m \u001B[38;5;28;01mfinally\u001B[39;00m:\n\u001B[0;32m   2195\u001B[0m     \u001B[38;5;28;01mif\u001B[39;00m bbox_inches \u001B[38;5;129;01mand\u001B[39;00m restore_bbox:\n",
      "File \u001B[1;32mE:\\anaconda\\envs\\pytor\\Lib\\site-packages\\matplotlib\\backend_bases.py:2043\u001B[0m, in \u001B[0;36mFigureCanvasBase._switch_canvas_and_return_print_method.<locals>.<lambda>\u001B[1;34m(*args, **kwargs)\u001B[0m\n\u001B[0;32m   2039\u001B[0m     optional_kws \u001B[38;5;241m=\u001B[39m {  \u001B[38;5;66;03m# Passed by print_figure for other renderers.\u001B[39;00m\n\u001B[0;32m   2040\u001B[0m         \u001B[38;5;124m\"\u001B[39m\u001B[38;5;124mdpi\u001B[39m\u001B[38;5;124m\"\u001B[39m, \u001B[38;5;124m\"\u001B[39m\u001B[38;5;124mfacecolor\u001B[39m\u001B[38;5;124m\"\u001B[39m, \u001B[38;5;124m\"\u001B[39m\u001B[38;5;124medgecolor\u001B[39m\u001B[38;5;124m\"\u001B[39m, \u001B[38;5;124m\"\u001B[39m\u001B[38;5;124morientation\u001B[39m\u001B[38;5;124m\"\u001B[39m,\n\u001B[0;32m   2041\u001B[0m         \u001B[38;5;124m\"\u001B[39m\u001B[38;5;124mbbox_inches_restore\u001B[39m\u001B[38;5;124m\"\u001B[39m}\n\u001B[0;32m   2042\u001B[0m     skip \u001B[38;5;241m=\u001B[39m optional_kws \u001B[38;5;241m-\u001B[39m {\u001B[38;5;241m*\u001B[39minspect\u001B[38;5;241m.\u001B[39msignature(meth)\u001B[38;5;241m.\u001B[39mparameters}\n\u001B[1;32m-> 2043\u001B[0m     print_method \u001B[38;5;241m=\u001B[39m functools\u001B[38;5;241m.\u001B[39mwraps(meth)(\u001B[38;5;28;01mlambda\u001B[39;00m \u001B[38;5;241m*\u001B[39margs, \u001B[38;5;241m*\u001B[39m\u001B[38;5;241m*\u001B[39mkwargs: meth(\n\u001B[0;32m   2044\u001B[0m         \u001B[38;5;241m*\u001B[39margs, \u001B[38;5;241m*\u001B[39m\u001B[38;5;241m*\u001B[39m{k: v \u001B[38;5;28;01mfor\u001B[39;00m k, v \u001B[38;5;129;01min\u001B[39;00m kwargs\u001B[38;5;241m.\u001B[39mitems() \u001B[38;5;28;01mif\u001B[39;00m k \u001B[38;5;129;01mnot\u001B[39;00m \u001B[38;5;129;01min\u001B[39;00m skip}))\n\u001B[0;32m   2045\u001B[0m \u001B[38;5;28;01melse\u001B[39;00m:  \u001B[38;5;66;03m# Let third-parties do as they see fit.\u001B[39;00m\n\u001B[0;32m   2046\u001B[0m     print_method \u001B[38;5;241m=\u001B[39m meth\n",
      "File \u001B[1;32mE:\\anaconda\\envs\\pytor\\Lib\\site-packages\\matplotlib\\backends\\backend_agg.py:497\u001B[0m, in \u001B[0;36mFigureCanvasAgg.print_png\u001B[1;34m(self, filename_or_obj, metadata, pil_kwargs)\u001B[0m\n\u001B[0;32m    450\u001B[0m \u001B[38;5;28;01mdef\u001B[39;00m \u001B[38;5;21mprint_png\u001B[39m(\u001B[38;5;28mself\u001B[39m, filename_or_obj, \u001B[38;5;241m*\u001B[39m, metadata\u001B[38;5;241m=\u001B[39m\u001B[38;5;28;01mNone\u001B[39;00m, pil_kwargs\u001B[38;5;241m=\u001B[39m\u001B[38;5;28;01mNone\u001B[39;00m):\n\u001B[0;32m    451\u001B[0m \u001B[38;5;250m    \u001B[39m\u001B[38;5;124;03m\"\"\"\u001B[39;00m\n\u001B[0;32m    452\u001B[0m \u001B[38;5;124;03m    Write the figure to a PNG file.\u001B[39;00m\n\u001B[0;32m    453\u001B[0m \n\u001B[1;32m   (...)\u001B[0m\n\u001B[0;32m    495\u001B[0m \u001B[38;5;124;03m        *metadata*, including the default 'Software' key.\u001B[39;00m\n\u001B[0;32m    496\u001B[0m \u001B[38;5;124;03m    \"\"\"\u001B[39;00m\n\u001B[1;32m--> 497\u001B[0m     \u001B[38;5;28mself\u001B[39m\u001B[38;5;241m.\u001B[39m_print_pil(filename_or_obj, \u001B[38;5;124m\"\u001B[39m\u001B[38;5;124mpng\u001B[39m\u001B[38;5;124m\"\u001B[39m, pil_kwargs, metadata)\n",
      "File \u001B[1;32mE:\\anaconda\\envs\\pytor\\Lib\\site-packages\\matplotlib\\backends\\backend_agg.py:445\u001B[0m, in \u001B[0;36mFigureCanvasAgg._print_pil\u001B[1;34m(self, filename_or_obj, fmt, pil_kwargs, metadata)\u001B[0m\n\u001B[0;32m    440\u001B[0m \u001B[38;5;28;01mdef\u001B[39;00m \u001B[38;5;21m_print_pil\u001B[39m(\u001B[38;5;28mself\u001B[39m, filename_or_obj, fmt, pil_kwargs, metadata\u001B[38;5;241m=\u001B[39m\u001B[38;5;28;01mNone\u001B[39;00m):\n\u001B[0;32m    441\u001B[0m \u001B[38;5;250m    \u001B[39m\u001B[38;5;124;03m\"\"\"\u001B[39;00m\n\u001B[0;32m    442\u001B[0m \u001B[38;5;124;03m    Draw the canvas, then save it using `.image.imsave` (to which\u001B[39;00m\n\u001B[0;32m    443\u001B[0m \u001B[38;5;124;03m    *pil_kwargs* and *metadata* are forwarded).\u001B[39;00m\n\u001B[0;32m    444\u001B[0m \u001B[38;5;124;03m    \"\"\"\u001B[39;00m\n\u001B[1;32m--> 445\u001B[0m     FigureCanvasAgg\u001B[38;5;241m.\u001B[39mdraw(\u001B[38;5;28mself\u001B[39m)\n\u001B[0;32m    446\u001B[0m     mpl\u001B[38;5;241m.\u001B[39mimage\u001B[38;5;241m.\u001B[39mimsave(\n\u001B[0;32m    447\u001B[0m         filename_or_obj, \u001B[38;5;28mself\u001B[39m\u001B[38;5;241m.\u001B[39mbuffer_rgba(), \u001B[38;5;28mformat\u001B[39m\u001B[38;5;241m=\u001B[39mfmt, origin\u001B[38;5;241m=\u001B[39m\u001B[38;5;124m\"\u001B[39m\u001B[38;5;124mupper\u001B[39m\u001B[38;5;124m\"\u001B[39m,\n\u001B[0;32m    448\u001B[0m         dpi\u001B[38;5;241m=\u001B[39m\u001B[38;5;28mself\u001B[39m\u001B[38;5;241m.\u001B[39mfigure\u001B[38;5;241m.\u001B[39mdpi, metadata\u001B[38;5;241m=\u001B[39mmetadata, pil_kwargs\u001B[38;5;241m=\u001B[39mpil_kwargs)\n",
      "File \u001B[1;32mE:\\anaconda\\envs\\pytor\\Lib\\site-packages\\matplotlib\\backends\\backend_agg.py:383\u001B[0m, in \u001B[0;36mFigureCanvasAgg.draw\u001B[1;34m(self)\u001B[0m\n\u001B[0;32m    381\u001B[0m \u001B[38;5;28;01mdef\u001B[39;00m \u001B[38;5;21mdraw\u001B[39m(\u001B[38;5;28mself\u001B[39m):\n\u001B[0;32m    382\u001B[0m     \u001B[38;5;66;03m# docstring inherited\u001B[39;00m\n\u001B[1;32m--> 383\u001B[0m     \u001B[38;5;28mself\u001B[39m\u001B[38;5;241m.\u001B[39mrenderer \u001B[38;5;241m=\u001B[39m \u001B[38;5;28mself\u001B[39m\u001B[38;5;241m.\u001B[39mget_renderer()\n\u001B[0;32m    384\u001B[0m     \u001B[38;5;28mself\u001B[39m\u001B[38;5;241m.\u001B[39mrenderer\u001B[38;5;241m.\u001B[39mclear()\n\u001B[0;32m    385\u001B[0m     \u001B[38;5;66;03m# Acquire a lock on the shared font cache.\u001B[39;00m\n",
      "File \u001B[1;32mE:\\anaconda\\envs\\pytor\\Lib\\site-packages\\matplotlib\\backends\\backend_agg.py:398\u001B[0m, in \u001B[0;36mFigureCanvasAgg.get_renderer\u001B[1;34m(self)\u001B[0m\n\u001B[0;32m    396\u001B[0m reuse_renderer \u001B[38;5;241m=\u001B[39m (\u001B[38;5;28mself\u001B[39m\u001B[38;5;241m.\u001B[39m_lastKey \u001B[38;5;241m==\u001B[39m key)\n\u001B[0;32m    397\u001B[0m \u001B[38;5;28;01mif\u001B[39;00m \u001B[38;5;129;01mnot\u001B[39;00m reuse_renderer:\n\u001B[1;32m--> 398\u001B[0m     \u001B[38;5;28mself\u001B[39m\u001B[38;5;241m.\u001B[39mrenderer \u001B[38;5;241m=\u001B[39m RendererAgg(w, h, \u001B[38;5;28mself\u001B[39m\u001B[38;5;241m.\u001B[39mfigure\u001B[38;5;241m.\u001B[39mdpi)\n\u001B[0;32m    399\u001B[0m     \u001B[38;5;28mself\u001B[39m\u001B[38;5;241m.\u001B[39m_lastKey \u001B[38;5;241m=\u001B[39m key\n\u001B[0;32m    400\u001B[0m \u001B[38;5;28;01mreturn\u001B[39;00m \u001B[38;5;28mself\u001B[39m\u001B[38;5;241m.\u001B[39mrenderer\n",
      "File \u001B[1;32mE:\\anaconda\\envs\\pytor\\Lib\\site-packages\\matplotlib\\backends\\backend_agg.py:70\u001B[0m, in \u001B[0;36mRendererAgg.__init__\u001B[1;34m(self, width, height, dpi)\u001B[0m\n\u001B[0;32m     68\u001B[0m \u001B[38;5;28mself\u001B[39m\u001B[38;5;241m.\u001B[39mwidth \u001B[38;5;241m=\u001B[39m width\n\u001B[0;32m     69\u001B[0m \u001B[38;5;28mself\u001B[39m\u001B[38;5;241m.\u001B[39mheight \u001B[38;5;241m=\u001B[39m height\n\u001B[1;32m---> 70\u001B[0m \u001B[38;5;28mself\u001B[39m\u001B[38;5;241m.\u001B[39m_renderer \u001B[38;5;241m=\u001B[39m _RendererAgg(\u001B[38;5;28mint\u001B[39m(width), \u001B[38;5;28mint\u001B[39m(height), dpi)\n\u001B[0;32m     71\u001B[0m \u001B[38;5;28mself\u001B[39m\u001B[38;5;241m.\u001B[39m_filter_renderers \u001B[38;5;241m=\u001B[39m []\n\u001B[0;32m     73\u001B[0m \u001B[38;5;28mself\u001B[39m\u001B[38;5;241m.\u001B[39m_update_methods()\n",
      "\u001B[1;31mValueError\u001B[0m: Image size of 1033001x449 pixels is too large. It must be less than 2^16 in each direction."
     ]
    },
    {
     "data": {
      "text/plain": [
       "<Figure size 640x480 with 1 Axes>"
      ]
     },
     "metadata": {},
     "output_type": "display_data"
    }
   ],
   "execution_count": 39
  },
  {
   "metadata": {
    "ExecuteTime": {
     "end_time": "2024-04-18T12:42:31.088811Z",
     "start_time": "2024-04-18T12:42:30.977359Z"
    }
   },
   "cell_type": "code",
   "source": [
    "fig, ax = plt.subplots(figsize=(10, 20))  # 可以调整这里的尺寸参数\n",
    "plot_importance(bst, importance_type='gain', ax=ax)\n",
    "plt.show()"
   ],
   "id": "26629cd4ee2e42d4",
   "outputs": [
    {
     "ename": "ValueError",
     "evalue": "Image size of 1613888x1619 pixels is too large. It must be less than 2^16 in each direction.",
     "output_type": "error",
     "traceback": [
      "\u001B[1;31m---------------------------------------------------------------------------\u001B[0m",
      "\u001B[1;31mValueError\u001B[0m                                Traceback (most recent call last)",
      "File \u001B[1;32mE:\\anaconda\\envs\\pytor\\Lib\\site-packages\\IPython\\core\\formatters.py:340\u001B[0m, in \u001B[0;36mBaseFormatter.__call__\u001B[1;34m(self, obj)\u001B[0m\n\u001B[0;32m    338\u001B[0m     \u001B[38;5;28;01mpass\u001B[39;00m\n\u001B[0;32m    339\u001B[0m \u001B[38;5;28;01melse\u001B[39;00m:\n\u001B[1;32m--> 340\u001B[0m     \u001B[38;5;28;01mreturn\u001B[39;00m printer(obj)\n\u001B[0;32m    341\u001B[0m \u001B[38;5;66;03m# Finally look for special method names\u001B[39;00m\n\u001B[0;32m    342\u001B[0m method \u001B[38;5;241m=\u001B[39m get_real_method(obj, \u001B[38;5;28mself\u001B[39m\u001B[38;5;241m.\u001B[39mprint_method)\n",
      "File \u001B[1;32mE:\\anaconda\\envs\\pytor\\Lib\\site-packages\\IPython\\core\\pylabtools.py:152\u001B[0m, in \u001B[0;36mprint_figure\u001B[1;34m(fig, fmt, bbox_inches, base64, **kwargs)\u001B[0m\n\u001B[0;32m    149\u001B[0m     \u001B[38;5;28;01mfrom\u001B[39;00m \u001B[38;5;21;01mmatplotlib\u001B[39;00m\u001B[38;5;21;01m.\u001B[39;00m\u001B[38;5;21;01mbackend_bases\u001B[39;00m \u001B[38;5;28;01mimport\u001B[39;00m FigureCanvasBase\n\u001B[0;32m    150\u001B[0m     FigureCanvasBase(fig)\n\u001B[1;32m--> 152\u001B[0m fig\u001B[38;5;241m.\u001B[39mcanvas\u001B[38;5;241m.\u001B[39mprint_figure(bytes_io, \u001B[38;5;241m*\u001B[39m\u001B[38;5;241m*\u001B[39mkw)\n\u001B[0;32m    153\u001B[0m data \u001B[38;5;241m=\u001B[39m bytes_io\u001B[38;5;241m.\u001B[39mgetvalue()\n\u001B[0;32m    154\u001B[0m \u001B[38;5;28;01mif\u001B[39;00m fmt \u001B[38;5;241m==\u001B[39m \u001B[38;5;124m'\u001B[39m\u001B[38;5;124msvg\u001B[39m\u001B[38;5;124m'\u001B[39m:\n",
      "File \u001B[1;32mE:\\anaconda\\envs\\pytor\\Lib\\site-packages\\matplotlib\\backend_bases.py:2187\u001B[0m, in \u001B[0;36mFigureCanvasBase.print_figure\u001B[1;34m(self, filename, dpi, facecolor, edgecolor, orientation, format, bbox_inches, pad_inches, bbox_extra_artists, backend, **kwargs)\u001B[0m\n\u001B[0;32m   2183\u001B[0m \u001B[38;5;28;01mtry\u001B[39;00m:\n\u001B[0;32m   2184\u001B[0m     \u001B[38;5;66;03m# _get_renderer may change the figure dpi (as vector formats\u001B[39;00m\n\u001B[0;32m   2185\u001B[0m     \u001B[38;5;66;03m# force the figure dpi to 72), so we need to set it again here.\u001B[39;00m\n\u001B[0;32m   2186\u001B[0m     \u001B[38;5;28;01mwith\u001B[39;00m cbook\u001B[38;5;241m.\u001B[39m_setattr_cm(\u001B[38;5;28mself\u001B[39m\u001B[38;5;241m.\u001B[39mfigure, dpi\u001B[38;5;241m=\u001B[39mdpi):\n\u001B[1;32m-> 2187\u001B[0m         result \u001B[38;5;241m=\u001B[39m print_method(\n\u001B[0;32m   2188\u001B[0m             filename,\n\u001B[0;32m   2189\u001B[0m             facecolor\u001B[38;5;241m=\u001B[39mfacecolor,\n\u001B[0;32m   2190\u001B[0m             edgecolor\u001B[38;5;241m=\u001B[39medgecolor,\n\u001B[0;32m   2191\u001B[0m             orientation\u001B[38;5;241m=\u001B[39morientation,\n\u001B[0;32m   2192\u001B[0m             bbox_inches_restore\u001B[38;5;241m=\u001B[39m_bbox_inches_restore,\n\u001B[0;32m   2193\u001B[0m             \u001B[38;5;241m*\u001B[39m\u001B[38;5;241m*\u001B[39mkwargs)\n\u001B[0;32m   2194\u001B[0m \u001B[38;5;28;01mfinally\u001B[39;00m:\n\u001B[0;32m   2195\u001B[0m     \u001B[38;5;28;01mif\u001B[39;00m bbox_inches \u001B[38;5;129;01mand\u001B[39;00m restore_bbox:\n",
      "File \u001B[1;32mE:\\anaconda\\envs\\pytor\\Lib\\site-packages\\matplotlib\\backend_bases.py:2043\u001B[0m, in \u001B[0;36mFigureCanvasBase._switch_canvas_and_return_print_method.<locals>.<lambda>\u001B[1;34m(*args, **kwargs)\u001B[0m\n\u001B[0;32m   2039\u001B[0m     optional_kws \u001B[38;5;241m=\u001B[39m {  \u001B[38;5;66;03m# Passed by print_figure for other renderers.\u001B[39;00m\n\u001B[0;32m   2040\u001B[0m         \u001B[38;5;124m\"\u001B[39m\u001B[38;5;124mdpi\u001B[39m\u001B[38;5;124m\"\u001B[39m, \u001B[38;5;124m\"\u001B[39m\u001B[38;5;124mfacecolor\u001B[39m\u001B[38;5;124m\"\u001B[39m, \u001B[38;5;124m\"\u001B[39m\u001B[38;5;124medgecolor\u001B[39m\u001B[38;5;124m\"\u001B[39m, \u001B[38;5;124m\"\u001B[39m\u001B[38;5;124morientation\u001B[39m\u001B[38;5;124m\"\u001B[39m,\n\u001B[0;32m   2041\u001B[0m         \u001B[38;5;124m\"\u001B[39m\u001B[38;5;124mbbox_inches_restore\u001B[39m\u001B[38;5;124m\"\u001B[39m}\n\u001B[0;32m   2042\u001B[0m     skip \u001B[38;5;241m=\u001B[39m optional_kws \u001B[38;5;241m-\u001B[39m {\u001B[38;5;241m*\u001B[39minspect\u001B[38;5;241m.\u001B[39msignature(meth)\u001B[38;5;241m.\u001B[39mparameters}\n\u001B[1;32m-> 2043\u001B[0m     print_method \u001B[38;5;241m=\u001B[39m functools\u001B[38;5;241m.\u001B[39mwraps(meth)(\u001B[38;5;28;01mlambda\u001B[39;00m \u001B[38;5;241m*\u001B[39margs, \u001B[38;5;241m*\u001B[39m\u001B[38;5;241m*\u001B[39mkwargs: meth(\n\u001B[0;32m   2044\u001B[0m         \u001B[38;5;241m*\u001B[39margs, \u001B[38;5;241m*\u001B[39m\u001B[38;5;241m*\u001B[39m{k: v \u001B[38;5;28;01mfor\u001B[39;00m k, v \u001B[38;5;129;01min\u001B[39;00m kwargs\u001B[38;5;241m.\u001B[39mitems() \u001B[38;5;28;01mif\u001B[39;00m k \u001B[38;5;129;01mnot\u001B[39;00m \u001B[38;5;129;01min\u001B[39;00m skip}))\n\u001B[0;32m   2045\u001B[0m \u001B[38;5;28;01melse\u001B[39;00m:  \u001B[38;5;66;03m# Let third-parties do as they see fit.\u001B[39;00m\n\u001B[0;32m   2046\u001B[0m     print_method \u001B[38;5;241m=\u001B[39m meth\n",
      "File \u001B[1;32mE:\\anaconda\\envs\\pytor\\Lib\\site-packages\\matplotlib\\backends\\backend_agg.py:497\u001B[0m, in \u001B[0;36mFigureCanvasAgg.print_png\u001B[1;34m(self, filename_or_obj, metadata, pil_kwargs)\u001B[0m\n\u001B[0;32m    450\u001B[0m \u001B[38;5;28;01mdef\u001B[39;00m \u001B[38;5;21mprint_png\u001B[39m(\u001B[38;5;28mself\u001B[39m, filename_or_obj, \u001B[38;5;241m*\u001B[39m, metadata\u001B[38;5;241m=\u001B[39m\u001B[38;5;28;01mNone\u001B[39;00m, pil_kwargs\u001B[38;5;241m=\u001B[39m\u001B[38;5;28;01mNone\u001B[39;00m):\n\u001B[0;32m    451\u001B[0m \u001B[38;5;250m    \u001B[39m\u001B[38;5;124;03m\"\"\"\u001B[39;00m\n\u001B[0;32m    452\u001B[0m \u001B[38;5;124;03m    Write the figure to a PNG file.\u001B[39;00m\n\u001B[0;32m    453\u001B[0m \n\u001B[1;32m   (...)\u001B[0m\n\u001B[0;32m    495\u001B[0m \u001B[38;5;124;03m        *metadata*, including the default 'Software' key.\u001B[39;00m\n\u001B[0;32m    496\u001B[0m \u001B[38;5;124;03m    \"\"\"\u001B[39;00m\n\u001B[1;32m--> 497\u001B[0m     \u001B[38;5;28mself\u001B[39m\u001B[38;5;241m.\u001B[39m_print_pil(filename_or_obj, \u001B[38;5;124m\"\u001B[39m\u001B[38;5;124mpng\u001B[39m\u001B[38;5;124m\"\u001B[39m, pil_kwargs, metadata)\n",
      "File \u001B[1;32mE:\\anaconda\\envs\\pytor\\Lib\\site-packages\\matplotlib\\backends\\backend_agg.py:445\u001B[0m, in \u001B[0;36mFigureCanvasAgg._print_pil\u001B[1;34m(self, filename_or_obj, fmt, pil_kwargs, metadata)\u001B[0m\n\u001B[0;32m    440\u001B[0m \u001B[38;5;28;01mdef\u001B[39;00m \u001B[38;5;21m_print_pil\u001B[39m(\u001B[38;5;28mself\u001B[39m, filename_or_obj, fmt, pil_kwargs, metadata\u001B[38;5;241m=\u001B[39m\u001B[38;5;28;01mNone\u001B[39;00m):\n\u001B[0;32m    441\u001B[0m \u001B[38;5;250m    \u001B[39m\u001B[38;5;124;03m\"\"\"\u001B[39;00m\n\u001B[0;32m    442\u001B[0m \u001B[38;5;124;03m    Draw the canvas, then save it using `.image.imsave` (to which\u001B[39;00m\n\u001B[0;32m    443\u001B[0m \u001B[38;5;124;03m    *pil_kwargs* and *metadata* are forwarded).\u001B[39;00m\n\u001B[0;32m    444\u001B[0m \u001B[38;5;124;03m    \"\"\"\u001B[39;00m\n\u001B[1;32m--> 445\u001B[0m     FigureCanvasAgg\u001B[38;5;241m.\u001B[39mdraw(\u001B[38;5;28mself\u001B[39m)\n\u001B[0;32m    446\u001B[0m     mpl\u001B[38;5;241m.\u001B[39mimage\u001B[38;5;241m.\u001B[39mimsave(\n\u001B[0;32m    447\u001B[0m         filename_or_obj, \u001B[38;5;28mself\u001B[39m\u001B[38;5;241m.\u001B[39mbuffer_rgba(), \u001B[38;5;28mformat\u001B[39m\u001B[38;5;241m=\u001B[39mfmt, origin\u001B[38;5;241m=\u001B[39m\u001B[38;5;124m\"\u001B[39m\u001B[38;5;124mupper\u001B[39m\u001B[38;5;124m\"\u001B[39m,\n\u001B[0;32m    448\u001B[0m         dpi\u001B[38;5;241m=\u001B[39m\u001B[38;5;28mself\u001B[39m\u001B[38;5;241m.\u001B[39mfigure\u001B[38;5;241m.\u001B[39mdpi, metadata\u001B[38;5;241m=\u001B[39mmetadata, pil_kwargs\u001B[38;5;241m=\u001B[39mpil_kwargs)\n",
      "File \u001B[1;32mE:\\anaconda\\envs\\pytor\\Lib\\site-packages\\matplotlib\\backends\\backend_agg.py:383\u001B[0m, in \u001B[0;36mFigureCanvasAgg.draw\u001B[1;34m(self)\u001B[0m\n\u001B[0;32m    381\u001B[0m \u001B[38;5;28;01mdef\u001B[39;00m \u001B[38;5;21mdraw\u001B[39m(\u001B[38;5;28mself\u001B[39m):\n\u001B[0;32m    382\u001B[0m     \u001B[38;5;66;03m# docstring inherited\u001B[39;00m\n\u001B[1;32m--> 383\u001B[0m     \u001B[38;5;28mself\u001B[39m\u001B[38;5;241m.\u001B[39mrenderer \u001B[38;5;241m=\u001B[39m \u001B[38;5;28mself\u001B[39m\u001B[38;5;241m.\u001B[39mget_renderer()\n\u001B[0;32m    384\u001B[0m     \u001B[38;5;28mself\u001B[39m\u001B[38;5;241m.\u001B[39mrenderer\u001B[38;5;241m.\u001B[39mclear()\n\u001B[0;32m    385\u001B[0m     \u001B[38;5;66;03m# Acquire a lock on the shared font cache.\u001B[39;00m\n",
      "File \u001B[1;32mE:\\anaconda\\envs\\pytor\\Lib\\site-packages\\matplotlib\\backends\\backend_agg.py:398\u001B[0m, in \u001B[0;36mFigureCanvasAgg.get_renderer\u001B[1;34m(self)\u001B[0m\n\u001B[0;32m    396\u001B[0m reuse_renderer \u001B[38;5;241m=\u001B[39m (\u001B[38;5;28mself\u001B[39m\u001B[38;5;241m.\u001B[39m_lastKey \u001B[38;5;241m==\u001B[39m key)\n\u001B[0;32m    397\u001B[0m \u001B[38;5;28;01mif\u001B[39;00m \u001B[38;5;129;01mnot\u001B[39;00m reuse_renderer:\n\u001B[1;32m--> 398\u001B[0m     \u001B[38;5;28mself\u001B[39m\u001B[38;5;241m.\u001B[39mrenderer \u001B[38;5;241m=\u001B[39m RendererAgg(w, h, \u001B[38;5;28mself\u001B[39m\u001B[38;5;241m.\u001B[39mfigure\u001B[38;5;241m.\u001B[39mdpi)\n\u001B[0;32m    399\u001B[0m     \u001B[38;5;28mself\u001B[39m\u001B[38;5;241m.\u001B[39m_lastKey \u001B[38;5;241m=\u001B[39m key\n\u001B[0;32m    400\u001B[0m \u001B[38;5;28;01mreturn\u001B[39;00m \u001B[38;5;28mself\u001B[39m\u001B[38;5;241m.\u001B[39mrenderer\n",
      "File \u001B[1;32mE:\\anaconda\\envs\\pytor\\Lib\\site-packages\\matplotlib\\backends\\backend_agg.py:70\u001B[0m, in \u001B[0;36mRendererAgg.__init__\u001B[1;34m(self, width, height, dpi)\u001B[0m\n\u001B[0;32m     68\u001B[0m \u001B[38;5;28mself\u001B[39m\u001B[38;5;241m.\u001B[39mwidth \u001B[38;5;241m=\u001B[39m width\n\u001B[0;32m     69\u001B[0m \u001B[38;5;28mself\u001B[39m\u001B[38;5;241m.\u001B[39mheight \u001B[38;5;241m=\u001B[39m height\n\u001B[1;32m---> 70\u001B[0m \u001B[38;5;28mself\u001B[39m\u001B[38;5;241m.\u001B[39m_renderer \u001B[38;5;241m=\u001B[39m _RendererAgg(\u001B[38;5;28mint\u001B[39m(width), \u001B[38;5;28mint\u001B[39m(height), dpi)\n\u001B[0;32m     71\u001B[0m \u001B[38;5;28mself\u001B[39m\u001B[38;5;241m.\u001B[39m_filter_renderers \u001B[38;5;241m=\u001B[39m []\n\u001B[0;32m     73\u001B[0m \u001B[38;5;28mself\u001B[39m\u001B[38;5;241m.\u001B[39m_update_methods()\n",
      "\u001B[1;31mValueError\u001B[0m: Image size of 1613888x1619 pixels is too large. It must be less than 2^16 in each direction."
     ]
    },
    {
     "data": {
      "text/plain": [
       "<Figure size 1000x2000 with 1 Axes>"
      ]
     },
     "metadata": {},
     "output_type": "display_data"
    }
   ],
   "execution_count": 40
  },
  {
   "metadata": {
    "ExecuteTime": {
     "end_time": "2024-04-18T12:48:30.961335Z",
     "start_time": "2024-04-18T12:48:30.954682Z"
    }
   },
   "cell_type": "code",
   "source": [
    "# import xgboost as xgb\n",
    "from pyecharts.charts import Bar\n",
    "from pyecharts import options as opts\n",
    "\n",
    "# 假设 bst 是你的 XGBoost 模型\n",
    "f_scores = bst.get_score(importance_type='weight')  # 提取特征重要性，这里使用 'weight'\n",
    "\n",
    "# 准备数据\n",
    "features = list(f_scores.keys())\n",
    "importances = list(f_scores.values())\n",
    "\n",
    "# 使用 Pyecharts 的 Bar 创建条形图\n",
    "bar = Bar()\n",
    "bar.add_xaxis(features)\n",
    "bar.add_yaxis(\"Feature Importance\", importances)\n",
    "bar.set_global_opts(title_opts=opts.TitleOpts(title=\"XGBoost Feature Importance\"),\n",
    "                    xaxis_opts=opts.AxisOpts(axislabel_opts=opts.LabelOpts(rotate=-90)))  # 如果特征名称太长，可以将标签旋转以便阅读\n",
    "\n",
    "# 渲染图表到 HTML 文件，可以在浏览器中查看\n",
    "bar.render('feature_importance.html')\n",
    "\n",
    "print('features:', features)\n",
    "print('importances:', importances)"
   ],
   "id": "4b2953977f6ce656",
   "outputs": [
    {
     "name": "stdout",
     "output_type": "stream",
     "text": [
      "features: ['lstm_1_Y_pred', 'lstm_3_Y_pred', 'lstm_7_Y_pred', 'lstm_15_Y_pred', 'lstm_30_Y_pred']\n",
      "importances: [231.0, 237.0, 218.0, 186.0, 166.0]\n"
     ]
    }
   ],
   "execution_count": 41
  },
  {
   "metadata": {
    "ExecuteTime": {
     "end_time": "2024-04-18T08:47:37.172382Z",
     "start_time": "2024-04-18T08:47:37.155921Z"
    }
   },
   "cell_type": "code",
   "source": [
    "# XGB模型结果 to latex\n",
    "\n",
    "import xgboost as xgb\n",
    "bst = xgb.Booster()\n",
    "bst.load_model(model_path)\n",
    "# 假设你的模型名为bst\n",
    "# 选择要导出的树的编号，例如0\n",
    "tree = bst.get_dump(dump_format='json')[0]  # 使用JSON格式\n",
    "\n",
    "import json\n",
    "\n",
    "tree_structure = json.loads(tree)\n",
    "\n",
    "def generate_tikz(node, depth=0):\n",
    "    indent = \"  \" * depth\n",
    "    if 'leaf' in node:\n",
    "        # 叶子节点，直接返回结果\n",
    "        return f\"{indent}node {{$\\\\text{{叶节点: {node['leaf']}}}$}}\"\n",
    "    else:\n",
    "        # 处理非叶子节点，需要显示条件\n",
    "        condition = node['split'].replace('_', '\\\\_') + ' < ' + str(node['split_condition'])\n",
    "        left_child = generate_tikz(node['children'][0], depth + 1)\n",
    "        right_child = generate_tikz(node['children'][1], depth + 1)\n",
    "        return f\"{indent}node {{$\\\\text{{{condition}}}$}}\\n{indent}child {{\\n{left_child}\\n{indent}}}\\n{indent}child {{\\n{right_child}\\n{indent}}}\"\n",
    "\n",
    "tikz_tree = generate_tikz(tree_structure)\n",
    "print(\"\\\\begin{tikzpicture}\")\n",
    "print(tikz_tree)\n",
    "print(\"\\\\end{tikzpicture}\")\n"
   ],
   "id": "8c2cfa872c36be03",
   "outputs": [
    {
     "name": "stdout",
     "output_type": "stream",
     "text": [
      "\\begin{tikzpicture}\n",
      "node {$\\text{model\\_7\\_Y\\_pred < -0.00072132796}$}\n",
      "child {\n",
      "  node {$\\text{model\\_7\\_Y\\_pred < -0.00683796033}$}\n",
      "  child {\n",
      "    node {$\\text{model\\_7\\_Y\\_pred < -0.0160149857}$}\n",
      "    child {\n",
      "      node {$\\text{叶节点: -0.00655296026}$}\n",
      "    }\n",
      "    child {\n",
      "      node {$\\text{model\\_7\\_Y\\_pred < -0.00910734385}$}\n",
      "      child {\n",
      "        node {$\\text{叶节点: -0.00414063968}$}\n",
      "      }\n",
      "      child {\n",
      "        node {$\\text{叶节点: -0.0031466505}$}\n",
      "      }\n",
      "    }\n",
      "  }\n",
      "  child {\n",
      "    node {$\\text{model\\_7\\_Y\\_pred < -0.00351570919}$}\n",
      "    child {\n",
      "      node {$\\text{model\\_7\\_Y\\_pred < -0.00411598384}$}\n",
      "      child {\n",
      "        node {$\\text{model\\_15\\_Y\\_pred < 0.000997988507}$}\n",
      "        child {\n",
      "          node {$\\text{叶节点: -0.00214806874}$}\n",
      "        }\n",
      "        child {\n",
      "          node {$\\text{叶节点: -0.000417096628}$}\n",
      "        }\n",
      "      }\n",
      "      child {\n",
      "        node {$\\text{model\\_30\\_Y\\_pred < 0.000592828728}$}\n",
      "        child {\n",
      "          node {$\\text{叶节点: -0.00166787661}$}\n",
      "        }\n",
      "        child {\n",
      "          node {$\\text{叶节点: -0.000732398068}$}\n",
      "        }\n",
      "      }\n",
      "    }\n",
      "    child {\n",
      "      node {$\\text{model\\_7\\_Y\\_pred < -0.00199300051}$}\n",
      "      child {\n",
      "        node {$\\text{model\\_15\\_Y\\_pred < 0.0024029254}$}\n",
      "        child {\n",
      "          node {$\\text{叶节点: -0.00123479939}$}\n",
      "        }\n",
      "        child {\n",
      "          node {$\\text{叶节点: -0.000158294657}$}\n",
      "        }\n",
      "      }\n",
      "      child {\n",
      "        node {$\\text{model\\_1\\_Y\\_pred < 0.00146870688}$}\n",
      "        child {\n",
      "          node {$\\text{叶节点: -0.000663605344}$}\n",
      "        }\n",
      "        child {\n",
      "          node {$\\text{叶节点: -0.000970346679}$}\n",
      "        }\n",
      "      }\n",
      "    }\n",
      "  }\n",
      "}\n",
      "child {\n",
      "  node {$\\text{model\\_7\\_Y\\_pred < 0.00435053557}$}\n",
      "  child {\n",
      "    node {$\\text{model\\_7\\_Y\\_pred < 0.00158041343}$}\n",
      "    child {\n",
      "      node {$\\text{model\\_7\\_Y\\_pred < 0.000757828355}$}\n",
      "      child {\n",
      "        node {$\\text{model\\_3\\_Y\\_pred < -0.00458785892}$}\n",
      "        child {\n",
      "          node {$\\text{叶节点: -0.000700618722}$}\n",
      "        }\n",
      "        child {\n",
      "          node {$\\text{叶节点: -0.000264524308}$}\n",
      "        }\n",
      "      }\n",
      "      child {\n",
      "        node {$\\text{model\\_30\\_Y\\_pred < -0.004742519}$}\n",
      "        child {\n",
      "          node {$\\text{叶节点: -0.00110758946}$}\n",
      "        }\n",
      "        child {\n",
      "          node {$\\text{叶节点: 2.44049734e-05}$}\n",
      "        }\n",
      "      }\n",
      "    }\n",
      "    child {\n",
      "      node {$\\text{model\\_7\\_Y\\_pred < 0.00302091241}$}\n",
      "      child {\n",
      "        node {$\\text{model\\_30\\_Y\\_pred < -0.004742519}$}\n",
      "        child {\n",
      "          node {$\\text{叶节点: 0.000958937104}$}\n",
      "        }\n",
      "        child {\n",
      "          node {$\\text{叶节点: 0.000356883946}$}\n",
      "        }\n",
      "      }\n",
      "      child {\n",
      "        node {$\\text{model\\_3\\_Y\\_pred < -0.0116428491}$}\n",
      "        child {\n",
      "          node {$\\text{叶节点: -0.00117905007}$}\n",
      "        }\n",
      "        child {\n",
      "          node {$\\text{叶节点: 0.000905649795}$}\n",
      "        }\n",
      "      }\n",
      "    }\n",
      "  }\n",
      "  child {\n",
      "    node {$\\text{model\\_7\\_Y\\_pred < 0.00771059096}$}\n",
      "    child {\n",
      "      node {$\\text{model\\_7\\_Y\\_pred < 0.00573116168}$}\n",
      "      child {\n",
      "        node {$\\text{model\\_30\\_Y\\_pred < -0.004742519}$}\n",
      "        child {\n",
      "          node {$\\text{叶节点: 0.000677894452}$}\n",
      "        }\n",
      "        child {\n",
      "          node {$\\text{叶节点: 0.00140431093}$}\n",
      "        }\n",
      "      }\n",
      "      child {\n",
      "        node {$\\text{model\\_15\\_Y\\_pred < 0.0035314355}$}\n",
      "        child {\n",
      "          node {$\\text{叶节点: 0.00164065894}$}\n",
      "        }\n",
      "        child {\n",
      "          node {$\\text{叶节点: 0.00209635985}$}\n",
      "        }\n",
      "      }\n",
      "    }\n",
      "    child {\n",
      "      node {$\\text{model\\_7\\_Y\\_pred < 0.0147152729}$}\n",
      "      child {\n",
      "        node {$\\text{model\\_3\\_Y\\_pred < -0.00471106172}$}\n",
      "        child {\n",
      "          node {$\\text{叶节点: 0.000725835678}$}\n",
      "        }\n",
      "        child {\n",
      "          node {$\\text{叶节点: 0.00301953498}$}\n",
      "        }\n",
      "      }\n",
      "      child {\n",
      "        node {$\\text{叶节点: 0.00517170783}$}\n",
      "      }\n",
      "    }\n",
      "  }\n",
      "}\n",
      "\\end{tikzpicture}\n"
     ]
    }
   ],
   "execution_count": 30
  },
  {
   "metadata": {
    "ExecuteTime": {
     "end_time": "2024-04-18T08:17:45.190376Z",
     "start_time": "2024-04-18T08:17:44.832011Z"
    }
   },
   "cell_type": "code",
   "source": [
    "import pygraphviz as pgv\n",
    "\n",
    "# 加载完整的Graphviz图\n",
    "G = pgv.AGraph('vertical_tree.dot')\n",
    "\n",
    "# 辅助函数，递归获取所有子节点\n",
    "def get_all_subtree_nodes(graph, start_node):\n",
    "    subtree_nodes = set()\n",
    "    nodes_to_visit = [start_node]\n",
    "    while nodes_to_visit:\n",
    "        current_node = nodes_to_visit.pop()\n",
    "        if current_node not in subtree_nodes:\n",
    "            subtree_nodes.add(current_node)\n",
    "            nodes_to_visit.extend(graph.successors(current_node))\n",
    "    return list(subtree_nodes)\n",
    "\n",
    "# 假设节点0是根节点，节点1和节点2是第一层的两个分支节点\n",
    "# 子图1包含节点0和以节点1为根节点的所有子树\n",
    "subtree_nodes_1 = get_all_subtree_nodes(G, \"1\")\n",
    "subtree_nodes_1.append(\"0\")  # 添加根节点到子图\n",
    "subgraph1 = G.subgraph(subtree_nodes_1, name='cluster_s1')\n",
    "\n",
    "# 子图2包含节点0和以节点2为根节点的所有子树\n",
    "subtree_nodes_2 = get_all_subtree_nodes(G, \"2\")\n",
    "subtree_nodes_2.append(\"0\")  # 添加根节点到子图\n",
    "subgraph2 = G.subgraph(subtree_nodes_2, name='cluster_s2')\n",
    "\n",
    "# 保存两个子图\n",
    "subgraph1.write('subgraph1.dot')\n",
    "subgraph2.write('subgraph2.dot')\n",
    "\n",
    "# 可以进一步转换为PDF\n",
    "subgraph1.layout(prog='dot')\n",
    "subgraph1.draw('subgraph1.pdf', format='pdf')\n",
    "subgraph2.layout(prog='dot')\n",
    "subgraph2.draw('subgraph2.pdf', format='pdf')\n"
   ],
   "id": "da5780ee5b46d568",
   "outputs": [],
   "execution_count": 26
  }
 ],
 "metadata": {
  "kernelspec": {
   "display_name": "Python 3",
   "language": "python",
   "name": "python3"
  },
  "language_info": {
   "codemirror_mode": {
    "name": "ipython",
    "version": 2
   },
   "file_extension": ".py",
   "mimetype": "text/x-python",
   "name": "python",
   "nbconvert_exporter": "python",
   "pygments_lexer": "ipython2",
   "version": "2.7.6"
  }
 },
 "nbformat": 4,
 "nbformat_minor": 5
}
