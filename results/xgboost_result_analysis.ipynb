{
 "cells": [
  {
   "metadata": {},
   "cell_type": "markdown",
   "source": "# XGB模型可视化",
   "id": "1674134036dcf679"
  },
  {
   "metadata": {
    "ExecuteTime": {
     "end_time": "2024-04-28T06:18:08.168227Z",
     "start_time": "2024-04-28T06:18:07.063197Z"
    }
   },
   "cell_type": "code",
   "source": [
    "import os\n",
    "import xgboost as xgb\n",
    "from xgboost import plot_tree\n",
    "import matplotlib.pyplot as plt\n",
    "import graphviz\n",
    "\n",
    "target_T = 7\n",
    "\n",
    "# 指定Graphviz的路径\n",
    "os.environ[\"PATH\"] += os.pathsep + 'E:\\\\Graphviz\\\\bin'\n",
    "\n",
    "model_path = f'../model/xgb_models/xgb_model_{target_T}.json'\n",
    "if not os.path.isfile(model_path):\n",
    "    print(f\"No file found at {model_path}\")\n",
    "else:\n",
    "    print(f\"File found at {model_path}\")\n",
    "    # 加载模型\n",
    "    bst = xgb.Booster()\n",
    "    bst.load_model(model_path)\n",
    "    # 绘制决策树\n",
    "    plt.figure(figsize=(10, 8))  # 可以调整图形大小\n",
    "    xgb.plot_tree(bst, num_trees=0)\n",
    "    \n",
    "    # 保存图像\n",
    "    plt.savefig(f'../results/XGBoost_FLIXNet/xgb可视化/xgb_model_{target_T}.png', dpi=300, bbox_inches='tight')\n",
    "    plt.show()  # 然后显示图形\n",
    "    plt.close()  # 关闭图形，释放内存\n",
    "    \n",
    "    # 使用to_graphviz生成竖直布局的Graphviz数据\n",
    "    dot = xgb.to_graphviz(bst, num_trees=0, rankdir='TB')\n",
    "    \n",
    "    # 保存到.dot文件\n",
    "    dot_file = '../results/XGBoost_FLIXNet/xgb可视化/vertical_tree.dot'\n",
    "    dot.render(dot_file, format='dot')"
   ],
   "id": "ef6e0a345898a03c",
   "outputs": [
    {
     "name": "stdout",
     "output_type": "stream",
     "text": [
      "File found at ../model/xgb_models/xgb_model_7.json\n"
     ]
    },
    {
     "data": {
      "text/plain": [
       "<Figure size 1000x800 with 0 Axes>"
      ]
     },
     "metadata": {},
     "output_type": "display_data"
    },
    {
     "data": {
      "text/plain": [
       "<Figure size 640x480 with 1 Axes>"
      ],
      "image/png": "[encoded data removed]"
     },
     "metadata": {},
     "output_type": "display_data"
    }
   ],
   "execution_count": 5
  },
  {
   "metadata": {},
   "cell_type": "markdown",
   "source": "# 特征重要性分析",
   "id": "3306f045ad38f248"
  },
  {
   "metadata": {
    "ExecuteTime": {
     "end_time": "2024-04-28T05:54:15.343759Z",
     "start_time": "2024-04-28T05:54:15.216140Z"
    }
   },
   "cell_type": "code",
   "source": [
    "# import xgboost as xgb\n",
    "from pyecharts.charts import Bar\n",
    "from pyecharts import options as opts\n",
    "\n",
    "# 假设 bst 是你的 XGBoost 模型\n",
    "f_scores = bst.get_score(importance_type='weight')  # 提取特征重要性，这里使用 'weight'\n",
    "\n",
    "# 准备数据\n",
    "features = list(f_scores.keys())\n",
    "importances = list(f_scores.values())\n",
    "\n",
    "# 使用 Pyecharts 的 Bar 创建条形图\n",
    "bar = Bar()\n",
    "bar.add_xaxis(features)\n",
    "bar.add_yaxis(\"Feature Importance\", importances)\n",
    "bar.set_global_opts(title_opts=opts.TitleOpts(title=\"XGBoost Feature Importance\"),\n",
    "                    xaxis_opts=opts.AxisOpts(axislabel_opts=opts.LabelOpts(rotate=-90)))  # 如果特征名称太长，可以将标签旋转以便阅读\n",
    "\n",
    "# 渲染图表到 HTML 文件，可以在浏览器中查看\n",
    "bar.render('../results/XGBoost_FLIXNet/xgb可视化/feature_importance.html')\n",
    "\n",
    "print('features:', features)\n",
    "print('importances:', importances)"
   ],
   "id": "4b2953977f6ce656",
   "outputs": [
    {
     "name": "stdout",
     "output_type": "stream",
     "text": [
      "features: ['lstm_13_Y_pred', 'lstm_22_Y_pred', 'lstm_10_Y_pred', 'lstm_16_Y_pred', 'lstm_19_Y_pred', 'lstm_7_Y_pred', 'lstm_28_Y_pred', 'lstm_25_Y_pred', 'lstm_4_Y_pred', 'lstm_1_Y_pred']\n",
      "importances: [139.0, 91.0, 144.0, 82.0, 73.0, 141.0, 72.0, 47.0, 123.0, 107.0]\n"
     ]
    }
   ],
   "execution_count": 3
  },
  {
   "metadata": {
    "ExecuteTime": {
     "end_time": "2024-04-28T05:55:45.964550Z",
     "start_time": "2024-04-28T05:55:45.569335Z"
    }
   },
   "cell_type": "code",
   "source": [
    "import pygraphviz as pgv\n",
    "\n",
    "# 加载完整的Graphviz图\n",
    "G = pgv.AGraph(dot_file)\n",
    "\n",
    "# 辅助函数，递归获取所有子节点\n",
    "def get_all_subtree_nodes(graph, start_node):\n",
    "    subtree_nodes = set()\n",
    "    nodes_to_visit = [start_node]\n",
    "    while nodes_to_visit:\n",
    "        current_node = nodes_to_visit.pop()\n",
    "        if current_node not in subtree_nodes:\n",
    "            subtree_nodes.add(current_node)\n",
    "            nodes_to_visit.extend(graph.successors(current_node))\n",
    "    return list(subtree_nodes)\n",
    "\n",
    "# 假设节点0是根节点，节点1和节点2是第一层的两个分支节点\n",
    "# 子图1包含节点0和以节点1为根节点的所有子树\n",
    "subtree_nodes_1 = get_all_subtree_nodes(G, \"1\")\n",
    "subtree_nodes_1.append(\"0\")  # 添加根节点到子图\n",
    "subgraph1 = G.subgraph(subtree_nodes_1, name='cluster_s1')\n",
    "\n",
    "# 子图2包含节点0和以节点2为根节点的所有子树\n",
    "subtree_nodes_2 = get_all_subtree_nodes(G, \"2\")\n",
    "subtree_nodes_2.append(\"0\")  # 添加根节点到子图\n",
    "subgraph2 = G.subgraph(subtree_nodes_2, name='cluster_s2')\n",
    "\n",
    "# 保存两个子图\n",
    "subgraph1.write('../results/XGBoost_FLIXNet/xgb可视化/subgraph1.dot')\n",
    "subgraph2.write('../results/XGBoost_FLIXNet/xgb可视化/subgraph2.dot')\n",
    "\n",
    "# 可以进一步转换为PDF\n",
    "subgraph1.layout(prog='dot')\n",
    "subgraph1.draw('../results/XGBoost_FLIXNet/xgb可视化/subgraph1.pdf', format='pdf')\n",
    "subgraph2.layout(prog='dot')\n",
    "subgraph2.draw('../results/XGBoost_FLIXNet/xgb可视化/subgraph1.pdf', format='pdf')\n"
   ],
   "id": "da5780ee5b46d568",
   "outputs": [],
   "execution_count": 4
  }
 ],
 "metadata": {
  "kernelspec": {
   "display_name": "Python 3",
   "language": "python",
   "name": "python3"
  },
  "language_info": {
   "codemirror_mode": {
    "name": "ipython",
    "version": 2
   },
   "file_extension": ".py",
   "mimetype": "text/x-python",
   "name": "python",
   "nbconvert_exporter": "python",
   "pygments_lexer": "ipython2",
   "version": "2.7.6"
  }
 },
 "nbformat": 4,
 "nbformat_minor": 5
}
