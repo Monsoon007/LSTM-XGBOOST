{
 "cells": [
  {
   "cell_type": "code",
   "execution_count": null,
   "id": "initial_id",
   "metadata": {
    "collapsed": true
   },
   "outputs": [],
   "source": []
  },
  {
   "cell_type": "markdown",
   "source": [
    "初始宏观数据获取：https://uestc.feishu.cn/wiki/DrMYw98b2iVGRbkBfH3cGzeTnoe#EdkHdlhkkoahbEx18ZxcszeRnzb"
   ],
   "metadata": {
    "collapsed": false
   },
   "id": "59895789850b3828"
  },
  {
   "cell_type": "code",
   "outputs": [],
   "source": [],
   "metadata": {
    "collapsed": false
   },
   "id": "f133ab8765991c8c"
  },
  {
   "cell_type": "code",
   "outputs": [],
   "source": [
    "macro = pd.read_csv('../数据/macro.csv')\n",
    "# 去除有空数据的行\n",
    "macro.dropna(inplace=True)\n",
    "# date列转换为datetime类型,作为索引\n",
    "macro['date'] = pd.to_datetime(macro['date'])\n",
    "macro.set_index('date', inplace=True)\n",
    "# 保存数据\n",
    "macro.to_excel('../数据/macro.xlsx')"
   ],
   "metadata": {
    "collapsed": false
   },
   "id": "c7cf89cdbf28926e"
  }
 ],
 "metadata": {
  "kernelspec": {
   "display_name": "Python 3",
   "language": "python",
   "name": "python3"
  },
  "language_info": {
   "codemirror_mode": {
    "name": "ipython",
    "version": 2
   },
   "file_extension": ".py",
   "mimetype": "text/x-python",
   "name": "python",
   "nbconvert_exporter": "python",
   "pygments_lexer": "ipython2",
   "version": "2.7.6"
  }
 },
 "nbformat": 4,
 "nbformat_minor": 5
}
