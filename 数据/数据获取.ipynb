{
 "cells": [
  {
   "cell_type": "code",
   "execution_count": null,
   "id": "initial_id",
   "metadata": {
    "collapsed": true
   },
   "outputs": [],
   "source": []
  },
  {
   "cell_type": "markdown",
   "source": [
    "# 宏观经济数据获取"
   ],
   "metadata": {
    "collapsed": false
   },
   "id": "fd812a991ccc74c2"
  },
  {
   "cell_type": "markdown",
   "source": [
    "初始宏观数据获取：https://uestc.feishu.cn/wiki/DrMYw98b2iVGRbkBfH3cGzeTnoe#EdkHdlhkkoahbEx18ZxcszeRnzb"
   ],
   "metadata": {
    "collapsed": false
   },
   "id": "59895789850b3828"
  },
  {
   "cell_type": "code",
   "outputs": [],
   "source": [
    "import pandas as pd"
   ],
   "metadata": {
    "collapsed": false,
    "ExecuteTime": {
     "end_time": "2024-04-02T12:01:58.117481Z",
     "start_time": "2024-04-02T12:01:58.100728Z"
    }
   },
   "id": "f133ab8765991c8c",
   "execution_count": 7
  },
  {
   "cell_type": "code",
   "outputs": [],
   "source": [
    "macro = pd.read_csv('../数据/macro.csv')\n",
    "# 去除有空数据的行\n",
    "macro.dropna(inplace=True)\n",
    "# date列转换为datetime类型,作为索引\n",
    "macro['date'] = pd.to_datetime(macro['date'])\n",
    "macro.set_index('date', inplace=True)\n",
    "#去除 Unnamed: 0  \n",
    "macro.drop(columns='Unnamed: 0', inplace=True)\n",
    "# 去除 'instrument`\n",
    "macro.drop(columns='instrument', inplace=True)\n",
    "# 保存数据\n",
    "macro.to_excel('../数据/macro.xlsx')"
   ],
   "metadata": {
    "collapsed": false,
    "ExecuteTime": {
     "end_time": "2024-04-02T12:02:06.381384Z",
     "start_time": "2024-04-02T12:02:05.196485Z"
    }
   },
   "id": "c7cf89cdbf28926e",
   "execution_count": 9
  },
  {
   "cell_type": "markdown",
   "source": [
    "# 情绪数据获取"
   ],
   "metadata": {
    "collapsed": false
   },
   "id": "c1dfb05435a03d3e"
  },
  {
   "cell_type": "code",
   "outputs": [
    {
     "name": "stdout",
     "output_type": "stream",
     "text": [
      "<class 'pandas.core.frame.DataFrame'>\n",
      "Index: 484 entries, 2022-04-06 to 2024-04-01\n",
      "Data columns (total 2 columns):\n",
      " #   Column  Non-Null Count  Dtype  \n",
      "---  ------  --------------  -----  \n",
      " 0   fear    484 non-null    float64\n",
      " 1   index   484 non-null    float64\n",
      "dtypes: float64(2)\n",
      "memory usage: 11.3+ KB\n"
     ]
    }
   ],
   "source": [
    "import akshare as ak\n",
    "\n",
    "index_fear_greed_funddb_df = ak.index_fear_greed_funddb(symbol=\"沪深300\")\n",
    "\n",
    "# date作为索引\n",
    "index_fear_greed_funddb_df.set_index('date',inplace=True)\n",
    "index_fear_greed_funddb_df.info()"
   ],
   "metadata": {
    "collapsed": false,
    "ExecuteTime": {
     "end_time": "2024-04-02T08:14:09.564716Z",
     "start_time": "2024-04-02T08:14:09.011762Z"
    }
   },
   "id": "b48df25461e35238",
   "execution_count": 6
  },
  {
   "cell_type": "code",
   "outputs": [
    {
     "data": {
      "text/plain": "0      2022-04-06\n1      2022-04-07\n2      2022-04-08\n3      2022-04-11\n4      2022-04-12\n          ...    \n479    2024-03-26\n480    2024-03-27\n481    2024-03-28\n482    2024-03-29\n483    2024-04-01\nName: date, Length: 484, dtype: object"
     },
     "execution_count": 3,
     "metadata": {},
     "output_type": "execute_result"
    }
   ],
   "source": [
    "index_fear_greed_funddb_df.date"
   ],
   "metadata": {
    "collapsed": false,
    "ExecuteTime": {
     "end_time": "2024-04-02T08:13:12.302189Z",
     "start_time": "2024-04-02T08:13:12.297258Z"
    }
   },
   "id": "a49649a448e5e077",
   "execution_count": 3
  },
  {
   "cell_type": "code",
   "outputs": [],
   "source": [],
   "metadata": {
    "collapsed": false
   },
   "id": "7743afd518e591ac"
  }
 ],
 "metadata": {
  "kernelspec": {
   "display_name": "Python 3",
   "language": "python",
   "name": "python3"
  },
  "language_info": {
   "codemirror_mode": {
    "name": "ipython",
    "version": 2
   },
   "file_extension": ".py",
   "mimetype": "text/x-python",
   "name": "python",
   "nbconvert_exporter": "python",
   "pygments_lexer": "ipython2",
   "version": "2.7.6"
  }
 },
 "nbformat": 4,
 "nbformat_minor": 5
}
